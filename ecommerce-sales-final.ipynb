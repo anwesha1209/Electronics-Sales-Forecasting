{
 "cells": [
  {
   "cell_type": "markdown",
   "id": "0ee21e8a",
   "metadata": {
    "papermill": {
     "duration": 0.022667,
     "end_time": "2022-11-15T19:12:48.554135",
     "exception": false,
     "start_time": "2022-11-15T19:12:48.531468",
     "status": "completed"
    },
    "tags": []
   },
   "source": [
    "# Setting Up"
   ]
  },
  {
   "cell_type": "code",
   "execution_count": 69,
   "id": "fda26b51",
   "metadata": {
    "execution": {
     "iopub.execute_input": "2022-11-15T19:12:48.593889Z",
     "iopub.status.busy": "2022-11-15T19:12:48.593075Z",
     "iopub.status.idle": "2022-11-15T19:12:48.604359Z",
     "shell.execute_reply": "2022-11-15T19:12:48.603307Z"
    },
    "papermill": {
     "duration": 0.034396,
     "end_time": "2022-11-15T19:12:48.607317",
     "exception": false,
     "start_time": "2022-11-15T19:12:48.572921",
     "status": "completed"
    },
    "tags": []
   },
   "outputs": [],
   "source": [
    "import pandas as pd\n",
    "import matplotlib.pyplot as plt\n",
    "from itertools import combinations\n",
    "from collections import Counter\n",
    "\n",
    "import os\n",
    "import warnings\n",
    "warnings.filterwarnings(\"ignore\")"
   ]
  },
  {
   "cell_type": "code",
   "execution_count": 70,
   "id": "f23af74e",
   "metadata": {},
   "outputs": [],
   "source": [
    "path = \"ecomm_sales.csv\"\n",
    "df = pd.read_csv(path)"
   ]
  },
  {
   "cell_type": "code",
   "execution_count": 71,
   "id": "809c57c7",
   "metadata": {
    "execution": {
     "iopub.execute_input": "2022-11-15T19:12:49.562905Z",
     "iopub.status.busy": "2022-11-15T19:12:49.562177Z",
     "iopub.status.idle": "2022-11-15T19:12:49.594102Z",
     "shell.execute_reply": "2022-11-15T19:12:49.593047Z"
    },
    "papermill": {
     "duration": 0.054774,
     "end_time": "2022-11-15T19:12:49.596904",
     "exception": false,
     "start_time": "2022-11-15T19:12:49.542130",
     "status": "completed"
    },
    "tags": []
   },
   "outputs": [
    {
     "data": {
      "text/html": [
       "<div>\n",
       "<style scoped>\n",
       "    .dataframe tbody tr th:only-of-type {\n",
       "        vertical-align: middle;\n",
       "    }\n",
       "\n",
       "    .dataframe tbody tr th {\n",
       "        vertical-align: top;\n",
       "    }\n",
       "\n",
       "    .dataframe thead th {\n",
       "        text-align: right;\n",
       "    }\n",
       "</style>\n",
       "<table border=\"1\" class=\"dataframe\">\n",
       "  <thead>\n",
       "    <tr style=\"text-align: right;\">\n",
       "      <th></th>\n",
       "      <th>Order ID</th>\n",
       "      <th>Product</th>\n",
       "      <th>Quantity Ordered</th>\n",
       "      <th>Price Each</th>\n",
       "      <th>Order Date</th>\n",
       "      <th>Purchase Address</th>\n",
       "    </tr>\n",
       "  </thead>\n",
       "  <tbody>\n",
       "    <tr>\n",
       "      <th>0</th>\n",
       "      <td>176558</td>\n",
       "      <td>USB-C Charging Cable</td>\n",
       "      <td>2</td>\n",
       "      <td>11.95</td>\n",
       "      <td>04/19/19 08:46</td>\n",
       "      <td>917 1st St, Dallas, TX 75001</td>\n",
       "    </tr>\n",
       "    <tr>\n",
       "      <th>1</th>\n",
       "      <td>NaN</td>\n",
       "      <td>NaN</td>\n",
       "      <td>NaN</td>\n",
       "      <td>NaN</td>\n",
       "      <td>NaN</td>\n",
       "      <td>NaN</td>\n",
       "    </tr>\n",
       "    <tr>\n",
       "      <th>2</th>\n",
       "      <td>176559</td>\n",
       "      <td>Bose SoundSport Headphones</td>\n",
       "      <td>1</td>\n",
       "      <td>99.99</td>\n",
       "      <td>04/07/19 22:30</td>\n",
       "      <td>682 Chestnut St, Boston, MA 02215</td>\n",
       "    </tr>\n",
       "    <tr>\n",
       "      <th>3</th>\n",
       "      <td>176560</td>\n",
       "      <td>Google Phone</td>\n",
       "      <td>1</td>\n",
       "      <td>600</td>\n",
       "      <td>04/12/19 14:38</td>\n",
       "      <td>669 Spruce St, Los Angeles, CA 90001</td>\n",
       "    </tr>\n",
       "    <tr>\n",
       "      <th>4</th>\n",
       "      <td>176560</td>\n",
       "      <td>Wired Headphones</td>\n",
       "      <td>1</td>\n",
       "      <td>11.99</td>\n",
       "      <td>04/12/19 14:38</td>\n",
       "      <td>669 Spruce St, Los Angeles, CA 90001</td>\n",
       "    </tr>\n",
       "  </tbody>\n",
       "</table>\n",
       "</div>"
      ],
      "text/plain": [
       "  Order ID                     Product Quantity Ordered Price Each  \\\n",
       "0   176558        USB-C Charging Cable                2      11.95   \n",
       "1      NaN                         NaN              NaN        NaN   \n",
       "2   176559  Bose SoundSport Headphones                1      99.99   \n",
       "3   176560                Google Phone                1        600   \n",
       "4   176560            Wired Headphones                1      11.99   \n",
       "\n",
       "       Order Date                      Purchase Address  \n",
       "0  04/19/19 08:46          917 1st St, Dallas, TX 75001  \n",
       "1             NaN                                   NaN  \n",
       "2  04/07/19 22:30     682 Chestnut St, Boston, MA 02215  \n",
       "3  04/12/19 14:38  669 Spruce St, Los Angeles, CA 90001  \n",
       "4  04/12/19 14:38  669 Spruce St, Los Angeles, CA 90001  "
      ]
     },
     "execution_count": 71,
     "metadata": {},
     "output_type": "execute_result"
    }
   ],
   "source": [
    "#reading the dataframe\n",
    "df.head()"
   ]
  },
  {
   "cell_type": "code",
   "execution_count": 72,
   "id": "ebcd5cbb",
   "metadata": {
    "execution": {
     "iopub.execute_input": "2022-11-15T19:12:49.636495Z",
     "iopub.status.busy": "2022-11-15T19:12:49.636110Z",
     "iopub.status.idle": "2022-11-15T19:12:49.650300Z",
     "shell.execute_reply": "2022-11-15T19:12:49.648818Z"
    },
    "papermill": {
     "duration": 0.036658,
     "end_time": "2022-11-15T19:12:49.652845",
     "exception": false,
     "start_time": "2022-11-15T19:12:49.616187",
     "status": "completed"
    },
    "tags": []
   },
   "outputs": [
    {
     "data": {
      "text/html": [
       "<div>\n",
       "<style scoped>\n",
       "    .dataframe tbody tr th:only-of-type {\n",
       "        vertical-align: middle;\n",
       "    }\n",
       "\n",
       "    .dataframe tbody tr th {\n",
       "        vertical-align: top;\n",
       "    }\n",
       "\n",
       "    .dataframe thead th {\n",
       "        text-align: right;\n",
       "    }\n",
       "</style>\n",
       "<table border=\"1\" class=\"dataframe\">\n",
       "  <thead>\n",
       "    <tr style=\"text-align: right;\">\n",
       "      <th></th>\n",
       "      <th>Order ID</th>\n",
       "      <th>Product</th>\n",
       "      <th>Quantity Ordered</th>\n",
       "      <th>Price Each</th>\n",
       "      <th>Order Date</th>\n",
       "      <th>Purchase Address</th>\n",
       "    </tr>\n",
       "  </thead>\n",
       "  <tbody>\n",
       "    <tr>\n",
       "      <th>30389</th>\n",
       "      <td>248146</td>\n",
       "      <td>Bose SoundSport Headphones</td>\n",
       "      <td>1</td>\n",
       "      <td>99.99</td>\n",
       "      <td>08/29/19 22:19</td>\n",
       "      <td>868 Hickory St, San Francisco, CA 94016</td>\n",
       "    </tr>\n",
       "    <tr>\n",
       "      <th>30390</th>\n",
       "      <td>248147</td>\n",
       "      <td>AAA Batteries (4-pack)</td>\n",
       "      <td>3</td>\n",
       "      <td>2.99</td>\n",
       "      <td>08/31/19 16:26</td>\n",
       "      <td>206 Lakeview St, Boston, MA 02215</td>\n",
       "    </tr>\n",
       "    <tr>\n",
       "      <th>30391</th>\n",
       "      <td>248148</td>\n",
       "      <td>AA Batteries (4-pack)</td>\n",
       "      <td>1</td>\n",
       "      <td>3.84</td>\n",
       "      <td>08/02/19 07:25</td>\n",
       "      <td>568 13th St, Seattle, WA 98101</td>\n",
       "    </tr>\n",
       "    <tr>\n",
       "      <th>30392</th>\n",
       "      <td>248149</td>\n",
       "      <td>USB-C Charging Cable</td>\n",
       "      <td>1</td>\n",
       "      <td>11.95</td>\n",
       "      <td>08/08/19 12:10</td>\n",
       "      <td>495 Walnut St, San Francisco, CA 94016</td>\n",
       "    </tr>\n",
       "    <tr>\n",
       "      <th>30393</th>\n",
       "      <td>248150</td>\n",
       "      <td>AA Batteries (4-pack)</td>\n",
       "      <td>1</td>\n",
       "      <td>3.84</td>\n",
       "      <td>08/16/19 08:13</td>\n",
       "      <td>738 Park St, Los Angeles, CA 90001</td>\n",
       "    </tr>\n",
       "  </tbody>\n",
       "</table>\n",
       "</div>"
      ],
      "text/plain": [
       "      Order ID                     Product Quantity Ordered Price Each  \\\n",
       "30389   248146  Bose SoundSport Headphones                1      99.99   \n",
       "30390   248147      AAA Batteries (4-pack)                3       2.99   \n",
       "30391   248148       AA Batteries (4-pack)                1       3.84   \n",
       "30392   248149        USB-C Charging Cable                1      11.95   \n",
       "30393   248150       AA Batteries (4-pack)                1       3.84   \n",
       "\n",
       "           Order Date                         Purchase Address  \n",
       "30389  08/29/19 22:19  868 Hickory St, San Francisco, CA 94016  \n",
       "30390  08/31/19 16:26        206 Lakeview St, Boston, MA 02215  \n",
       "30391  08/02/19 07:25           568 13th St, Seattle, WA 98101  \n",
       "30392  08/08/19 12:10   495 Walnut St, San Francisco, CA 94016  \n",
       "30393  08/16/19 08:13       738 Park St, Los Angeles, CA 90001  "
      ]
     },
     "execution_count": 72,
     "metadata": {},
     "output_type": "execute_result"
    }
   ],
   "source": [
    "df.tail()"
   ]
  },
  {
   "cell_type": "markdown",
   "id": "6be31859",
   "metadata": {
    "papermill": {
     "duration": 0.018584,
     "end_time": "2022-11-15T19:12:49.690507",
     "exception": false,
     "start_time": "2022-11-15T19:12:49.671923",
     "status": "completed"
    },
    "tags": []
   },
   "source": [
    "We have successfully got data from April to March (1 year) in a single dataframe."
   ]
  },
  {
   "cell_type": "code",
   "execution_count": 73,
   "id": "3f828f0e",
   "metadata": {
    "execution": {
     "iopub.execute_input": "2022-11-15T19:12:49.730581Z",
     "iopub.status.busy": "2022-11-15T19:12:49.730195Z",
     "iopub.status.idle": "2022-11-15T19:12:50.220149Z",
     "shell.execute_reply": "2022-11-15T19:12:50.218974Z"
    },
    "papermill": {
     "duration": 0.512935,
     "end_time": "2022-11-15T19:12:50.223048",
     "exception": false,
     "start_time": "2022-11-15T19:12:49.710113",
     "status": "completed"
    },
    "tags": []
   },
   "outputs": [
    {
     "data": {
      "text/html": [
       "<div>\n",
       "<style scoped>\n",
       "    .dataframe tbody tr th:only-of-type {\n",
       "        vertical-align: middle;\n",
       "    }\n",
       "\n",
       "    .dataframe tbody tr th {\n",
       "        vertical-align: top;\n",
       "    }\n",
       "\n",
       "    .dataframe thead th {\n",
       "        text-align: right;\n",
       "    }\n",
       "</style>\n",
       "<table border=\"1\" class=\"dataframe\">\n",
       "  <thead>\n",
       "    <tr style=\"text-align: right;\">\n",
       "      <th></th>\n",
       "      <th>count</th>\n",
       "      <th>unique</th>\n",
       "      <th>top</th>\n",
       "      <th>freq</th>\n",
       "    </tr>\n",
       "  </thead>\n",
       "  <tbody>\n",
       "    <tr>\n",
       "      <th>Order ID</th>\n",
       "      <td>30307</td>\n",
       "      <td>29019</td>\n",
       "      <td>Order ID</td>\n",
       "      <td>61</td>\n",
       "    </tr>\n",
       "    <tr>\n",
       "      <th>Product</th>\n",
       "      <td>30307</td>\n",
       "      <td>20</td>\n",
       "      <td>Lightning Charging Cable</td>\n",
       "      <td>3556</td>\n",
       "    </tr>\n",
       "    <tr>\n",
       "      <th>Quantity Ordered</th>\n",
       "      <td>30307</td>\n",
       "      <td>9</td>\n",
       "      <td>1</td>\n",
       "      <td>27405</td>\n",
       "    </tr>\n",
       "    <tr>\n",
       "      <th>Price Each</th>\n",
       "      <td>30307</td>\n",
       "      <td>24</td>\n",
       "      <td>14.95</td>\n",
       "      <td>3556</td>\n",
       "    </tr>\n",
       "    <tr>\n",
       "      <th>Order Date</th>\n",
       "      <td>30307</td>\n",
       "      <td>23316</td>\n",
       "      <td>Order Date</td>\n",
       "      <td>61</td>\n",
       "    </tr>\n",
       "    <tr>\n",
       "      <th>Purchase Address</th>\n",
       "      <td>30307</td>\n",
       "      <td>27854</td>\n",
       "      <td>Purchase Address</td>\n",
       "      <td>61</td>\n",
       "    </tr>\n",
       "  </tbody>\n",
       "</table>\n",
       "</div>"
      ],
      "text/plain": [
       "                  count unique                       top   freq\n",
       "Order ID          30307  29019                  Order ID     61\n",
       "Product           30307     20  Lightning Charging Cable   3556\n",
       "Quantity Ordered  30307      9                         1  27405\n",
       "Price Each        30307     24                     14.95   3556\n",
       "Order Date        30307  23316                Order Date     61\n",
       "Purchase Address  30307  27854          Purchase Address     61"
      ]
     },
     "execution_count": 73,
     "metadata": {},
     "output_type": "execute_result"
    }
   ],
   "source": [
    "df.describe(include='all').T"
   ]
  },
  {
   "cell_type": "markdown",
   "id": "b4ca13c2",
   "metadata": {
    "papermill": {
     "duration": 0.019026,
     "end_time": "2022-11-15T19:12:50.261374",
     "exception": false,
     "start_time": "2022-11-15T19:12:50.242348",
     "status": "completed"
    },
    "tags": []
   },
   "source": [
    "Looks like we have some unexpected values in the Order ID, Order Date, and Purchase Address Columns, where the column title is substituted for the input. We shall clean it up."
   ]
  },
  {
   "cell_type": "code",
   "execution_count": 74,
   "id": "7fde1fa3",
   "metadata": {
    "execution": {
     "iopub.execute_input": "2022-11-15T19:12:50.302301Z",
     "iopub.status.busy": "2022-11-15T19:12:50.301382Z",
     "iopub.status.idle": "2022-11-15T19:12:50.381855Z",
     "shell.execute_reply": "2022-11-15T19:12:50.379987Z"
    },
    "papermill": {
     "duration": 0.104396,
     "end_time": "2022-11-15T19:12:50.385047",
     "exception": false,
     "start_time": "2022-11-15T19:12:50.280651",
     "status": "completed"
    },
    "tags": []
   },
   "outputs": [
    {
     "name": "stdout",
     "output_type": "stream",
     "text": [
      "<class 'pandas.core.frame.DataFrame'>\n",
      "RangeIndex: 30394 entries, 0 to 30393\n",
      "Data columns (total 6 columns):\n",
      " #   Column            Non-Null Count  Dtype \n",
      "---  ------            --------------  ----- \n",
      " 0   Order ID          30307 non-null  object\n",
      " 1   Product           30307 non-null  object\n",
      " 2   Quantity Ordered  30307 non-null  object\n",
      " 3   Price Each        30307 non-null  object\n",
      " 4   Order Date        30307 non-null  object\n",
      " 5   Purchase Address  30307 non-null  object\n",
      "dtypes: object(6)\n",
      "memory usage: 1.4+ MB\n"
     ]
    }
   ],
   "source": [
    "df.info()"
   ]
  },
  {
   "cell_type": "markdown",
   "id": "c2ca9557",
   "metadata": {
    "papermill": {
     "duration": 0.018959,
     "end_time": "2022-11-15T19:12:50.423718",
     "exception": false,
     "start_time": "2022-11-15T19:12:50.404759",
     "status": "completed"
    },
    "tags": []
   },
   "source": [
    "# Data Cleaning"
   ]
  },
  {
   "cell_type": "code",
   "execution_count": 75,
   "id": "4076084c",
   "metadata": {
    "execution": {
     "iopub.execute_input": "2022-11-15T19:12:50.464214Z",
     "iopub.status.busy": "2022-11-15T19:12:50.463757Z",
     "iopub.status.idle": "2022-11-15T19:12:50.520590Z",
     "shell.execute_reply": "2022-11-15T19:12:50.519137Z"
    },
    "papermill": {
     "duration": 0.080176,
     "end_time": "2022-11-15T19:12:50.523154",
     "exception": false,
     "start_time": "2022-11-15T19:12:50.442978",
     "status": "completed"
    },
    "tags": []
   },
   "outputs": [
    {
     "data": {
      "text/plain": [
       "array([False,  True, False, ..., False, False, False])"
      ]
     },
     "execution_count": 75,
     "metadata": {},
     "output_type": "execute_result"
    }
   ],
   "source": [
    "#checking for nan values\n",
    "df.isnull().values.any(axis=1)"
   ]
  },
  {
   "cell_type": "code",
   "execution_count": 76,
   "id": "b7026728",
   "metadata": {
    "execution": {
     "iopub.execute_input": "2022-11-15T19:12:50.564823Z",
     "iopub.status.busy": "2022-11-15T19:12:50.563621Z",
     "iopub.status.idle": "2022-11-15T19:12:50.621105Z",
     "shell.execute_reply": "2022-11-15T19:12:50.620210Z"
    },
    "papermill": {
     "duration": 0.081003,
     "end_time": "2022-11-15T19:12:50.623602",
     "exception": false,
     "start_time": "2022-11-15T19:12:50.542599",
     "status": "completed"
    },
    "tags": []
   },
   "outputs": [
    {
     "data": {
      "text/plain": [
       "522"
      ]
     },
     "execution_count": 76,
     "metadata": {},
     "output_type": "execute_result"
    }
   ],
   "source": [
    "#counting nan values\n",
    "df.isnull().sum().sum()"
   ]
  },
  {
   "cell_type": "code",
   "execution_count": 77,
   "id": "1f88b144",
   "metadata": {
    "execution": {
     "iopub.execute_input": "2022-11-15T19:12:50.665711Z",
     "iopub.status.busy": "2022-11-15T19:12:50.664879Z",
     "iopub.status.idle": "2022-11-15T19:12:50.730664Z",
     "shell.execute_reply": "2022-11-15T19:12:50.729500Z"
    },
    "papermill": {
     "duration": 0.090034,
     "end_time": "2022-11-15T19:12:50.733281",
     "exception": false,
     "start_time": "2022-11-15T19:12:50.643247",
     "status": "completed"
    },
    "tags": []
   },
   "outputs": [
    {
     "data": {
      "text/html": [
       "<div>\n",
       "<style scoped>\n",
       "    .dataframe tbody tr th:only-of-type {\n",
       "        vertical-align: middle;\n",
       "    }\n",
       "\n",
       "    .dataframe tbody tr th {\n",
       "        vertical-align: top;\n",
       "    }\n",
       "\n",
       "    .dataframe thead th {\n",
       "        text-align: right;\n",
       "    }\n",
       "</style>\n",
       "<table border=\"1\" class=\"dataframe\">\n",
       "  <thead>\n",
       "    <tr style=\"text-align: right;\">\n",
       "      <th></th>\n",
       "      <th>Order ID</th>\n",
       "      <th>Product</th>\n",
       "      <th>Quantity Ordered</th>\n",
       "      <th>Price Each</th>\n",
       "      <th>Order Date</th>\n",
       "      <th>Purchase Address</th>\n",
       "    </tr>\n",
       "  </thead>\n",
       "  <tbody>\n",
       "    <tr>\n",
       "      <th>1</th>\n",
       "      <td>NaN</td>\n",
       "      <td>NaN</td>\n",
       "      <td>NaN</td>\n",
       "      <td>NaN</td>\n",
       "      <td>NaN</td>\n",
       "      <td>NaN</td>\n",
       "    </tr>\n",
       "    <tr>\n",
       "      <th>356</th>\n",
       "      <td>NaN</td>\n",
       "      <td>NaN</td>\n",
       "      <td>NaN</td>\n",
       "      <td>NaN</td>\n",
       "      <td>NaN</td>\n",
       "      <td>NaN</td>\n",
       "    </tr>\n",
       "    <tr>\n",
       "      <th>735</th>\n",
       "      <td>NaN</td>\n",
       "      <td>NaN</td>\n",
       "      <td>NaN</td>\n",
       "      <td>NaN</td>\n",
       "      <td>NaN</td>\n",
       "      <td>NaN</td>\n",
       "    </tr>\n",
       "    <tr>\n",
       "      <th>1433</th>\n",
       "      <td>NaN</td>\n",
       "      <td>NaN</td>\n",
       "      <td>NaN</td>\n",
       "      <td>NaN</td>\n",
       "      <td>NaN</td>\n",
       "      <td>NaN</td>\n",
       "    </tr>\n",
       "    <tr>\n",
       "      <th>1553</th>\n",
       "      <td>NaN</td>\n",
       "      <td>NaN</td>\n",
       "      <td>NaN</td>\n",
       "      <td>NaN</td>\n",
       "      <td>NaN</td>\n",
       "      <td>NaN</td>\n",
       "    </tr>\n",
       "    <tr>\n",
       "      <th>...</th>\n",
       "      <td>...</td>\n",
       "      <td>...</td>\n",
       "      <td>...</td>\n",
       "      <td>...</td>\n",
       "      <td>...</td>\n",
       "      <td>...</td>\n",
       "    </tr>\n",
       "    <tr>\n",
       "      <th>28132</th>\n",
       "      <td>NaN</td>\n",
       "      <td>NaN</td>\n",
       "      <td>NaN</td>\n",
       "      <td>NaN</td>\n",
       "      <td>NaN</td>\n",
       "      <td>NaN</td>\n",
       "    </tr>\n",
       "    <tr>\n",
       "      <th>28879</th>\n",
       "      <td>NaN</td>\n",
       "      <td>NaN</td>\n",
       "      <td>NaN</td>\n",
       "      <td>NaN</td>\n",
       "      <td>NaN</td>\n",
       "      <td>NaN</td>\n",
       "    </tr>\n",
       "    <tr>\n",
       "      <th>29097</th>\n",
       "      <td>NaN</td>\n",
       "      <td>NaN</td>\n",
       "      <td>NaN</td>\n",
       "      <td>NaN</td>\n",
       "      <td>NaN</td>\n",
       "      <td>NaN</td>\n",
       "    </tr>\n",
       "    <tr>\n",
       "      <th>29247</th>\n",
       "      <td>NaN</td>\n",
       "      <td>NaN</td>\n",
       "      <td>NaN</td>\n",
       "      <td>NaN</td>\n",
       "      <td>NaN</td>\n",
       "      <td>NaN</td>\n",
       "    </tr>\n",
       "    <tr>\n",
       "      <th>29257</th>\n",
       "      <td>NaN</td>\n",
       "      <td>NaN</td>\n",
       "      <td>NaN</td>\n",
       "      <td>NaN</td>\n",
       "      <td>NaN</td>\n",
       "      <td>NaN</td>\n",
       "    </tr>\n",
       "  </tbody>\n",
       "</table>\n",
       "<p>87 rows × 6 columns</p>\n",
       "</div>"
      ],
      "text/plain": [
       "      Order ID Product Quantity Ordered Price Each Order Date Purchase Address\n",
       "1          NaN     NaN              NaN        NaN        NaN              NaN\n",
       "356        NaN     NaN              NaN        NaN        NaN              NaN\n",
       "735        NaN     NaN              NaN        NaN        NaN              NaN\n",
       "1433       NaN     NaN              NaN        NaN        NaN              NaN\n",
       "1553       NaN     NaN              NaN        NaN        NaN              NaN\n",
       "...        ...     ...              ...        ...        ...              ...\n",
       "28132      NaN     NaN              NaN        NaN        NaN              NaN\n",
       "28879      NaN     NaN              NaN        NaN        NaN              NaN\n",
       "29097      NaN     NaN              NaN        NaN        NaN              NaN\n",
       "29247      NaN     NaN              NaN        NaN        NaN              NaN\n",
       "29257      NaN     NaN              NaN        NaN        NaN              NaN\n",
       "\n",
       "[87 rows x 6 columns]"
      ]
     },
     "execution_count": 77,
     "metadata": {},
     "output_type": "execute_result"
    }
   ],
   "source": [
    "#extracting rows with nan values\n",
    "df_nan = df[df.isnull().values.any(axis=1)]\n",
    "df_nan"
   ]
  },
  {
   "cell_type": "markdown",
   "id": "70dc7560",
   "metadata": {
    "papermill": {
     "duration": 0.019703,
     "end_time": "2022-11-15T19:12:50.773029",
     "exception": false,
     "start_time": "2022-11-15T19:12:50.753326",
     "status": "completed"
    },
    "tags": []
   },
   "source": [
    "We have entire rows with NaN values, which will not contribute to our analysis in any way."
   ]
  },
  {
   "cell_type": "code",
   "execution_count": 78,
   "id": "12ec509b",
   "metadata": {
    "execution": {
     "iopub.execute_input": "2022-11-15T19:12:50.816213Z",
     "iopub.status.busy": "2022-11-15T19:12:50.814635Z",
     "iopub.status.idle": "2022-11-15T19:12:50.890982Z",
     "shell.execute_reply": "2022-11-15T19:12:50.889849Z"
    },
    "papermill": {
     "duration": 0.100782,
     "end_time": "2022-11-15T19:12:50.893759",
     "exception": false,
     "start_time": "2022-11-15T19:12:50.792977",
     "status": "completed"
    },
    "tags": []
   },
   "outputs": [],
   "source": [
    "#dropping rows with nan values\n",
    "df = df.dropna(how = 'all')"
   ]
  },
  {
   "cell_type": "code",
   "execution_count": 79,
   "id": "a206a3d8",
   "metadata": {
    "execution": {
     "iopub.execute_input": "2022-11-15T19:12:50.936959Z",
     "iopub.status.busy": "2022-11-15T19:12:50.935899Z",
     "iopub.status.idle": "2022-11-15T19:12:50.996262Z",
     "shell.execute_reply": "2022-11-15T19:12:50.994708Z"
    },
    "papermill": {
     "duration": 0.086108,
     "end_time": "2022-11-15T19:12:51.000139",
     "exception": false,
     "start_time": "2022-11-15T19:12:50.914031",
     "status": "completed"
    },
    "tags": []
   },
   "outputs": [
    {
     "name": "stdout",
     "output_type": "stream",
     "text": [
      "<class 'pandas.core.frame.DataFrame'>\n",
      "Index: 30307 entries, 0 to 30393\n",
      "Data columns (total 6 columns):\n",
      " #   Column            Non-Null Count  Dtype \n",
      "---  ------            --------------  ----- \n",
      " 0   Order ID          30307 non-null  object\n",
      " 1   Product           30307 non-null  object\n",
      " 2   Quantity Ordered  30307 non-null  object\n",
      " 3   Price Each        30307 non-null  object\n",
      " 4   Order Date        30307 non-null  object\n",
      " 5   Purchase Address  30307 non-null  object\n",
      "dtypes: object(6)\n",
      "memory usage: 1.6+ MB\n"
     ]
    }
   ],
   "source": [
    "df.info()"
   ]
  },
  {
   "cell_type": "code",
   "execution_count": 80,
   "id": "57ad7e6a",
   "metadata": {
    "execution": {
     "iopub.execute_input": "2022-11-15T19:12:51.043843Z",
     "iopub.status.busy": "2022-11-15T19:12:51.042625Z",
     "iopub.status.idle": "2022-11-15T19:12:51.059269Z",
     "shell.execute_reply": "2022-11-15T19:12:51.058340Z"
    },
    "papermill": {
     "duration": 0.040763,
     "end_time": "2022-11-15T19:12:51.061439",
     "exception": false,
     "start_time": "2022-11-15T19:12:51.020676",
     "status": "completed"
    },
    "tags": []
   },
   "outputs": [
    {
     "data": {
      "text/html": [
       "<div>\n",
       "<style scoped>\n",
       "    .dataframe tbody tr th:only-of-type {\n",
       "        vertical-align: middle;\n",
       "    }\n",
       "\n",
       "    .dataframe tbody tr th {\n",
       "        vertical-align: top;\n",
       "    }\n",
       "\n",
       "    .dataframe thead th {\n",
       "        text-align: right;\n",
       "    }\n",
       "</style>\n",
       "<table border=\"1\" class=\"dataframe\">\n",
       "  <thead>\n",
       "    <tr style=\"text-align: right;\">\n",
       "      <th></th>\n",
       "      <th>Order ID</th>\n",
       "      <th>Product</th>\n",
       "      <th>Quantity Ordered</th>\n",
       "      <th>Price Each</th>\n",
       "      <th>Order Date</th>\n",
       "      <th>Purchase Address</th>\n",
       "    </tr>\n",
       "  </thead>\n",
       "  <tbody>\n",
       "    <tr>\n",
       "      <th>0</th>\n",
       "      <td>176558</td>\n",
       "      <td>USB-C Charging Cable</td>\n",
       "      <td>2</td>\n",
       "      <td>11.95</td>\n",
       "      <td>04/19/19 08:46</td>\n",
       "      <td>917 1st St, Dallas, TX 75001</td>\n",
       "    </tr>\n",
       "    <tr>\n",
       "      <th>2</th>\n",
       "      <td>176559</td>\n",
       "      <td>Bose SoundSport Headphones</td>\n",
       "      <td>1</td>\n",
       "      <td>99.99</td>\n",
       "      <td>04/07/19 22:30</td>\n",
       "      <td>682 Chestnut St, Boston, MA 02215</td>\n",
       "    </tr>\n",
       "    <tr>\n",
       "      <th>3</th>\n",
       "      <td>176560</td>\n",
       "      <td>Google Phone</td>\n",
       "      <td>1</td>\n",
       "      <td>600</td>\n",
       "      <td>04/12/19 14:38</td>\n",
       "      <td>669 Spruce St, Los Angeles, CA 90001</td>\n",
       "    </tr>\n",
       "    <tr>\n",
       "      <th>4</th>\n",
       "      <td>176560</td>\n",
       "      <td>Wired Headphones</td>\n",
       "      <td>1</td>\n",
       "      <td>11.99</td>\n",
       "      <td>04/12/19 14:38</td>\n",
       "      <td>669 Spruce St, Los Angeles, CA 90001</td>\n",
       "    </tr>\n",
       "    <tr>\n",
       "      <th>5</th>\n",
       "      <td>176561</td>\n",
       "      <td>Wired Headphones</td>\n",
       "      <td>1</td>\n",
       "      <td>11.99</td>\n",
       "      <td>04/30/19 09:27</td>\n",
       "      <td>333 8th St, Los Angeles, CA 90001</td>\n",
       "    </tr>\n",
       "    <tr>\n",
       "      <th>...</th>\n",
       "      <td>...</td>\n",
       "      <td>...</td>\n",
       "      <td>...</td>\n",
       "      <td>...</td>\n",
       "      <td>...</td>\n",
       "      <td>...</td>\n",
       "    </tr>\n",
       "    <tr>\n",
       "      <th>30389</th>\n",
       "      <td>248146</td>\n",
       "      <td>Bose SoundSport Headphones</td>\n",
       "      <td>1</td>\n",
       "      <td>99.99</td>\n",
       "      <td>08/29/19 22:19</td>\n",
       "      <td>868 Hickory St, San Francisco, CA 94016</td>\n",
       "    </tr>\n",
       "    <tr>\n",
       "      <th>30390</th>\n",
       "      <td>248147</td>\n",
       "      <td>AAA Batteries (4-pack)</td>\n",
       "      <td>3</td>\n",
       "      <td>2.99</td>\n",
       "      <td>08/31/19 16:26</td>\n",
       "      <td>206 Lakeview St, Boston, MA 02215</td>\n",
       "    </tr>\n",
       "    <tr>\n",
       "      <th>30391</th>\n",
       "      <td>248148</td>\n",
       "      <td>AA Batteries (4-pack)</td>\n",
       "      <td>1</td>\n",
       "      <td>3.84</td>\n",
       "      <td>08/02/19 07:25</td>\n",
       "      <td>568 13th St, Seattle, WA 98101</td>\n",
       "    </tr>\n",
       "    <tr>\n",
       "      <th>30392</th>\n",
       "      <td>248149</td>\n",
       "      <td>USB-C Charging Cable</td>\n",
       "      <td>1</td>\n",
       "      <td>11.95</td>\n",
       "      <td>08/08/19 12:10</td>\n",
       "      <td>495 Walnut St, San Francisco, CA 94016</td>\n",
       "    </tr>\n",
       "    <tr>\n",
       "      <th>30393</th>\n",
       "      <td>248150</td>\n",
       "      <td>AA Batteries (4-pack)</td>\n",
       "      <td>1</td>\n",
       "      <td>3.84</td>\n",
       "      <td>08/16/19 08:13</td>\n",
       "      <td>738 Park St, Los Angeles, CA 90001</td>\n",
       "    </tr>\n",
       "  </tbody>\n",
       "</table>\n",
       "<p>30307 rows × 6 columns</p>\n",
       "</div>"
      ],
      "text/plain": [
       "      Order ID                     Product Quantity Ordered Price Each  \\\n",
       "0       176558        USB-C Charging Cable                2      11.95   \n",
       "2       176559  Bose SoundSport Headphones                1      99.99   \n",
       "3       176560                Google Phone                1        600   \n",
       "4       176560            Wired Headphones                1      11.99   \n",
       "5       176561            Wired Headphones                1      11.99   \n",
       "...        ...                         ...              ...        ...   \n",
       "30389   248146  Bose SoundSport Headphones                1      99.99   \n",
       "30390   248147      AAA Batteries (4-pack)                3       2.99   \n",
       "30391   248148       AA Batteries (4-pack)                1       3.84   \n",
       "30392   248149        USB-C Charging Cable                1      11.95   \n",
       "30393   248150       AA Batteries (4-pack)                1       3.84   \n",
       "\n",
       "           Order Date                         Purchase Address  \n",
       "0      04/19/19 08:46             917 1st St, Dallas, TX 75001  \n",
       "2      04/07/19 22:30        682 Chestnut St, Boston, MA 02215  \n",
       "3      04/12/19 14:38     669 Spruce St, Los Angeles, CA 90001  \n",
       "4      04/12/19 14:38     669 Spruce St, Los Angeles, CA 90001  \n",
       "5      04/30/19 09:27        333 8th St, Los Angeles, CA 90001  \n",
       "...               ...                                      ...  \n",
       "30389  08/29/19 22:19  868 Hickory St, San Francisco, CA 94016  \n",
       "30390  08/31/19 16:26        206 Lakeview St, Boston, MA 02215  \n",
       "30391  08/02/19 07:25           568 13th St, Seattle, WA 98101  \n",
       "30392  08/08/19 12:10   495 Walnut St, San Francisco, CA 94016  \n",
       "30393  08/16/19 08:13       738 Park St, Los Angeles, CA 90001  \n",
       "\n",
       "[30307 rows x 6 columns]"
      ]
     },
     "execution_count": 80,
     "metadata": {},
     "output_type": "execute_result"
    }
   ],
   "source": [
    "df"
   ]
  },
  {
   "cell_type": "code",
   "execution_count": 81,
   "id": "e43e975d",
   "metadata": {
    "execution": {
     "iopub.execute_input": "2022-11-15T19:12:51.104319Z",
     "iopub.status.busy": "2022-11-15T19:12:51.103289Z",
     "iopub.status.idle": "2022-11-15T19:12:51.162481Z",
     "shell.execute_reply": "2022-11-15T19:12:51.160753Z"
    },
    "papermill": {
     "duration": 0.083719,
     "end_time": "2022-11-15T19:12:51.165482",
     "exception": false,
     "start_time": "2022-11-15T19:12:51.081763",
     "status": "completed"
    },
    "tags": []
   },
   "outputs": [
    {
     "data": {
      "text/html": [
       "<div>\n",
       "<style scoped>\n",
       "    .dataframe tbody tr th:only-of-type {\n",
       "        vertical-align: middle;\n",
       "    }\n",
       "\n",
       "    .dataframe tbody tr th {\n",
       "        vertical-align: top;\n",
       "    }\n",
       "\n",
       "    .dataframe thead th {\n",
       "        text-align: right;\n",
       "    }\n",
       "</style>\n",
       "<table border=\"1\" class=\"dataframe\">\n",
       "  <thead>\n",
       "    <tr style=\"text-align: right;\">\n",
       "      <th></th>\n",
       "      <th>Order ID</th>\n",
       "      <th>Product</th>\n",
       "      <th>Quantity Ordered</th>\n",
       "      <th>Price Each</th>\n",
       "      <th>Order Date</th>\n",
       "      <th>Purchase Address</th>\n",
       "    </tr>\n",
       "  </thead>\n",
       "  <tbody>\n",
       "  </tbody>\n",
       "</table>\n",
       "</div>"
      ],
      "text/plain": [
       "Empty DataFrame\n",
       "Columns: [Order ID, Product, Quantity Ordered, Price Each, Order Date, Purchase Address]\n",
       "Index: []"
      ]
     },
     "execution_count": 81,
     "metadata": {},
     "output_type": "execute_result"
    }
   ],
   "source": [
    "#rechcking if there are rows with nan values/\n",
    "df_nan1 = df[df.isnull().values.any(axis=1)]\n",
    "df_nan1"
   ]
  },
  {
   "cell_type": "markdown",
   "id": "ec49eb29",
   "metadata": {
    "papermill": {
     "duration": 0.020871,
     "end_time": "2022-11-15T19:12:51.206945",
     "exception": false,
     "start_time": "2022-11-15T19:12:51.186074",
     "status": "completed"
    },
    "tags": []
   },
   "source": [
    "We have successfully cleaned all rows with NaN values.\n",
    "\n",
    "Now, let's check for duplicate values as we noticed Purchase Address, Order Date and Order ID columns have column name in multiple places instead of the original value. "
   ]
  },
  {
   "cell_type": "code",
   "execution_count": 82,
   "id": "0b2ab573",
   "metadata": {
    "execution": {
     "iopub.execute_input": "2022-11-15T19:12:51.250868Z",
     "iopub.status.busy": "2022-11-15T19:12:51.250412Z",
     "iopub.status.idle": "2022-11-15T19:12:56.937070Z",
     "shell.execute_reply": "2022-11-15T19:12:56.935507Z"
    },
    "papermill": {
     "duration": 5.71205,
     "end_time": "2022-11-15T19:12:56.940061",
     "exception": false,
     "start_time": "2022-11-15T19:12:51.228011",
     "status": "completed"
    },
    "tags": []
   },
   "outputs": [
    {
     "name": "stdout",
     "output_type": "stream",
     "text": [
      "No of instances where column name is copied in the Order ID column: 61\n",
      "No of instances where column name is copied in the Order Date column: 61\n",
      "No of instances where column name is copied in the Purchase Address column: 61\n"
     ]
    }
   ],
   "source": [
    "#checking the order ID & Order Date columns\n",
    "j = 0\n",
    "k = 0\n",
    "l = 0\n",
    "\n",
    "for i in range(0, len(df)):\n",
    "    oid = df['Order ID'].iloc[i]\n",
    "    odt = df['Order Date'].iloc[i]\n",
    "    padd = df['Purchase Address'].iloc[i]\n",
    "    if oid == 'Order ID':\n",
    "        k = k+1\n",
    "    if odt == 'Order Date':\n",
    "        j = j+1\n",
    "    if padd == 'Purchase Address':\n",
    "        l = l+1    \n",
    "print(\"No of instances where column name is copied in the Order ID column:\", k)\n",
    "print(\"No of instances where column name is copied in the Order Date column:\", j)\n",
    "print(\"No of instances where column name is copied in the Purchase Address column:\", l)"
   ]
  },
  {
   "cell_type": "markdown",
   "id": "4081abcd",
   "metadata": {
    "papermill": {
     "duration": 0.020328,
     "end_time": "2022-11-15T19:12:56.981981",
     "exception": false,
     "start_time": "2022-11-15T19:12:56.961653",
     "status": "completed"
    },
    "tags": []
   },
   "source": [
    "Seems like we have entire rows with column names as entries. Let's check it out."
   ]
  },
  {
   "cell_type": "code",
   "execution_count": 83,
   "id": "fa1993bc",
   "metadata": {
    "execution": {
     "iopub.execute_input": "2022-11-15T19:12:57.025392Z",
     "iopub.status.busy": "2022-11-15T19:12:57.024710Z",
     "iopub.status.idle": "2022-11-15T19:12:57.055864Z",
     "shell.execute_reply": "2022-11-15T19:12:57.054611Z"
    },
    "papermill": {
     "duration": 0.056308,
     "end_time": "2022-11-15T19:12:57.058704",
     "exception": false,
     "start_time": "2022-11-15T19:12:57.002396",
     "status": "completed"
    },
    "tags": []
   },
   "outputs": [
    {
     "data": {
      "text/html": [
       "<div>\n",
       "<style scoped>\n",
       "    .dataframe tbody tr th:only-of-type {\n",
       "        vertical-align: middle;\n",
       "    }\n",
       "\n",
       "    .dataframe tbody tr th {\n",
       "        vertical-align: top;\n",
       "    }\n",
       "\n",
       "    .dataframe thead th {\n",
       "        text-align: right;\n",
       "    }\n",
       "</style>\n",
       "<table border=\"1\" class=\"dataframe\">\n",
       "  <thead>\n",
       "    <tr style=\"text-align: right;\">\n",
       "      <th></th>\n",
       "      <th>Order ID</th>\n",
       "      <th>Product</th>\n",
       "      <th>Quantity Ordered</th>\n",
       "      <th>Price Each</th>\n",
       "      <th>Order Date</th>\n",
       "      <th>Purchase Address</th>\n",
       "    </tr>\n",
       "  </thead>\n",
       "  <tbody>\n",
       "    <tr>\n",
       "      <th>519</th>\n",
       "      <td>Order ID</td>\n",
       "      <td>Product</td>\n",
       "      <td>Quantity Ordered</td>\n",
       "      <td>Price Each</td>\n",
       "      <td>Order Date</td>\n",
       "      <td>Purchase Address</td>\n",
       "    </tr>\n",
       "    <tr>\n",
       "      <th>1149</th>\n",
       "      <td>Order ID</td>\n",
       "      <td>Product</td>\n",
       "      <td>Quantity Ordered</td>\n",
       "      <td>Price Each</td>\n",
       "      <td>Order Date</td>\n",
       "      <td>Purchase Address</td>\n",
       "    </tr>\n",
       "    <tr>\n",
       "      <th>1155</th>\n",
       "      <td>Order ID</td>\n",
       "      <td>Product</td>\n",
       "      <td>Quantity Ordered</td>\n",
       "      <td>Price Each</td>\n",
       "      <td>Order Date</td>\n",
       "      <td>Purchase Address</td>\n",
       "    </tr>\n",
       "    <tr>\n",
       "      <th>2878</th>\n",
       "      <td>Order ID</td>\n",
       "      <td>Product</td>\n",
       "      <td>Quantity Ordered</td>\n",
       "      <td>Price Each</td>\n",
       "      <td>Order Date</td>\n",
       "      <td>Purchase Address</td>\n",
       "    </tr>\n",
       "    <tr>\n",
       "      <th>2893</th>\n",
       "      <td>Order ID</td>\n",
       "      <td>Product</td>\n",
       "      <td>Quantity Ordered</td>\n",
       "      <td>Price Each</td>\n",
       "      <td>Order Date</td>\n",
       "      <td>Purchase Address</td>\n",
       "    </tr>\n",
       "    <tr>\n",
       "      <th>...</th>\n",
       "      <td>...</td>\n",
       "      <td>...</td>\n",
       "      <td>...</td>\n",
       "      <td>...</td>\n",
       "      <td>...</td>\n",
       "      <td>...</td>\n",
       "    </tr>\n",
       "    <tr>\n",
       "      <th>27988</th>\n",
       "      <td>Order ID</td>\n",
       "      <td>Product</td>\n",
       "      <td>Quantity Ordered</td>\n",
       "      <td>Price Each</td>\n",
       "      <td>Order Date</td>\n",
       "      <td>Purchase Address</td>\n",
       "    </tr>\n",
       "    <tr>\n",
       "      <th>28600</th>\n",
       "      <td>Order ID</td>\n",
       "      <td>Product</td>\n",
       "      <td>Quantity Ordered</td>\n",
       "      <td>Price Each</td>\n",
       "      <td>Order Date</td>\n",
       "      <td>Purchase Address</td>\n",
       "    </tr>\n",
       "    <tr>\n",
       "      <th>28721</th>\n",
       "      <td>Order ID</td>\n",
       "      <td>Product</td>\n",
       "      <td>Quantity Ordered</td>\n",
       "      <td>Price Each</td>\n",
       "      <td>Order Date</td>\n",
       "      <td>Purchase Address</td>\n",
       "    </tr>\n",
       "    <tr>\n",
       "      <th>29088</th>\n",
       "      <td>Order ID</td>\n",
       "      <td>Product</td>\n",
       "      <td>Quantity Ordered</td>\n",
       "      <td>Price Each</td>\n",
       "      <td>Order Date</td>\n",
       "      <td>Purchase Address</td>\n",
       "    </tr>\n",
       "    <tr>\n",
       "      <th>29387</th>\n",
       "      <td>Order ID</td>\n",
       "      <td>Product</td>\n",
       "      <td>Quantity Ordered</td>\n",
       "      <td>Price Each</td>\n",
       "      <td>Order Date</td>\n",
       "      <td>Purchase Address</td>\n",
       "    </tr>\n",
       "  </tbody>\n",
       "</table>\n",
       "<p>61 rows × 6 columns</p>\n",
       "</div>"
      ],
      "text/plain": [
       "       Order ID  Product  Quantity Ordered  Price Each  Order Date  \\\n",
       "519    Order ID  Product  Quantity Ordered  Price Each  Order Date   \n",
       "1149   Order ID  Product  Quantity Ordered  Price Each  Order Date   \n",
       "1155   Order ID  Product  Quantity Ordered  Price Each  Order Date   \n",
       "2878   Order ID  Product  Quantity Ordered  Price Each  Order Date   \n",
       "2893   Order ID  Product  Quantity Ordered  Price Each  Order Date   \n",
       "...         ...      ...               ...         ...         ...   \n",
       "27988  Order ID  Product  Quantity Ordered  Price Each  Order Date   \n",
       "28600  Order ID  Product  Quantity Ordered  Price Each  Order Date   \n",
       "28721  Order ID  Product  Quantity Ordered  Price Each  Order Date   \n",
       "29088  Order ID  Product  Quantity Ordered  Price Each  Order Date   \n",
       "29387  Order ID  Product  Quantity Ordered  Price Each  Order Date   \n",
       "\n",
       "       Purchase Address  \n",
       "519    Purchase Address  \n",
       "1149   Purchase Address  \n",
       "1155   Purchase Address  \n",
       "2878   Purchase Address  \n",
       "2893   Purchase Address  \n",
       "...                 ...  \n",
       "27988  Purchase Address  \n",
       "28600  Purchase Address  \n",
       "28721  Purchase Address  \n",
       "29088  Purchase Address  \n",
       "29387  Purchase Address  \n",
       "\n",
       "[61 rows x 6 columns]"
      ]
     },
     "execution_count": 83,
     "metadata": {},
     "output_type": "execute_result"
    }
   ],
   "source": [
    "temp_df =df[df['Order Date'] == 'Order Date']\n",
    "temp_df"
   ]
  },
  {
   "cell_type": "markdown",
   "id": "bfcc6c27",
   "metadata": {
    "papermill": {
     "duration": 0.02035,
     "end_time": "2022-11-15T19:12:57.100719",
     "exception": false,
     "start_time": "2022-11-15T19:12:57.080369",
     "status": "completed"
    },
    "tags": []
   },
   "source": [
    "Now, let's drop these 355 rows. "
   ]
  },
  {
   "cell_type": "code",
   "execution_count": 84,
   "id": "3ae76504",
   "metadata": {
    "execution": {
     "iopub.execute_input": "2022-11-15T19:12:57.144675Z",
     "iopub.status.busy": "2022-11-15T19:12:57.144278Z",
     "iopub.status.idle": "2022-11-15T19:12:57.197523Z",
     "shell.execute_reply": "2022-11-15T19:12:57.196042Z"
    },
    "papermill": {
     "duration": 0.079277,
     "end_time": "2022-11-15T19:12:57.200585",
     "exception": false,
     "start_time": "2022-11-15T19:12:57.121308",
     "status": "completed"
    },
    "tags": []
   },
   "outputs": [
    {
     "data": {
      "text/html": [
       "<div>\n",
       "<style scoped>\n",
       "    .dataframe tbody tr th:only-of-type {\n",
       "        vertical-align: middle;\n",
       "    }\n",
       "\n",
       "    .dataframe tbody tr th {\n",
       "        vertical-align: top;\n",
       "    }\n",
       "\n",
       "    .dataframe thead th {\n",
       "        text-align: right;\n",
       "    }\n",
       "</style>\n",
       "<table border=\"1\" class=\"dataframe\">\n",
       "  <thead>\n",
       "    <tr style=\"text-align: right;\">\n",
       "      <th></th>\n",
       "      <th>Order ID</th>\n",
       "      <th>Product</th>\n",
       "      <th>Quantity Ordered</th>\n",
       "      <th>Price Each</th>\n",
       "      <th>Order Date</th>\n",
       "      <th>Purchase Address</th>\n",
       "    </tr>\n",
       "  </thead>\n",
       "  <tbody>\n",
       "    <tr>\n",
       "      <th>0</th>\n",
       "      <td>176558</td>\n",
       "      <td>USB-C Charging Cable</td>\n",
       "      <td>2</td>\n",
       "      <td>11.95</td>\n",
       "      <td>04/19/19 08:46</td>\n",
       "      <td>917 1st St, Dallas, TX 75001</td>\n",
       "    </tr>\n",
       "    <tr>\n",
       "      <th>2</th>\n",
       "      <td>176559</td>\n",
       "      <td>Bose SoundSport Headphones</td>\n",
       "      <td>1</td>\n",
       "      <td>99.99</td>\n",
       "      <td>04/07/19 22:30</td>\n",
       "      <td>682 Chestnut St, Boston, MA 02215</td>\n",
       "    </tr>\n",
       "    <tr>\n",
       "      <th>3</th>\n",
       "      <td>176560</td>\n",
       "      <td>Google Phone</td>\n",
       "      <td>1</td>\n",
       "      <td>600</td>\n",
       "      <td>04/12/19 14:38</td>\n",
       "      <td>669 Spruce St, Los Angeles, CA 90001</td>\n",
       "    </tr>\n",
       "    <tr>\n",
       "      <th>4</th>\n",
       "      <td>176560</td>\n",
       "      <td>Wired Headphones</td>\n",
       "      <td>1</td>\n",
       "      <td>11.99</td>\n",
       "      <td>04/12/19 14:38</td>\n",
       "      <td>669 Spruce St, Los Angeles, CA 90001</td>\n",
       "    </tr>\n",
       "    <tr>\n",
       "      <th>5</th>\n",
       "      <td>176561</td>\n",
       "      <td>Wired Headphones</td>\n",
       "      <td>1</td>\n",
       "      <td>11.99</td>\n",
       "      <td>04/30/19 09:27</td>\n",
       "      <td>333 8th St, Los Angeles, CA 90001</td>\n",
       "    </tr>\n",
       "    <tr>\n",
       "      <th>...</th>\n",
       "      <td>...</td>\n",
       "      <td>...</td>\n",
       "      <td>...</td>\n",
       "      <td>...</td>\n",
       "      <td>...</td>\n",
       "      <td>...</td>\n",
       "    </tr>\n",
       "    <tr>\n",
       "      <th>30389</th>\n",
       "      <td>248146</td>\n",
       "      <td>Bose SoundSport Headphones</td>\n",
       "      <td>1</td>\n",
       "      <td>99.99</td>\n",
       "      <td>08/29/19 22:19</td>\n",
       "      <td>868 Hickory St, San Francisco, CA 94016</td>\n",
       "    </tr>\n",
       "    <tr>\n",
       "      <th>30390</th>\n",
       "      <td>248147</td>\n",
       "      <td>AAA Batteries (4-pack)</td>\n",
       "      <td>3</td>\n",
       "      <td>2.99</td>\n",
       "      <td>08/31/19 16:26</td>\n",
       "      <td>206 Lakeview St, Boston, MA 02215</td>\n",
       "    </tr>\n",
       "    <tr>\n",
       "      <th>30391</th>\n",
       "      <td>248148</td>\n",
       "      <td>AA Batteries (4-pack)</td>\n",
       "      <td>1</td>\n",
       "      <td>3.84</td>\n",
       "      <td>08/02/19 07:25</td>\n",
       "      <td>568 13th St, Seattle, WA 98101</td>\n",
       "    </tr>\n",
       "    <tr>\n",
       "      <th>30392</th>\n",
       "      <td>248149</td>\n",
       "      <td>USB-C Charging Cable</td>\n",
       "      <td>1</td>\n",
       "      <td>11.95</td>\n",
       "      <td>08/08/19 12:10</td>\n",
       "      <td>495 Walnut St, San Francisco, CA 94016</td>\n",
       "    </tr>\n",
       "    <tr>\n",
       "      <th>30393</th>\n",
       "      <td>248150</td>\n",
       "      <td>AA Batteries (4-pack)</td>\n",
       "      <td>1</td>\n",
       "      <td>3.84</td>\n",
       "      <td>08/16/19 08:13</td>\n",
       "      <td>738 Park St, Los Angeles, CA 90001</td>\n",
       "    </tr>\n",
       "  </tbody>\n",
       "</table>\n",
       "<p>30246 rows × 6 columns</p>\n",
       "</div>"
      ],
      "text/plain": [
       "      Order ID                     Product Quantity Ordered Price Each  \\\n",
       "0       176558        USB-C Charging Cable                2      11.95   \n",
       "2       176559  Bose SoundSport Headphones                1      99.99   \n",
       "3       176560                Google Phone                1        600   \n",
       "4       176560            Wired Headphones                1      11.99   \n",
       "5       176561            Wired Headphones                1      11.99   \n",
       "...        ...                         ...              ...        ...   \n",
       "30389   248146  Bose SoundSport Headphones                1      99.99   \n",
       "30390   248147      AAA Batteries (4-pack)                3       2.99   \n",
       "30391   248148       AA Batteries (4-pack)                1       3.84   \n",
       "30392   248149        USB-C Charging Cable                1      11.95   \n",
       "30393   248150       AA Batteries (4-pack)                1       3.84   \n",
       "\n",
       "           Order Date                         Purchase Address  \n",
       "0      04/19/19 08:46             917 1st St, Dallas, TX 75001  \n",
       "2      04/07/19 22:30        682 Chestnut St, Boston, MA 02215  \n",
       "3      04/12/19 14:38     669 Spruce St, Los Angeles, CA 90001  \n",
       "4      04/12/19 14:38     669 Spruce St, Los Angeles, CA 90001  \n",
       "5      04/30/19 09:27        333 8th St, Los Angeles, CA 90001  \n",
       "...               ...                                      ...  \n",
       "30389  08/29/19 22:19  868 Hickory St, San Francisco, CA 94016  \n",
       "30390  08/31/19 16:26        206 Lakeview St, Boston, MA 02215  \n",
       "30391  08/02/19 07:25           568 13th St, Seattle, WA 98101  \n",
       "30392  08/08/19 12:10   495 Walnut St, San Francisco, CA 94016  \n",
       "30393  08/16/19 08:13       738 Park St, Los Angeles, CA 90001  \n",
       "\n",
       "[30246 rows x 6 columns]"
      ]
     },
     "execution_count": 84,
     "metadata": {},
     "output_type": "execute_result"
    }
   ],
   "source": [
    "df = df[df['Order Date'] != 'Order Date']\n",
    "df"
   ]
  },
  {
   "cell_type": "code",
   "execution_count": 85,
   "id": "df933426",
   "metadata": {
    "execution": {
     "iopub.execute_input": "2022-11-15T19:12:57.246644Z",
     "iopub.status.busy": "2022-11-15T19:12:57.246243Z",
     "iopub.status.idle": "2022-11-15T19:13:02.966418Z",
     "shell.execute_reply": "2022-11-15T19:13:02.965025Z"
    },
    "papermill": {
     "duration": 5.746464,
     "end_time": "2022-11-15T19:13:02.969682",
     "exception": false,
     "start_time": "2022-11-15T19:12:57.223218",
     "status": "completed"
    },
    "tags": []
   },
   "outputs": [
    {
     "name": "stdout",
     "output_type": "stream",
     "text": [
      "No of instances where column name is copied in the Order ID column: 0\n",
      "No of instances where column name is copied in the Order Date column: 0\n",
      "No of instances where column name is copied in the Purchase Address column: 0\n"
     ]
    }
   ],
   "source": [
    "#checking the order ID & Order Date columns\n",
    "j = 0\n",
    "k = 0\n",
    "l = 0\n",
    "\n",
    "for i in range(0, len(df)):\n",
    "    oid = df['Order ID'].iloc[i]\n",
    "    odt = df['Order Date'].iloc[i]\n",
    "    padd = df['Purchase Address'].iloc[i]\n",
    "    if oid == 'Order ID':\n",
    "        k = k+1\n",
    "    if odt == 'Order Date':\n",
    "        j = j+1\n",
    "    if padd == 'Purchase Address':\n",
    "        l = l+1    \n",
    "print(\"No of instances where column name is copied in the Order ID column:\", k)\n",
    "print(\"No of instances where column name is copied in the Order Date column:\", j)\n",
    "print(\"No of instances where column name is copied in the Purchase Address column:\", l)"
   ]
  },
  {
   "cell_type": "markdown",
   "id": "886283e0",
   "metadata": {
    "papermill": {
     "duration": 0.022182,
     "end_time": "2022-11-15T19:13:03.013886",
     "exception": false,
     "start_time": "2022-11-15T19:13:02.991704",
     "status": "completed"
    },
    "tags": []
   },
   "source": [
    "So, we have successfully cleaned the 'column name as an entry' issue."
   ]
  },
  {
   "cell_type": "code",
   "execution_count": 86,
   "id": "64526941",
   "metadata": {
    "execution": {
     "iopub.execute_input": "2022-11-15T19:13:03.058526Z",
     "iopub.status.busy": "2022-11-15T19:13:03.057664Z",
     "iopub.status.idle": "2022-11-15T19:13:03.065696Z",
     "shell.execute_reply": "2022-11-15T19:13:03.064872Z"
    },
    "papermill": {
     "duration": 0.03246,
     "end_time": "2022-11-15T19:13:03.067730",
     "exception": false,
     "start_time": "2022-11-15T19:13:03.035270",
     "status": "completed"
    },
    "tags": []
   },
   "outputs": [
    {
     "data": {
      "text/plain": [
       "Order ID            object\n",
       "Product             object\n",
       "Quantity Ordered    object\n",
       "Price Each          object\n",
       "Order Date          object\n",
       "Purchase Address    object\n",
       "dtype: object"
      ]
     },
     "execution_count": 86,
     "metadata": {},
     "output_type": "execute_result"
    }
   ],
   "source": [
    "#checking data types of the columns\n",
    "df.dtypes"
   ]
  },
  {
   "cell_type": "markdown",
   "id": "b95ceda7",
   "metadata": {
    "papermill": {
     "duration": 0.02075,
     "end_time": "2022-11-15T19:13:03.109721",
     "exception": false,
     "start_time": "2022-11-15T19:13:03.088971",
     "status": "completed"
    },
    "tags": []
   },
   "source": [
    "Intuitively, Quantity Ordered and Price Each columns should be numeric (integer and float data type respectively). We need to change the data type or easier calculations and analysis."
   ]
  },
  {
   "cell_type": "code",
   "execution_count": 87,
   "id": "336a469d",
   "metadata": {
    "execution": {
     "iopub.execute_input": "2022-11-15T19:13:03.153996Z",
     "iopub.status.busy": "2022-11-15T19:13:03.153513Z",
     "iopub.status.idle": "2022-11-15T19:13:03.334557Z",
     "shell.execute_reply": "2022-11-15T19:13:03.332977Z"
    },
    "papermill": {
     "duration": 0.206245,
     "end_time": "2022-11-15T19:13:03.337129",
     "exception": false,
     "start_time": "2022-11-15T19:13:03.130884",
     "status": "completed"
    },
    "tags": []
   },
   "outputs": [],
   "source": [
    "#converting Quanity and Price Each columns to numeric\n",
    "df['Quantity Ordered'] = pd.to_numeric(df['Quantity Ordered'])\n",
    "df['Price Each'] = pd.to_numeric(df['Price Each'])"
   ]
  },
  {
   "cell_type": "code",
   "execution_count": 88,
   "id": "2705418e",
   "metadata": {
    "execution": {
     "iopub.execute_input": "2022-11-15T19:13:03.381306Z",
     "iopub.status.busy": "2022-11-15T19:13:03.380858Z",
     "iopub.status.idle": "2022-11-15T19:13:03.389850Z",
     "shell.execute_reply": "2022-11-15T19:13:03.388634Z"
    },
    "papermill": {
     "duration": 0.033731,
     "end_time": "2022-11-15T19:13:03.392105",
     "exception": false,
     "start_time": "2022-11-15T19:13:03.358374",
     "status": "completed"
    },
    "tags": []
   },
   "outputs": [
    {
     "data": {
      "text/plain": [
       "Order ID             object\n",
       "Product              object\n",
       "Quantity Ordered      int64\n",
       "Price Each          float64\n",
       "Order Date           object\n",
       "Purchase Address     object\n",
       "dtype: object"
      ]
     },
     "execution_count": 88,
     "metadata": {},
     "output_type": "execute_result"
    }
   ],
   "source": [
    "#checking data types of the columns\n",
    "df.dtypes"
   ]
  },
  {
   "cell_type": "code",
   "execution_count": 89,
   "id": "c6cf7847",
   "metadata": {
    "execution": {
     "iopub.execute_input": "2022-11-15T19:13:03.437208Z",
     "iopub.status.busy": "2022-11-15T19:13:03.436208Z",
     "iopub.status.idle": "2022-11-15T19:13:03.453485Z",
     "shell.execute_reply": "2022-11-15T19:13:03.452653Z"
    },
    "papermill": {
     "duration": 0.04204,
     "end_time": "2022-11-15T19:13:03.455620",
     "exception": false,
     "start_time": "2022-11-15T19:13:03.413580",
     "status": "completed"
    },
    "tags": []
   },
   "outputs": [
    {
     "data": {
      "text/html": [
       "<div>\n",
       "<style scoped>\n",
       "    .dataframe tbody tr th:only-of-type {\n",
       "        vertical-align: middle;\n",
       "    }\n",
       "\n",
       "    .dataframe tbody tr th {\n",
       "        vertical-align: top;\n",
       "    }\n",
       "\n",
       "    .dataframe thead th {\n",
       "        text-align: right;\n",
       "    }\n",
       "</style>\n",
       "<table border=\"1\" class=\"dataframe\">\n",
       "  <thead>\n",
       "    <tr style=\"text-align: right;\">\n",
       "      <th></th>\n",
       "      <th>Order ID</th>\n",
       "      <th>Product</th>\n",
       "      <th>Quantity Ordered</th>\n",
       "      <th>Price Each</th>\n",
       "      <th>Order Date</th>\n",
       "      <th>Purchase Address</th>\n",
       "    </tr>\n",
       "  </thead>\n",
       "  <tbody>\n",
       "    <tr>\n",
       "      <th>0</th>\n",
       "      <td>176558</td>\n",
       "      <td>USB-C Charging Cable</td>\n",
       "      <td>2</td>\n",
       "      <td>11.95</td>\n",
       "      <td>04/19/19 08:46</td>\n",
       "      <td>917 1st St, Dallas, TX 75001</td>\n",
       "    </tr>\n",
       "    <tr>\n",
       "      <th>2</th>\n",
       "      <td>176559</td>\n",
       "      <td>Bose SoundSport Headphones</td>\n",
       "      <td>1</td>\n",
       "      <td>99.99</td>\n",
       "      <td>04/07/19 22:30</td>\n",
       "      <td>682 Chestnut St, Boston, MA 02215</td>\n",
       "    </tr>\n",
       "    <tr>\n",
       "      <th>3</th>\n",
       "      <td>176560</td>\n",
       "      <td>Google Phone</td>\n",
       "      <td>1</td>\n",
       "      <td>600.00</td>\n",
       "      <td>04/12/19 14:38</td>\n",
       "      <td>669 Spruce St, Los Angeles, CA 90001</td>\n",
       "    </tr>\n",
       "    <tr>\n",
       "      <th>4</th>\n",
       "      <td>176560</td>\n",
       "      <td>Wired Headphones</td>\n",
       "      <td>1</td>\n",
       "      <td>11.99</td>\n",
       "      <td>04/12/19 14:38</td>\n",
       "      <td>669 Spruce St, Los Angeles, CA 90001</td>\n",
       "    </tr>\n",
       "    <tr>\n",
       "      <th>5</th>\n",
       "      <td>176561</td>\n",
       "      <td>Wired Headphones</td>\n",
       "      <td>1</td>\n",
       "      <td>11.99</td>\n",
       "      <td>04/30/19 09:27</td>\n",
       "      <td>333 8th St, Los Angeles, CA 90001</td>\n",
       "    </tr>\n",
       "    <tr>\n",
       "      <th>...</th>\n",
       "      <td>...</td>\n",
       "      <td>...</td>\n",
       "      <td>...</td>\n",
       "      <td>...</td>\n",
       "      <td>...</td>\n",
       "      <td>...</td>\n",
       "    </tr>\n",
       "    <tr>\n",
       "      <th>30389</th>\n",
       "      <td>248146</td>\n",
       "      <td>Bose SoundSport Headphones</td>\n",
       "      <td>1</td>\n",
       "      <td>99.99</td>\n",
       "      <td>08/29/19 22:19</td>\n",
       "      <td>868 Hickory St, San Francisco, CA 94016</td>\n",
       "    </tr>\n",
       "    <tr>\n",
       "      <th>30390</th>\n",
       "      <td>248147</td>\n",
       "      <td>AAA Batteries (4-pack)</td>\n",
       "      <td>3</td>\n",
       "      <td>2.99</td>\n",
       "      <td>08/31/19 16:26</td>\n",
       "      <td>206 Lakeview St, Boston, MA 02215</td>\n",
       "    </tr>\n",
       "    <tr>\n",
       "      <th>30391</th>\n",
       "      <td>248148</td>\n",
       "      <td>AA Batteries (4-pack)</td>\n",
       "      <td>1</td>\n",
       "      <td>3.84</td>\n",
       "      <td>08/02/19 07:25</td>\n",
       "      <td>568 13th St, Seattle, WA 98101</td>\n",
       "    </tr>\n",
       "    <tr>\n",
       "      <th>30392</th>\n",
       "      <td>248149</td>\n",
       "      <td>USB-C Charging Cable</td>\n",
       "      <td>1</td>\n",
       "      <td>11.95</td>\n",
       "      <td>08/08/19 12:10</td>\n",
       "      <td>495 Walnut St, San Francisco, CA 94016</td>\n",
       "    </tr>\n",
       "    <tr>\n",
       "      <th>30393</th>\n",
       "      <td>248150</td>\n",
       "      <td>AA Batteries (4-pack)</td>\n",
       "      <td>1</td>\n",
       "      <td>3.84</td>\n",
       "      <td>08/16/19 08:13</td>\n",
       "      <td>738 Park St, Los Angeles, CA 90001</td>\n",
       "    </tr>\n",
       "  </tbody>\n",
       "</table>\n",
       "<p>30246 rows × 6 columns</p>\n",
       "</div>"
      ],
      "text/plain": [
       "      Order ID                     Product  Quantity Ordered  Price Each  \\\n",
       "0       176558        USB-C Charging Cable                 2       11.95   \n",
       "2       176559  Bose SoundSport Headphones                 1       99.99   \n",
       "3       176560                Google Phone                 1      600.00   \n",
       "4       176560            Wired Headphones                 1       11.99   \n",
       "5       176561            Wired Headphones                 1       11.99   \n",
       "...        ...                         ...               ...         ...   \n",
       "30389   248146  Bose SoundSport Headphones                 1       99.99   \n",
       "30390   248147      AAA Batteries (4-pack)                 3        2.99   \n",
       "30391   248148       AA Batteries (4-pack)                 1        3.84   \n",
       "30392   248149        USB-C Charging Cable                 1       11.95   \n",
       "30393   248150       AA Batteries (4-pack)                 1        3.84   \n",
       "\n",
       "           Order Date                         Purchase Address  \n",
       "0      04/19/19 08:46             917 1st St, Dallas, TX 75001  \n",
       "2      04/07/19 22:30        682 Chestnut St, Boston, MA 02215  \n",
       "3      04/12/19 14:38     669 Spruce St, Los Angeles, CA 90001  \n",
       "4      04/12/19 14:38     669 Spruce St, Los Angeles, CA 90001  \n",
       "5      04/30/19 09:27        333 8th St, Los Angeles, CA 90001  \n",
       "...               ...                                      ...  \n",
       "30389  08/29/19 22:19  868 Hickory St, San Francisco, CA 94016  \n",
       "30390  08/31/19 16:26        206 Lakeview St, Boston, MA 02215  \n",
       "30391  08/02/19 07:25           568 13th St, Seattle, WA 98101  \n",
       "30392  08/08/19 12:10   495 Walnut St, San Francisco, CA 94016  \n",
       "30393  08/16/19 08:13       738 Park St, Los Angeles, CA 90001  \n",
       "\n",
       "[30246 rows x 6 columns]"
      ]
     },
     "execution_count": 89,
     "metadata": {},
     "output_type": "execute_result"
    }
   ],
   "source": [
    "df"
   ]
  },
  {
   "cell_type": "code",
   "execution_count": 90,
   "id": "32220b5b",
   "metadata": {
    "execution": {
     "iopub.execute_input": "2022-11-15T19:13:03.501486Z",
     "iopub.status.busy": "2022-11-15T19:13:03.500647Z",
     "iopub.status.idle": "2022-11-15T19:13:21.825764Z",
     "shell.execute_reply": "2022-11-15T19:13:21.824569Z"
    },
    "papermill": {
     "duration": 18.351626,
     "end_time": "2022-11-15T19:13:21.828813",
     "exception": false,
     "start_time": "2022-11-15T19:13:03.477187",
     "status": "completed"
    },
    "tags": []
   },
   "outputs": [
    {
     "data": {
      "text/plain": [
       "Order ID                    object\n",
       "Product                     object\n",
       "Quantity Ordered             int64\n",
       "Price Each                 float64\n",
       "Order Date          datetime64[ns]\n",
       "Purchase Address            object\n",
       "dtype: object"
      ]
     },
     "execution_count": 90,
     "metadata": {},
     "output_type": "execute_result"
    }
   ],
   "source": [
    "#converting order date to date time data type\n",
    "df['Order Date'] = pd.to_datetime(df['Order Date'])\n",
    "df.dtypes"
   ]
  },
  {
   "cell_type": "markdown",
   "id": "6ecb9dd6",
   "metadata": {
    "papermill": {
     "duration": 0.028406,
     "end_time": "2022-11-15T19:13:21.890889",
     "exception": false,
     "start_time": "2022-11-15T19:13:21.862483",
     "status": "completed"
    },
    "tags": []
   },
   "source": [
    "We have converted the order date successfully to date time data type (which is the ideal data type)."
   ]
  },
  {
   "cell_type": "markdown",
   "id": "48515f2f",
   "metadata": {
    "papermill": {
     "duration": 0.021568,
     "end_time": "2022-11-15T19:13:21.936024",
     "exception": false,
     "start_time": "2022-11-15T19:13:21.914456",
     "status": "completed"
    },
    "tags": []
   },
   "source": [
    "The data set now looks good. Let's proceed with creation of new, important features."
   ]
  },
  {
   "cell_type": "markdown",
   "id": "7326cbb3",
   "metadata": {
    "papermill": {
     "duration": 0.023815,
     "end_time": "2022-11-15T19:13:21.982385",
     "exception": false,
     "start_time": "2022-11-15T19:13:21.958570",
     "status": "completed"
    },
    "tags": []
   },
   "source": [
    "# Adding New Features"
   ]
  },
  {
   "cell_type": "code",
   "execution_count": 91,
   "id": "621c9c9c",
   "metadata": {
    "execution": {
     "iopub.execute_input": "2022-11-15T19:13:22.030378Z",
     "iopub.status.busy": "2022-11-15T19:13:22.029289Z",
     "iopub.status.idle": "2022-11-15T19:13:22.067236Z",
     "shell.execute_reply": "2022-11-15T19:13:22.065857Z"
    },
    "papermill": {
     "duration": 0.064545,
     "end_time": "2022-11-15T19:13:22.069702",
     "exception": false,
     "start_time": "2022-11-15T19:13:22.005157",
     "status": "completed"
    },
    "tags": []
   },
   "outputs": [
    {
     "data": {
      "text/html": [
       "<div>\n",
       "<style scoped>\n",
       "    .dataframe tbody tr th:only-of-type {\n",
       "        vertical-align: middle;\n",
       "    }\n",
       "\n",
       "    .dataframe tbody tr th {\n",
       "        vertical-align: top;\n",
       "    }\n",
       "\n",
       "    .dataframe thead th {\n",
       "        text-align: right;\n",
       "    }\n",
       "</style>\n",
       "<table border=\"1\" class=\"dataframe\">\n",
       "  <thead>\n",
       "    <tr style=\"text-align: right;\">\n",
       "      <th></th>\n",
       "      <th>Order ID</th>\n",
       "      <th>Product</th>\n",
       "      <th>Quantity Ordered</th>\n",
       "      <th>Price Each</th>\n",
       "      <th>Order Date</th>\n",
       "      <th>Purchase Address</th>\n",
       "      <th>Month</th>\n",
       "    </tr>\n",
       "  </thead>\n",
       "  <tbody>\n",
       "    <tr>\n",
       "      <th>0</th>\n",
       "      <td>176558</td>\n",
       "      <td>USB-C Charging Cable</td>\n",
       "      <td>2</td>\n",
       "      <td>11.95</td>\n",
       "      <td>2019-04-19 08:46:00</td>\n",
       "      <td>917 1st St, Dallas, TX 75001</td>\n",
       "      <td>4</td>\n",
       "    </tr>\n",
       "    <tr>\n",
       "      <th>2</th>\n",
       "      <td>176559</td>\n",
       "      <td>Bose SoundSport Headphones</td>\n",
       "      <td>1</td>\n",
       "      <td>99.99</td>\n",
       "      <td>2019-04-07 22:30:00</td>\n",
       "      <td>682 Chestnut St, Boston, MA 02215</td>\n",
       "      <td>4</td>\n",
       "    </tr>\n",
       "    <tr>\n",
       "      <th>3</th>\n",
       "      <td>176560</td>\n",
       "      <td>Google Phone</td>\n",
       "      <td>1</td>\n",
       "      <td>600.00</td>\n",
       "      <td>2019-04-12 14:38:00</td>\n",
       "      <td>669 Spruce St, Los Angeles, CA 90001</td>\n",
       "      <td>4</td>\n",
       "    </tr>\n",
       "    <tr>\n",
       "      <th>4</th>\n",
       "      <td>176560</td>\n",
       "      <td>Wired Headphones</td>\n",
       "      <td>1</td>\n",
       "      <td>11.99</td>\n",
       "      <td>2019-04-12 14:38:00</td>\n",
       "      <td>669 Spruce St, Los Angeles, CA 90001</td>\n",
       "      <td>4</td>\n",
       "    </tr>\n",
       "    <tr>\n",
       "      <th>5</th>\n",
       "      <td>176561</td>\n",
       "      <td>Wired Headphones</td>\n",
       "      <td>1</td>\n",
       "      <td>11.99</td>\n",
       "      <td>2019-04-30 09:27:00</td>\n",
       "      <td>333 8th St, Los Angeles, CA 90001</td>\n",
       "      <td>4</td>\n",
       "    </tr>\n",
       "    <tr>\n",
       "      <th>...</th>\n",
       "      <td>...</td>\n",
       "      <td>...</td>\n",
       "      <td>...</td>\n",
       "      <td>...</td>\n",
       "      <td>...</td>\n",
       "      <td>...</td>\n",
       "      <td>...</td>\n",
       "    </tr>\n",
       "    <tr>\n",
       "      <th>30389</th>\n",
       "      <td>248146</td>\n",
       "      <td>Bose SoundSport Headphones</td>\n",
       "      <td>1</td>\n",
       "      <td>99.99</td>\n",
       "      <td>2019-08-29 22:19:00</td>\n",
       "      <td>868 Hickory St, San Francisco, CA 94016</td>\n",
       "      <td>8</td>\n",
       "    </tr>\n",
       "    <tr>\n",
       "      <th>30390</th>\n",
       "      <td>248147</td>\n",
       "      <td>AAA Batteries (4-pack)</td>\n",
       "      <td>3</td>\n",
       "      <td>2.99</td>\n",
       "      <td>2019-08-31 16:26:00</td>\n",
       "      <td>206 Lakeview St, Boston, MA 02215</td>\n",
       "      <td>8</td>\n",
       "    </tr>\n",
       "    <tr>\n",
       "      <th>30391</th>\n",
       "      <td>248148</td>\n",
       "      <td>AA Batteries (4-pack)</td>\n",
       "      <td>1</td>\n",
       "      <td>3.84</td>\n",
       "      <td>2019-08-02 07:25:00</td>\n",
       "      <td>568 13th St, Seattle, WA 98101</td>\n",
       "      <td>8</td>\n",
       "    </tr>\n",
       "    <tr>\n",
       "      <th>30392</th>\n",
       "      <td>248149</td>\n",
       "      <td>USB-C Charging Cable</td>\n",
       "      <td>1</td>\n",
       "      <td>11.95</td>\n",
       "      <td>2019-08-08 12:10:00</td>\n",
       "      <td>495 Walnut St, San Francisco, CA 94016</td>\n",
       "      <td>8</td>\n",
       "    </tr>\n",
       "    <tr>\n",
       "      <th>30393</th>\n",
       "      <td>248150</td>\n",
       "      <td>AA Batteries (4-pack)</td>\n",
       "      <td>1</td>\n",
       "      <td>3.84</td>\n",
       "      <td>2019-08-16 08:13:00</td>\n",
       "      <td>738 Park St, Los Angeles, CA 90001</td>\n",
       "      <td>8</td>\n",
       "    </tr>\n",
       "  </tbody>\n",
       "</table>\n",
       "<p>30246 rows × 7 columns</p>\n",
       "</div>"
      ],
      "text/plain": [
       "      Order ID                     Product  Quantity Ordered  Price Each  \\\n",
       "0       176558        USB-C Charging Cable                 2       11.95   \n",
       "2       176559  Bose SoundSport Headphones                 1       99.99   \n",
       "3       176560                Google Phone                 1      600.00   \n",
       "4       176560            Wired Headphones                 1       11.99   \n",
       "5       176561            Wired Headphones                 1       11.99   \n",
       "...        ...                         ...               ...         ...   \n",
       "30389   248146  Bose SoundSport Headphones                 1       99.99   \n",
       "30390   248147      AAA Batteries (4-pack)                 3        2.99   \n",
       "30391   248148       AA Batteries (4-pack)                 1        3.84   \n",
       "30392   248149        USB-C Charging Cable                 1       11.95   \n",
       "30393   248150       AA Batteries (4-pack)                 1        3.84   \n",
       "\n",
       "               Order Date                         Purchase Address  Month  \n",
       "0     2019-04-19 08:46:00             917 1st St, Dallas, TX 75001      4  \n",
       "2     2019-04-07 22:30:00        682 Chestnut St, Boston, MA 02215      4  \n",
       "3     2019-04-12 14:38:00     669 Spruce St, Los Angeles, CA 90001      4  \n",
       "4     2019-04-12 14:38:00     669 Spruce St, Los Angeles, CA 90001      4  \n",
       "5     2019-04-30 09:27:00        333 8th St, Los Angeles, CA 90001      4  \n",
       "...                   ...                                      ...    ...  \n",
       "30389 2019-08-29 22:19:00  868 Hickory St, San Francisco, CA 94016      8  \n",
       "30390 2019-08-31 16:26:00        206 Lakeview St, Boston, MA 02215      8  \n",
       "30391 2019-08-02 07:25:00           568 13th St, Seattle, WA 98101      8  \n",
       "30392 2019-08-08 12:10:00   495 Walnut St, San Francisco, CA 94016      8  \n",
       "30393 2019-08-16 08:13:00       738 Park St, Los Angeles, CA 90001      8  \n",
       "\n",
       "[30246 rows x 7 columns]"
      ]
     },
     "execution_count": 91,
     "metadata": {},
     "output_type": "execute_result"
    }
   ],
   "source": [
    "#adding month column\n",
    "df['Month'] = df['Order Date'].dt.month\n",
    "df"
   ]
  },
  {
   "cell_type": "code",
   "execution_count": 92,
   "id": "812cfcf7",
   "metadata": {
    "execution": {
     "iopub.execute_input": "2022-11-15T19:13:22.116323Z",
     "iopub.status.busy": "2022-11-15T19:13:22.115533Z",
     "iopub.status.idle": "2022-11-15T19:13:22.154781Z",
     "shell.execute_reply": "2022-11-15T19:13:22.153511Z"
    },
    "papermill": {
     "duration": 0.065755,
     "end_time": "2022-11-15T19:13:22.157638",
     "exception": false,
     "start_time": "2022-11-15T19:13:22.091883",
     "status": "completed"
    },
    "tags": []
   },
   "outputs": [
    {
     "data": {
      "text/html": [
       "<div>\n",
       "<style scoped>\n",
       "    .dataframe tbody tr th:only-of-type {\n",
       "        vertical-align: middle;\n",
       "    }\n",
       "\n",
       "    .dataframe tbody tr th {\n",
       "        vertical-align: top;\n",
       "    }\n",
       "\n",
       "    .dataframe thead th {\n",
       "        text-align: right;\n",
       "    }\n",
       "</style>\n",
       "<table border=\"1\" class=\"dataframe\">\n",
       "  <thead>\n",
       "    <tr style=\"text-align: right;\">\n",
       "      <th></th>\n",
       "      <th>Order ID</th>\n",
       "      <th>Product</th>\n",
       "      <th>Quantity Ordered</th>\n",
       "      <th>Price Each</th>\n",
       "      <th>Order Date</th>\n",
       "      <th>Purchase Address</th>\n",
       "      <th>Month</th>\n",
       "      <th>Day</th>\n",
       "    </tr>\n",
       "  </thead>\n",
       "  <tbody>\n",
       "    <tr>\n",
       "      <th>0</th>\n",
       "      <td>176558</td>\n",
       "      <td>USB-C Charging Cable</td>\n",
       "      <td>2</td>\n",
       "      <td>11.95</td>\n",
       "      <td>2019-04-19 08:46:00</td>\n",
       "      <td>917 1st St, Dallas, TX 75001</td>\n",
       "      <td>4</td>\n",
       "      <td>19</td>\n",
       "    </tr>\n",
       "    <tr>\n",
       "      <th>2</th>\n",
       "      <td>176559</td>\n",
       "      <td>Bose SoundSport Headphones</td>\n",
       "      <td>1</td>\n",
       "      <td>99.99</td>\n",
       "      <td>2019-04-07 22:30:00</td>\n",
       "      <td>682 Chestnut St, Boston, MA 02215</td>\n",
       "      <td>4</td>\n",
       "      <td>7</td>\n",
       "    </tr>\n",
       "    <tr>\n",
       "      <th>3</th>\n",
       "      <td>176560</td>\n",
       "      <td>Google Phone</td>\n",
       "      <td>1</td>\n",
       "      <td>600.00</td>\n",
       "      <td>2019-04-12 14:38:00</td>\n",
       "      <td>669 Spruce St, Los Angeles, CA 90001</td>\n",
       "      <td>4</td>\n",
       "      <td>12</td>\n",
       "    </tr>\n",
       "    <tr>\n",
       "      <th>4</th>\n",
       "      <td>176560</td>\n",
       "      <td>Wired Headphones</td>\n",
       "      <td>1</td>\n",
       "      <td>11.99</td>\n",
       "      <td>2019-04-12 14:38:00</td>\n",
       "      <td>669 Spruce St, Los Angeles, CA 90001</td>\n",
       "      <td>4</td>\n",
       "      <td>12</td>\n",
       "    </tr>\n",
       "    <tr>\n",
       "      <th>5</th>\n",
       "      <td>176561</td>\n",
       "      <td>Wired Headphones</td>\n",
       "      <td>1</td>\n",
       "      <td>11.99</td>\n",
       "      <td>2019-04-30 09:27:00</td>\n",
       "      <td>333 8th St, Los Angeles, CA 90001</td>\n",
       "      <td>4</td>\n",
       "      <td>30</td>\n",
       "    </tr>\n",
       "    <tr>\n",
       "      <th>...</th>\n",
       "      <td>...</td>\n",
       "      <td>...</td>\n",
       "      <td>...</td>\n",
       "      <td>...</td>\n",
       "      <td>...</td>\n",
       "      <td>...</td>\n",
       "      <td>...</td>\n",
       "      <td>...</td>\n",
       "    </tr>\n",
       "    <tr>\n",
       "      <th>30389</th>\n",
       "      <td>248146</td>\n",
       "      <td>Bose SoundSport Headphones</td>\n",
       "      <td>1</td>\n",
       "      <td>99.99</td>\n",
       "      <td>2019-08-29 22:19:00</td>\n",
       "      <td>868 Hickory St, San Francisco, CA 94016</td>\n",
       "      <td>8</td>\n",
       "      <td>29</td>\n",
       "    </tr>\n",
       "    <tr>\n",
       "      <th>30390</th>\n",
       "      <td>248147</td>\n",
       "      <td>AAA Batteries (4-pack)</td>\n",
       "      <td>3</td>\n",
       "      <td>2.99</td>\n",
       "      <td>2019-08-31 16:26:00</td>\n",
       "      <td>206 Lakeview St, Boston, MA 02215</td>\n",
       "      <td>8</td>\n",
       "      <td>31</td>\n",
       "    </tr>\n",
       "    <tr>\n",
       "      <th>30391</th>\n",
       "      <td>248148</td>\n",
       "      <td>AA Batteries (4-pack)</td>\n",
       "      <td>1</td>\n",
       "      <td>3.84</td>\n",
       "      <td>2019-08-02 07:25:00</td>\n",
       "      <td>568 13th St, Seattle, WA 98101</td>\n",
       "      <td>8</td>\n",
       "      <td>2</td>\n",
       "    </tr>\n",
       "    <tr>\n",
       "      <th>30392</th>\n",
       "      <td>248149</td>\n",
       "      <td>USB-C Charging Cable</td>\n",
       "      <td>1</td>\n",
       "      <td>11.95</td>\n",
       "      <td>2019-08-08 12:10:00</td>\n",
       "      <td>495 Walnut St, San Francisco, CA 94016</td>\n",
       "      <td>8</td>\n",
       "      <td>8</td>\n",
       "    </tr>\n",
       "    <tr>\n",
       "      <th>30393</th>\n",
       "      <td>248150</td>\n",
       "      <td>AA Batteries (4-pack)</td>\n",
       "      <td>1</td>\n",
       "      <td>3.84</td>\n",
       "      <td>2019-08-16 08:13:00</td>\n",
       "      <td>738 Park St, Los Angeles, CA 90001</td>\n",
       "      <td>8</td>\n",
       "      <td>16</td>\n",
       "    </tr>\n",
       "  </tbody>\n",
       "</table>\n",
       "<p>30246 rows × 8 columns</p>\n",
       "</div>"
      ],
      "text/plain": [
       "      Order ID                     Product  Quantity Ordered  Price Each  \\\n",
       "0       176558        USB-C Charging Cable                 2       11.95   \n",
       "2       176559  Bose SoundSport Headphones                 1       99.99   \n",
       "3       176560                Google Phone                 1      600.00   \n",
       "4       176560            Wired Headphones                 1       11.99   \n",
       "5       176561            Wired Headphones                 1       11.99   \n",
       "...        ...                         ...               ...         ...   \n",
       "30389   248146  Bose SoundSport Headphones                 1       99.99   \n",
       "30390   248147      AAA Batteries (4-pack)                 3        2.99   \n",
       "30391   248148       AA Batteries (4-pack)                 1        3.84   \n",
       "30392   248149        USB-C Charging Cable                 1       11.95   \n",
       "30393   248150       AA Batteries (4-pack)                 1        3.84   \n",
       "\n",
       "               Order Date                         Purchase Address  Month  Day  \n",
       "0     2019-04-19 08:46:00             917 1st St, Dallas, TX 75001      4   19  \n",
       "2     2019-04-07 22:30:00        682 Chestnut St, Boston, MA 02215      4    7  \n",
       "3     2019-04-12 14:38:00     669 Spruce St, Los Angeles, CA 90001      4   12  \n",
       "4     2019-04-12 14:38:00     669 Spruce St, Los Angeles, CA 90001      4   12  \n",
       "5     2019-04-30 09:27:00        333 8th St, Los Angeles, CA 90001      4   30  \n",
       "...                   ...                                      ...    ...  ...  \n",
       "30389 2019-08-29 22:19:00  868 Hickory St, San Francisco, CA 94016      8   29  \n",
       "30390 2019-08-31 16:26:00        206 Lakeview St, Boston, MA 02215      8   31  \n",
       "30391 2019-08-02 07:25:00           568 13th St, Seattle, WA 98101      8    2  \n",
       "30392 2019-08-08 12:10:00   495 Walnut St, San Francisco, CA 94016      8    8  \n",
       "30393 2019-08-16 08:13:00       738 Park St, Los Angeles, CA 90001      8   16  \n",
       "\n",
       "[30246 rows x 8 columns]"
      ]
     },
     "execution_count": 92,
     "metadata": {},
     "output_type": "execute_result"
    }
   ],
   "source": [
    "#adding day of the month column\n",
    "df['Day'] = df['Order Date'].dt.day\n",
    "df"
   ]
  },
  {
   "cell_type": "code",
   "execution_count": 93,
   "id": "39e4a07b",
   "metadata": {
    "execution": {
     "iopub.execute_input": "2022-11-15T19:13:22.204397Z",
     "iopub.status.busy": "2022-11-15T19:13:22.203567Z",
     "iopub.status.idle": "2022-11-15T19:13:22.226626Z",
     "shell.execute_reply": "2022-11-15T19:13:22.225329Z"
    },
    "papermill": {
     "duration": 0.04954,
     "end_time": "2022-11-15T19:13:22.229253",
     "exception": false,
     "start_time": "2022-11-15T19:13:22.179713",
     "status": "completed"
    },
    "tags": []
   },
   "outputs": [
    {
     "data": {
      "text/html": [
       "<div>\n",
       "<style scoped>\n",
       "    .dataframe tbody tr th:only-of-type {\n",
       "        vertical-align: middle;\n",
       "    }\n",
       "\n",
       "    .dataframe tbody tr th {\n",
       "        vertical-align: top;\n",
       "    }\n",
       "\n",
       "    .dataframe thead th {\n",
       "        text-align: right;\n",
       "    }\n",
       "</style>\n",
       "<table border=\"1\" class=\"dataframe\">\n",
       "  <thead>\n",
       "    <tr style=\"text-align: right;\">\n",
       "      <th></th>\n",
       "      <th>Order ID</th>\n",
       "      <th>Product</th>\n",
       "      <th>Quantity Ordered</th>\n",
       "      <th>Price Each</th>\n",
       "      <th>Order Date</th>\n",
       "      <th>Purchase Address</th>\n",
       "      <th>Month</th>\n",
       "      <th>Day</th>\n",
       "      <th>Sales</th>\n",
       "    </tr>\n",
       "  </thead>\n",
       "  <tbody>\n",
       "    <tr>\n",
       "      <th>0</th>\n",
       "      <td>176558</td>\n",
       "      <td>USB-C Charging Cable</td>\n",
       "      <td>2</td>\n",
       "      <td>11.95</td>\n",
       "      <td>2019-04-19 08:46:00</td>\n",
       "      <td>917 1st St, Dallas, TX 75001</td>\n",
       "      <td>4</td>\n",
       "      <td>19</td>\n",
       "      <td>23.90</td>\n",
       "    </tr>\n",
       "    <tr>\n",
       "      <th>2</th>\n",
       "      <td>176559</td>\n",
       "      <td>Bose SoundSport Headphones</td>\n",
       "      <td>1</td>\n",
       "      <td>99.99</td>\n",
       "      <td>2019-04-07 22:30:00</td>\n",
       "      <td>682 Chestnut St, Boston, MA 02215</td>\n",
       "      <td>4</td>\n",
       "      <td>7</td>\n",
       "      <td>99.99</td>\n",
       "    </tr>\n",
       "    <tr>\n",
       "      <th>3</th>\n",
       "      <td>176560</td>\n",
       "      <td>Google Phone</td>\n",
       "      <td>1</td>\n",
       "      <td>600.00</td>\n",
       "      <td>2019-04-12 14:38:00</td>\n",
       "      <td>669 Spruce St, Los Angeles, CA 90001</td>\n",
       "      <td>4</td>\n",
       "      <td>12</td>\n",
       "      <td>600.00</td>\n",
       "    </tr>\n",
       "    <tr>\n",
       "      <th>4</th>\n",
       "      <td>176560</td>\n",
       "      <td>Wired Headphones</td>\n",
       "      <td>1</td>\n",
       "      <td>11.99</td>\n",
       "      <td>2019-04-12 14:38:00</td>\n",
       "      <td>669 Spruce St, Los Angeles, CA 90001</td>\n",
       "      <td>4</td>\n",
       "      <td>12</td>\n",
       "      <td>11.99</td>\n",
       "    </tr>\n",
       "    <tr>\n",
       "      <th>5</th>\n",
       "      <td>176561</td>\n",
       "      <td>Wired Headphones</td>\n",
       "      <td>1</td>\n",
       "      <td>11.99</td>\n",
       "      <td>2019-04-30 09:27:00</td>\n",
       "      <td>333 8th St, Los Angeles, CA 90001</td>\n",
       "      <td>4</td>\n",
       "      <td>30</td>\n",
       "      <td>11.99</td>\n",
       "    </tr>\n",
       "    <tr>\n",
       "      <th>...</th>\n",
       "      <td>...</td>\n",
       "      <td>...</td>\n",
       "      <td>...</td>\n",
       "      <td>...</td>\n",
       "      <td>...</td>\n",
       "      <td>...</td>\n",
       "      <td>...</td>\n",
       "      <td>...</td>\n",
       "      <td>...</td>\n",
       "    </tr>\n",
       "    <tr>\n",
       "      <th>30389</th>\n",
       "      <td>248146</td>\n",
       "      <td>Bose SoundSport Headphones</td>\n",
       "      <td>1</td>\n",
       "      <td>99.99</td>\n",
       "      <td>2019-08-29 22:19:00</td>\n",
       "      <td>868 Hickory St, San Francisco, CA 94016</td>\n",
       "      <td>8</td>\n",
       "      <td>29</td>\n",
       "      <td>99.99</td>\n",
       "    </tr>\n",
       "    <tr>\n",
       "      <th>30390</th>\n",
       "      <td>248147</td>\n",
       "      <td>AAA Batteries (4-pack)</td>\n",
       "      <td>3</td>\n",
       "      <td>2.99</td>\n",
       "      <td>2019-08-31 16:26:00</td>\n",
       "      <td>206 Lakeview St, Boston, MA 02215</td>\n",
       "      <td>8</td>\n",
       "      <td>31</td>\n",
       "      <td>8.97</td>\n",
       "    </tr>\n",
       "    <tr>\n",
       "      <th>30391</th>\n",
       "      <td>248148</td>\n",
       "      <td>AA Batteries (4-pack)</td>\n",
       "      <td>1</td>\n",
       "      <td>3.84</td>\n",
       "      <td>2019-08-02 07:25:00</td>\n",
       "      <td>568 13th St, Seattle, WA 98101</td>\n",
       "      <td>8</td>\n",
       "      <td>2</td>\n",
       "      <td>3.84</td>\n",
       "    </tr>\n",
       "    <tr>\n",
       "      <th>30392</th>\n",
       "      <td>248149</td>\n",
       "      <td>USB-C Charging Cable</td>\n",
       "      <td>1</td>\n",
       "      <td>11.95</td>\n",
       "      <td>2019-08-08 12:10:00</td>\n",
       "      <td>495 Walnut St, San Francisco, CA 94016</td>\n",
       "      <td>8</td>\n",
       "      <td>8</td>\n",
       "      <td>11.95</td>\n",
       "    </tr>\n",
       "    <tr>\n",
       "      <th>30393</th>\n",
       "      <td>248150</td>\n",
       "      <td>AA Batteries (4-pack)</td>\n",
       "      <td>1</td>\n",
       "      <td>3.84</td>\n",
       "      <td>2019-08-16 08:13:00</td>\n",
       "      <td>738 Park St, Los Angeles, CA 90001</td>\n",
       "      <td>8</td>\n",
       "      <td>16</td>\n",
       "      <td>3.84</td>\n",
       "    </tr>\n",
       "  </tbody>\n",
       "</table>\n",
       "<p>30246 rows × 9 columns</p>\n",
       "</div>"
      ],
      "text/plain": [
       "      Order ID                     Product  Quantity Ordered  Price Each  \\\n",
       "0       176558        USB-C Charging Cable                 2       11.95   \n",
       "2       176559  Bose SoundSport Headphones                 1       99.99   \n",
       "3       176560                Google Phone                 1      600.00   \n",
       "4       176560            Wired Headphones                 1       11.99   \n",
       "5       176561            Wired Headphones                 1       11.99   \n",
       "...        ...                         ...               ...         ...   \n",
       "30389   248146  Bose SoundSport Headphones                 1       99.99   \n",
       "30390   248147      AAA Batteries (4-pack)                 3        2.99   \n",
       "30391   248148       AA Batteries (4-pack)                 1        3.84   \n",
       "30392   248149        USB-C Charging Cable                 1       11.95   \n",
       "30393   248150       AA Batteries (4-pack)                 1        3.84   \n",
       "\n",
       "               Order Date                         Purchase Address  Month  \\\n",
       "0     2019-04-19 08:46:00             917 1st St, Dallas, TX 75001      4   \n",
       "2     2019-04-07 22:30:00        682 Chestnut St, Boston, MA 02215      4   \n",
       "3     2019-04-12 14:38:00     669 Spruce St, Los Angeles, CA 90001      4   \n",
       "4     2019-04-12 14:38:00     669 Spruce St, Los Angeles, CA 90001      4   \n",
       "5     2019-04-30 09:27:00        333 8th St, Los Angeles, CA 90001      4   \n",
       "...                   ...                                      ...    ...   \n",
       "30389 2019-08-29 22:19:00  868 Hickory St, San Francisco, CA 94016      8   \n",
       "30390 2019-08-31 16:26:00        206 Lakeview St, Boston, MA 02215      8   \n",
       "30391 2019-08-02 07:25:00           568 13th St, Seattle, WA 98101      8   \n",
       "30392 2019-08-08 12:10:00   495 Walnut St, San Francisco, CA 94016      8   \n",
       "30393 2019-08-16 08:13:00       738 Park St, Los Angeles, CA 90001      8   \n",
       "\n",
       "       Day   Sales  \n",
       "0       19   23.90  \n",
       "2        7   99.99  \n",
       "3       12  600.00  \n",
       "4       12   11.99  \n",
       "5       30   11.99  \n",
       "...    ...     ...  \n",
       "30389   29   99.99  \n",
       "30390   31    8.97  \n",
       "30391    2    3.84  \n",
       "30392    8   11.95  \n",
       "30393   16    3.84  \n",
       "\n",
       "[30246 rows x 9 columns]"
      ]
     },
     "execution_count": 93,
     "metadata": {},
     "output_type": "execute_result"
    }
   ],
   "source": [
    "#adding sales column\n",
    "df['Sales'] = df['Quantity Ordered'] * df['Price Each']\n",
    "df"
   ]
  },
  {
   "cell_type": "code",
   "execution_count": 94,
   "id": "408398bb",
   "metadata": {
    "execution": {
     "iopub.execute_input": "2022-11-15T19:13:22.277924Z",
     "iopub.status.busy": "2022-11-15T19:13:22.277451Z",
     "iopub.status.idle": "2022-11-15T19:13:22.394106Z",
     "shell.execute_reply": "2022-11-15T19:13:22.392553Z"
    },
    "papermill": {
     "duration": 0.144942,
     "end_time": "2022-11-15T19:13:22.397601",
     "exception": false,
     "start_time": "2022-11-15T19:13:22.252659",
     "status": "completed"
    },
    "tags": []
   },
   "outputs": [
    {
     "data": {
      "text/html": [
       "<div>\n",
       "<style scoped>\n",
       "    .dataframe tbody tr th:only-of-type {\n",
       "        vertical-align: middle;\n",
       "    }\n",
       "\n",
       "    .dataframe tbody tr th {\n",
       "        vertical-align: top;\n",
       "    }\n",
       "\n",
       "    .dataframe thead th {\n",
       "        text-align: right;\n",
       "    }\n",
       "</style>\n",
       "<table border=\"1\" class=\"dataframe\">\n",
       "  <thead>\n",
       "    <tr style=\"text-align: right;\">\n",
       "      <th></th>\n",
       "      <th>Order ID</th>\n",
       "      <th>Product</th>\n",
       "      <th>Quantity Ordered</th>\n",
       "      <th>Price Each</th>\n",
       "      <th>Order Date</th>\n",
       "      <th>Purchase Address</th>\n",
       "      <th>Month</th>\n",
       "      <th>Day</th>\n",
       "      <th>Sales</th>\n",
       "      <th>City</th>\n",
       "    </tr>\n",
       "  </thead>\n",
       "  <tbody>\n",
       "    <tr>\n",
       "      <th>0</th>\n",
       "      <td>176558</td>\n",
       "      <td>USB-C Charging Cable</td>\n",
       "      <td>2</td>\n",
       "      <td>11.95</td>\n",
       "      <td>2019-04-19 08:46:00</td>\n",
       "      <td>917 1st St, Dallas, TX 75001</td>\n",
       "      <td>4</td>\n",
       "      <td>19</td>\n",
       "      <td>23.90</td>\n",
       "      <td>Dallas</td>\n",
       "    </tr>\n",
       "    <tr>\n",
       "      <th>2</th>\n",
       "      <td>176559</td>\n",
       "      <td>Bose SoundSport Headphones</td>\n",
       "      <td>1</td>\n",
       "      <td>99.99</td>\n",
       "      <td>2019-04-07 22:30:00</td>\n",
       "      <td>682 Chestnut St, Boston, MA 02215</td>\n",
       "      <td>4</td>\n",
       "      <td>7</td>\n",
       "      <td>99.99</td>\n",
       "      <td>Boston</td>\n",
       "    </tr>\n",
       "    <tr>\n",
       "      <th>3</th>\n",
       "      <td>176560</td>\n",
       "      <td>Google Phone</td>\n",
       "      <td>1</td>\n",
       "      <td>600.00</td>\n",
       "      <td>2019-04-12 14:38:00</td>\n",
       "      <td>669 Spruce St, Los Angeles, CA 90001</td>\n",
       "      <td>4</td>\n",
       "      <td>12</td>\n",
       "      <td>600.00</td>\n",
       "      <td>Los Angeles</td>\n",
       "    </tr>\n",
       "    <tr>\n",
       "      <th>4</th>\n",
       "      <td>176560</td>\n",
       "      <td>Wired Headphones</td>\n",
       "      <td>1</td>\n",
       "      <td>11.99</td>\n",
       "      <td>2019-04-12 14:38:00</td>\n",
       "      <td>669 Spruce St, Los Angeles, CA 90001</td>\n",
       "      <td>4</td>\n",
       "      <td>12</td>\n",
       "      <td>11.99</td>\n",
       "      <td>Los Angeles</td>\n",
       "    </tr>\n",
       "    <tr>\n",
       "      <th>5</th>\n",
       "      <td>176561</td>\n",
       "      <td>Wired Headphones</td>\n",
       "      <td>1</td>\n",
       "      <td>11.99</td>\n",
       "      <td>2019-04-30 09:27:00</td>\n",
       "      <td>333 8th St, Los Angeles, CA 90001</td>\n",
       "      <td>4</td>\n",
       "      <td>30</td>\n",
       "      <td>11.99</td>\n",
       "      <td>Los Angeles</td>\n",
       "    </tr>\n",
       "    <tr>\n",
       "      <th>...</th>\n",
       "      <td>...</td>\n",
       "      <td>...</td>\n",
       "      <td>...</td>\n",
       "      <td>...</td>\n",
       "      <td>...</td>\n",
       "      <td>...</td>\n",
       "      <td>...</td>\n",
       "      <td>...</td>\n",
       "      <td>...</td>\n",
       "      <td>...</td>\n",
       "    </tr>\n",
       "    <tr>\n",
       "      <th>30389</th>\n",
       "      <td>248146</td>\n",
       "      <td>Bose SoundSport Headphones</td>\n",
       "      <td>1</td>\n",
       "      <td>99.99</td>\n",
       "      <td>2019-08-29 22:19:00</td>\n",
       "      <td>868 Hickory St, San Francisco, CA 94016</td>\n",
       "      <td>8</td>\n",
       "      <td>29</td>\n",
       "      <td>99.99</td>\n",
       "      <td>San Francisco</td>\n",
       "    </tr>\n",
       "    <tr>\n",
       "      <th>30390</th>\n",
       "      <td>248147</td>\n",
       "      <td>AAA Batteries (4-pack)</td>\n",
       "      <td>3</td>\n",
       "      <td>2.99</td>\n",
       "      <td>2019-08-31 16:26:00</td>\n",
       "      <td>206 Lakeview St, Boston, MA 02215</td>\n",
       "      <td>8</td>\n",
       "      <td>31</td>\n",
       "      <td>8.97</td>\n",
       "      <td>Boston</td>\n",
       "    </tr>\n",
       "    <tr>\n",
       "      <th>30391</th>\n",
       "      <td>248148</td>\n",
       "      <td>AA Batteries (4-pack)</td>\n",
       "      <td>1</td>\n",
       "      <td>3.84</td>\n",
       "      <td>2019-08-02 07:25:00</td>\n",
       "      <td>568 13th St, Seattle, WA 98101</td>\n",
       "      <td>8</td>\n",
       "      <td>2</td>\n",
       "      <td>3.84</td>\n",
       "      <td>Seattle</td>\n",
       "    </tr>\n",
       "    <tr>\n",
       "      <th>30392</th>\n",
       "      <td>248149</td>\n",
       "      <td>USB-C Charging Cable</td>\n",
       "      <td>1</td>\n",
       "      <td>11.95</td>\n",
       "      <td>2019-08-08 12:10:00</td>\n",
       "      <td>495 Walnut St, San Francisco, CA 94016</td>\n",
       "      <td>8</td>\n",
       "      <td>8</td>\n",
       "      <td>11.95</td>\n",
       "      <td>San Francisco</td>\n",
       "    </tr>\n",
       "    <tr>\n",
       "      <th>30393</th>\n",
       "      <td>248150</td>\n",
       "      <td>AA Batteries (4-pack)</td>\n",
       "      <td>1</td>\n",
       "      <td>3.84</td>\n",
       "      <td>2019-08-16 08:13:00</td>\n",
       "      <td>738 Park St, Los Angeles, CA 90001</td>\n",
       "      <td>8</td>\n",
       "      <td>16</td>\n",
       "      <td>3.84</td>\n",
       "      <td>Los Angeles</td>\n",
       "    </tr>\n",
       "  </tbody>\n",
       "</table>\n",
       "<p>30246 rows × 10 columns</p>\n",
       "</div>"
      ],
      "text/plain": [
       "      Order ID                     Product  Quantity Ordered  Price Each  \\\n",
       "0       176558        USB-C Charging Cable                 2       11.95   \n",
       "2       176559  Bose SoundSport Headphones                 1       99.99   \n",
       "3       176560                Google Phone                 1      600.00   \n",
       "4       176560            Wired Headphones                 1       11.99   \n",
       "5       176561            Wired Headphones                 1       11.99   \n",
       "...        ...                         ...               ...         ...   \n",
       "30389   248146  Bose SoundSport Headphones                 1       99.99   \n",
       "30390   248147      AAA Batteries (4-pack)                 3        2.99   \n",
       "30391   248148       AA Batteries (4-pack)                 1        3.84   \n",
       "30392   248149        USB-C Charging Cable                 1       11.95   \n",
       "30393   248150       AA Batteries (4-pack)                 1        3.84   \n",
       "\n",
       "               Order Date                         Purchase Address  Month  \\\n",
       "0     2019-04-19 08:46:00             917 1st St, Dallas, TX 75001      4   \n",
       "2     2019-04-07 22:30:00        682 Chestnut St, Boston, MA 02215      4   \n",
       "3     2019-04-12 14:38:00     669 Spruce St, Los Angeles, CA 90001      4   \n",
       "4     2019-04-12 14:38:00     669 Spruce St, Los Angeles, CA 90001      4   \n",
       "5     2019-04-30 09:27:00        333 8th St, Los Angeles, CA 90001      4   \n",
       "...                   ...                                      ...    ...   \n",
       "30389 2019-08-29 22:19:00  868 Hickory St, San Francisco, CA 94016      8   \n",
       "30390 2019-08-31 16:26:00        206 Lakeview St, Boston, MA 02215      8   \n",
       "30391 2019-08-02 07:25:00           568 13th St, Seattle, WA 98101      8   \n",
       "30392 2019-08-08 12:10:00   495 Walnut St, San Francisco, CA 94016      8   \n",
       "30393 2019-08-16 08:13:00       738 Park St, Los Angeles, CA 90001      8   \n",
       "\n",
       "       Day   Sales            City  \n",
       "0       19   23.90          Dallas  \n",
       "2        7   99.99          Boston  \n",
       "3       12  600.00     Los Angeles  \n",
       "4       12   11.99     Los Angeles  \n",
       "5       30   11.99     Los Angeles  \n",
       "...    ...     ...             ...  \n",
       "30389   29   99.99   San Francisco  \n",
       "30390   31    8.97          Boston  \n",
       "30391    2    3.84         Seattle  \n",
       "30392    8   11.95   San Francisco  \n",
       "30393   16    3.84     Los Angeles  \n",
       "\n",
       "[30246 rows x 10 columns]"
      ]
     },
     "execution_count": 94,
     "metadata": {},
     "output_type": "execute_result"
    }
   ],
   "source": [
    "#adding city column\n",
    "df['City'] = df['Purchase Address'].apply(lambda x: x.split(',')[1])\n",
    "df"
   ]
  },
  {
   "cell_type": "markdown",
   "id": "6ea8e454",
   "metadata": {
    "papermill": {
     "duration": 0.024402,
     "end_time": "2022-11-15T19:13:22.446553",
     "exception": false,
     "start_time": "2022-11-15T19:13:22.422151",
     "status": "completed"
    },
    "tags": []
   },
   "source": [
    "Two cities in different states can have the same names. So, let's grab the corresponding states too for more accurate analysis."
   ]
  },
  {
   "cell_type": "code",
   "execution_count": 95,
   "id": "3f4e71e9",
   "metadata": {
    "execution": {
     "iopub.execute_input": "2022-11-15T19:13:22.495715Z",
     "iopub.status.busy": "2022-11-15T19:13:22.494959Z",
     "iopub.status.idle": "2022-11-15T19:13:22.862434Z",
     "shell.execute_reply": "2022-11-15T19:13:22.861178Z"
    },
    "papermill": {
     "duration": 0.39476,
     "end_time": "2022-11-15T19:13:22.865056",
     "exception": false,
     "start_time": "2022-11-15T19:13:22.470296",
     "status": "completed"
    },
    "tags": []
   },
   "outputs": [
    {
     "data": {
      "text/html": [
       "<div>\n",
       "<style scoped>\n",
       "    .dataframe tbody tr th:only-of-type {\n",
       "        vertical-align: middle;\n",
       "    }\n",
       "\n",
       "    .dataframe tbody tr th {\n",
       "        vertical-align: top;\n",
       "    }\n",
       "\n",
       "    .dataframe thead th {\n",
       "        text-align: right;\n",
       "    }\n",
       "</style>\n",
       "<table border=\"1\" class=\"dataframe\">\n",
       "  <thead>\n",
       "    <tr style=\"text-align: right;\">\n",
       "      <th></th>\n",
       "      <th>Order ID</th>\n",
       "      <th>Product</th>\n",
       "      <th>Quantity Ordered</th>\n",
       "      <th>Price Each</th>\n",
       "      <th>Order Date</th>\n",
       "      <th>Purchase Address</th>\n",
       "      <th>Month</th>\n",
       "      <th>Day</th>\n",
       "      <th>Sales</th>\n",
       "      <th>City</th>\n",
       "    </tr>\n",
       "  </thead>\n",
       "  <tbody>\n",
       "    <tr>\n",
       "      <th>0</th>\n",
       "      <td>176558</td>\n",
       "      <td>USB-C Charging Cable</td>\n",
       "      <td>2</td>\n",
       "      <td>11.95</td>\n",
       "      <td>2019-04-19 08:46:00</td>\n",
       "      <td>917 1st St, Dallas, TX 75001</td>\n",
       "      <td>4</td>\n",
       "      <td>19</td>\n",
       "      <td>23.90</td>\n",
       "      <td>Dallas (TX)</td>\n",
       "    </tr>\n",
       "    <tr>\n",
       "      <th>2</th>\n",
       "      <td>176559</td>\n",
       "      <td>Bose SoundSport Headphones</td>\n",
       "      <td>1</td>\n",
       "      <td>99.99</td>\n",
       "      <td>2019-04-07 22:30:00</td>\n",
       "      <td>682 Chestnut St, Boston, MA 02215</td>\n",
       "      <td>4</td>\n",
       "      <td>7</td>\n",
       "      <td>99.99</td>\n",
       "      <td>Boston (MA)</td>\n",
       "    </tr>\n",
       "    <tr>\n",
       "      <th>3</th>\n",
       "      <td>176560</td>\n",
       "      <td>Google Phone</td>\n",
       "      <td>1</td>\n",
       "      <td>600.00</td>\n",
       "      <td>2019-04-12 14:38:00</td>\n",
       "      <td>669 Spruce St, Los Angeles, CA 90001</td>\n",
       "      <td>4</td>\n",
       "      <td>12</td>\n",
       "      <td>600.00</td>\n",
       "      <td>Los Angeles (CA)</td>\n",
       "    </tr>\n",
       "    <tr>\n",
       "      <th>4</th>\n",
       "      <td>176560</td>\n",
       "      <td>Wired Headphones</td>\n",
       "      <td>1</td>\n",
       "      <td>11.99</td>\n",
       "      <td>2019-04-12 14:38:00</td>\n",
       "      <td>669 Spruce St, Los Angeles, CA 90001</td>\n",
       "      <td>4</td>\n",
       "      <td>12</td>\n",
       "      <td>11.99</td>\n",
       "      <td>Los Angeles (CA)</td>\n",
       "    </tr>\n",
       "    <tr>\n",
       "      <th>5</th>\n",
       "      <td>176561</td>\n",
       "      <td>Wired Headphones</td>\n",
       "      <td>1</td>\n",
       "      <td>11.99</td>\n",
       "      <td>2019-04-30 09:27:00</td>\n",
       "      <td>333 8th St, Los Angeles, CA 90001</td>\n",
       "      <td>4</td>\n",
       "      <td>30</td>\n",
       "      <td>11.99</td>\n",
       "      <td>Los Angeles (CA)</td>\n",
       "    </tr>\n",
       "    <tr>\n",
       "      <th>...</th>\n",
       "      <td>...</td>\n",
       "      <td>...</td>\n",
       "      <td>...</td>\n",
       "      <td>...</td>\n",
       "      <td>...</td>\n",
       "      <td>...</td>\n",
       "      <td>...</td>\n",
       "      <td>...</td>\n",
       "      <td>...</td>\n",
       "      <td>...</td>\n",
       "    </tr>\n",
       "    <tr>\n",
       "      <th>30389</th>\n",
       "      <td>248146</td>\n",
       "      <td>Bose SoundSport Headphones</td>\n",
       "      <td>1</td>\n",
       "      <td>99.99</td>\n",
       "      <td>2019-08-29 22:19:00</td>\n",
       "      <td>868 Hickory St, San Francisco, CA 94016</td>\n",
       "      <td>8</td>\n",
       "      <td>29</td>\n",
       "      <td>99.99</td>\n",
       "      <td>San Francisco (CA)</td>\n",
       "    </tr>\n",
       "    <tr>\n",
       "      <th>30390</th>\n",
       "      <td>248147</td>\n",
       "      <td>AAA Batteries (4-pack)</td>\n",
       "      <td>3</td>\n",
       "      <td>2.99</td>\n",
       "      <td>2019-08-31 16:26:00</td>\n",
       "      <td>206 Lakeview St, Boston, MA 02215</td>\n",
       "      <td>8</td>\n",
       "      <td>31</td>\n",
       "      <td>8.97</td>\n",
       "      <td>Boston (MA)</td>\n",
       "    </tr>\n",
       "    <tr>\n",
       "      <th>30391</th>\n",
       "      <td>248148</td>\n",
       "      <td>AA Batteries (4-pack)</td>\n",
       "      <td>1</td>\n",
       "      <td>3.84</td>\n",
       "      <td>2019-08-02 07:25:00</td>\n",
       "      <td>568 13th St, Seattle, WA 98101</td>\n",
       "      <td>8</td>\n",
       "      <td>2</td>\n",
       "      <td>3.84</td>\n",
       "      <td>Seattle (WA)</td>\n",
       "    </tr>\n",
       "    <tr>\n",
       "      <th>30392</th>\n",
       "      <td>248149</td>\n",
       "      <td>USB-C Charging Cable</td>\n",
       "      <td>1</td>\n",
       "      <td>11.95</td>\n",
       "      <td>2019-08-08 12:10:00</td>\n",
       "      <td>495 Walnut St, San Francisco, CA 94016</td>\n",
       "      <td>8</td>\n",
       "      <td>8</td>\n",
       "      <td>11.95</td>\n",
       "      <td>San Francisco (CA)</td>\n",
       "    </tr>\n",
       "    <tr>\n",
       "      <th>30393</th>\n",
       "      <td>248150</td>\n",
       "      <td>AA Batteries (4-pack)</td>\n",
       "      <td>1</td>\n",
       "      <td>3.84</td>\n",
       "      <td>2019-08-16 08:13:00</td>\n",
       "      <td>738 Park St, Los Angeles, CA 90001</td>\n",
       "      <td>8</td>\n",
       "      <td>16</td>\n",
       "      <td>3.84</td>\n",
       "      <td>Los Angeles (CA)</td>\n",
       "    </tr>\n",
       "  </tbody>\n",
       "</table>\n",
       "<p>30246 rows × 10 columns</p>\n",
       "</div>"
      ],
      "text/plain": [
       "      Order ID                     Product  Quantity Ordered  Price Each  \\\n",
       "0       176558        USB-C Charging Cable                 2       11.95   \n",
       "2       176559  Bose SoundSport Headphones                 1       99.99   \n",
       "3       176560                Google Phone                 1      600.00   \n",
       "4       176560            Wired Headphones                 1       11.99   \n",
       "5       176561            Wired Headphones                 1       11.99   \n",
       "...        ...                         ...               ...         ...   \n",
       "30389   248146  Bose SoundSport Headphones                 1       99.99   \n",
       "30390   248147      AAA Batteries (4-pack)                 3        2.99   \n",
       "30391   248148       AA Batteries (4-pack)                 1        3.84   \n",
       "30392   248149        USB-C Charging Cable                 1       11.95   \n",
       "30393   248150       AA Batteries (4-pack)                 1        3.84   \n",
       "\n",
       "               Order Date                         Purchase Address  Month  \\\n",
       "0     2019-04-19 08:46:00             917 1st St, Dallas, TX 75001      4   \n",
       "2     2019-04-07 22:30:00        682 Chestnut St, Boston, MA 02215      4   \n",
       "3     2019-04-12 14:38:00     669 Spruce St, Los Angeles, CA 90001      4   \n",
       "4     2019-04-12 14:38:00     669 Spruce St, Los Angeles, CA 90001      4   \n",
       "5     2019-04-30 09:27:00        333 8th St, Los Angeles, CA 90001      4   \n",
       "...                   ...                                      ...    ...   \n",
       "30389 2019-08-29 22:19:00  868 Hickory St, San Francisco, CA 94016      8   \n",
       "30390 2019-08-31 16:26:00        206 Lakeview St, Boston, MA 02215      8   \n",
       "30391 2019-08-02 07:25:00           568 13th St, Seattle, WA 98101      8   \n",
       "30392 2019-08-08 12:10:00   495 Walnut St, San Francisco, CA 94016      8   \n",
       "30393 2019-08-16 08:13:00       738 Park St, Los Angeles, CA 90001      8   \n",
       "\n",
       "       Day   Sales                 City  \n",
       "0       19   23.90          Dallas (TX)  \n",
       "2        7   99.99          Boston (MA)  \n",
       "3       12  600.00     Los Angeles (CA)  \n",
       "4       12   11.99     Los Angeles (CA)  \n",
       "5       30   11.99     Los Angeles (CA)  \n",
       "...    ...     ...                  ...  \n",
       "30389   29   99.99   San Francisco (CA)  \n",
       "30390   31    8.97          Boston (MA)  \n",
       "30391    2    3.84         Seattle (WA)  \n",
       "30392    8   11.95   San Francisco (CA)  \n",
       "30393   16    3.84     Los Angeles (CA)  \n",
       "\n",
       "[30246 rows x 10 columns]"
      ]
     },
     "execution_count": 95,
     "metadata": {},
     "output_type": "execute_result"
    }
   ],
   "source": [
    "#adding state to the city column\n",
    "df['State'] = df['Purchase Address'].apply(lambda x: x.split(',')[2])\n",
    "df['State'] = df['State'].apply(lambda x: x.split(' ')[1])\n",
    "df['City'] = df['City'] + \" (\" + (df['State'])+\")\"\n",
    "df.drop(columns = 'State', inplace = True)\n",
    "df"
   ]
  },
  {
   "cell_type": "code",
   "execution_count": 96,
   "id": "0262cf93",
   "metadata": {
    "execution": {
     "iopub.execute_input": "2022-11-15T19:13:22.917046Z",
     "iopub.status.busy": "2022-11-15T19:13:22.916591Z",
     "iopub.status.idle": "2022-11-15T19:13:22.964660Z",
     "shell.execute_reply": "2022-11-15T19:13:22.963040Z"
    },
    "papermill": {
     "duration": 0.077448,
     "end_time": "2022-11-15T19:13:22.967818",
     "exception": false,
     "start_time": "2022-11-15T19:13:22.890370",
     "status": "completed"
    },
    "tags": []
   },
   "outputs": [
    {
     "data": {
      "text/html": [
       "<div>\n",
       "<style scoped>\n",
       "    .dataframe tbody tr th:only-of-type {\n",
       "        vertical-align: middle;\n",
       "    }\n",
       "\n",
       "    .dataframe tbody tr th {\n",
       "        vertical-align: top;\n",
       "    }\n",
       "\n",
       "    .dataframe thead th {\n",
       "        text-align: right;\n",
       "    }\n",
       "</style>\n",
       "<table border=\"1\" class=\"dataframe\">\n",
       "  <thead>\n",
       "    <tr style=\"text-align: right;\">\n",
       "      <th></th>\n",
       "      <th>Order ID</th>\n",
       "      <th>Product</th>\n",
       "      <th>Quantity Ordered</th>\n",
       "      <th>Price Each</th>\n",
       "      <th>Order Date</th>\n",
       "      <th>Purchase Address</th>\n",
       "      <th>Month</th>\n",
       "      <th>Day</th>\n",
       "      <th>Sales</th>\n",
       "      <th>City</th>\n",
       "      <th>Hour</th>\n",
       "    </tr>\n",
       "  </thead>\n",
       "  <tbody>\n",
       "    <tr>\n",
       "      <th>0</th>\n",
       "      <td>176558</td>\n",
       "      <td>USB-C Charging Cable</td>\n",
       "      <td>2</td>\n",
       "      <td>11.95</td>\n",
       "      <td>2019-04-19 08:46:00</td>\n",
       "      <td>917 1st St, Dallas, TX 75001</td>\n",
       "      <td>4</td>\n",
       "      <td>19</td>\n",
       "      <td>23.90</td>\n",
       "      <td>Dallas (TX)</td>\n",
       "      <td>8</td>\n",
       "    </tr>\n",
       "    <tr>\n",
       "      <th>2</th>\n",
       "      <td>176559</td>\n",
       "      <td>Bose SoundSport Headphones</td>\n",
       "      <td>1</td>\n",
       "      <td>99.99</td>\n",
       "      <td>2019-04-07 22:30:00</td>\n",
       "      <td>682 Chestnut St, Boston, MA 02215</td>\n",
       "      <td>4</td>\n",
       "      <td>7</td>\n",
       "      <td>99.99</td>\n",
       "      <td>Boston (MA)</td>\n",
       "      <td>22</td>\n",
       "    </tr>\n",
       "    <tr>\n",
       "      <th>3</th>\n",
       "      <td>176560</td>\n",
       "      <td>Google Phone</td>\n",
       "      <td>1</td>\n",
       "      <td>600.00</td>\n",
       "      <td>2019-04-12 14:38:00</td>\n",
       "      <td>669 Spruce St, Los Angeles, CA 90001</td>\n",
       "      <td>4</td>\n",
       "      <td>12</td>\n",
       "      <td>600.00</td>\n",
       "      <td>Los Angeles (CA)</td>\n",
       "      <td>14</td>\n",
       "    </tr>\n",
       "    <tr>\n",
       "      <th>4</th>\n",
       "      <td>176560</td>\n",
       "      <td>Wired Headphones</td>\n",
       "      <td>1</td>\n",
       "      <td>11.99</td>\n",
       "      <td>2019-04-12 14:38:00</td>\n",
       "      <td>669 Spruce St, Los Angeles, CA 90001</td>\n",
       "      <td>4</td>\n",
       "      <td>12</td>\n",
       "      <td>11.99</td>\n",
       "      <td>Los Angeles (CA)</td>\n",
       "      <td>14</td>\n",
       "    </tr>\n",
       "    <tr>\n",
       "      <th>5</th>\n",
       "      <td>176561</td>\n",
       "      <td>Wired Headphones</td>\n",
       "      <td>1</td>\n",
       "      <td>11.99</td>\n",
       "      <td>2019-04-30 09:27:00</td>\n",
       "      <td>333 8th St, Los Angeles, CA 90001</td>\n",
       "      <td>4</td>\n",
       "      <td>30</td>\n",
       "      <td>11.99</td>\n",
       "      <td>Los Angeles (CA)</td>\n",
       "      <td>9</td>\n",
       "    </tr>\n",
       "    <tr>\n",
       "      <th>...</th>\n",
       "      <td>...</td>\n",
       "      <td>...</td>\n",
       "      <td>...</td>\n",
       "      <td>...</td>\n",
       "      <td>...</td>\n",
       "      <td>...</td>\n",
       "      <td>...</td>\n",
       "      <td>...</td>\n",
       "      <td>...</td>\n",
       "      <td>...</td>\n",
       "      <td>...</td>\n",
       "    </tr>\n",
       "    <tr>\n",
       "      <th>30389</th>\n",
       "      <td>248146</td>\n",
       "      <td>Bose SoundSport Headphones</td>\n",
       "      <td>1</td>\n",
       "      <td>99.99</td>\n",
       "      <td>2019-08-29 22:19:00</td>\n",
       "      <td>868 Hickory St, San Francisco, CA 94016</td>\n",
       "      <td>8</td>\n",
       "      <td>29</td>\n",
       "      <td>99.99</td>\n",
       "      <td>San Francisco (CA)</td>\n",
       "      <td>22</td>\n",
       "    </tr>\n",
       "    <tr>\n",
       "      <th>30390</th>\n",
       "      <td>248147</td>\n",
       "      <td>AAA Batteries (4-pack)</td>\n",
       "      <td>3</td>\n",
       "      <td>2.99</td>\n",
       "      <td>2019-08-31 16:26:00</td>\n",
       "      <td>206 Lakeview St, Boston, MA 02215</td>\n",
       "      <td>8</td>\n",
       "      <td>31</td>\n",
       "      <td>8.97</td>\n",
       "      <td>Boston (MA)</td>\n",
       "      <td>16</td>\n",
       "    </tr>\n",
       "    <tr>\n",
       "      <th>30391</th>\n",
       "      <td>248148</td>\n",
       "      <td>AA Batteries (4-pack)</td>\n",
       "      <td>1</td>\n",
       "      <td>3.84</td>\n",
       "      <td>2019-08-02 07:25:00</td>\n",
       "      <td>568 13th St, Seattle, WA 98101</td>\n",
       "      <td>8</td>\n",
       "      <td>2</td>\n",
       "      <td>3.84</td>\n",
       "      <td>Seattle (WA)</td>\n",
       "      <td>7</td>\n",
       "    </tr>\n",
       "    <tr>\n",
       "      <th>30392</th>\n",
       "      <td>248149</td>\n",
       "      <td>USB-C Charging Cable</td>\n",
       "      <td>1</td>\n",
       "      <td>11.95</td>\n",
       "      <td>2019-08-08 12:10:00</td>\n",
       "      <td>495 Walnut St, San Francisco, CA 94016</td>\n",
       "      <td>8</td>\n",
       "      <td>8</td>\n",
       "      <td>11.95</td>\n",
       "      <td>San Francisco (CA)</td>\n",
       "      <td>12</td>\n",
       "    </tr>\n",
       "    <tr>\n",
       "      <th>30393</th>\n",
       "      <td>248150</td>\n",
       "      <td>AA Batteries (4-pack)</td>\n",
       "      <td>1</td>\n",
       "      <td>3.84</td>\n",
       "      <td>2019-08-16 08:13:00</td>\n",
       "      <td>738 Park St, Los Angeles, CA 90001</td>\n",
       "      <td>8</td>\n",
       "      <td>16</td>\n",
       "      <td>3.84</td>\n",
       "      <td>Los Angeles (CA)</td>\n",
       "      <td>8</td>\n",
       "    </tr>\n",
       "  </tbody>\n",
       "</table>\n",
       "<p>30246 rows × 11 columns</p>\n",
       "</div>"
      ],
      "text/plain": [
       "      Order ID                     Product  Quantity Ordered  Price Each  \\\n",
       "0       176558        USB-C Charging Cable                 2       11.95   \n",
       "2       176559  Bose SoundSport Headphones                 1       99.99   \n",
       "3       176560                Google Phone                 1      600.00   \n",
       "4       176560            Wired Headphones                 1       11.99   \n",
       "5       176561            Wired Headphones                 1       11.99   \n",
       "...        ...                         ...               ...         ...   \n",
       "30389   248146  Bose SoundSport Headphones                 1       99.99   \n",
       "30390   248147      AAA Batteries (4-pack)                 3        2.99   \n",
       "30391   248148       AA Batteries (4-pack)                 1        3.84   \n",
       "30392   248149        USB-C Charging Cable                 1       11.95   \n",
       "30393   248150       AA Batteries (4-pack)                 1        3.84   \n",
       "\n",
       "               Order Date                         Purchase Address  Month  \\\n",
       "0     2019-04-19 08:46:00             917 1st St, Dallas, TX 75001      4   \n",
       "2     2019-04-07 22:30:00        682 Chestnut St, Boston, MA 02215      4   \n",
       "3     2019-04-12 14:38:00     669 Spruce St, Los Angeles, CA 90001      4   \n",
       "4     2019-04-12 14:38:00     669 Spruce St, Los Angeles, CA 90001      4   \n",
       "5     2019-04-30 09:27:00        333 8th St, Los Angeles, CA 90001      4   \n",
       "...                   ...                                      ...    ...   \n",
       "30389 2019-08-29 22:19:00  868 Hickory St, San Francisco, CA 94016      8   \n",
       "30390 2019-08-31 16:26:00        206 Lakeview St, Boston, MA 02215      8   \n",
       "30391 2019-08-02 07:25:00           568 13th St, Seattle, WA 98101      8   \n",
       "30392 2019-08-08 12:10:00   495 Walnut St, San Francisco, CA 94016      8   \n",
       "30393 2019-08-16 08:13:00       738 Park St, Los Angeles, CA 90001      8   \n",
       "\n",
       "       Day   Sales                 City  Hour  \n",
       "0       19   23.90          Dallas (TX)     8  \n",
       "2        7   99.99          Boston (MA)    22  \n",
       "3       12  600.00     Los Angeles (CA)    14  \n",
       "4       12   11.99     Los Angeles (CA)    14  \n",
       "5       30   11.99     Los Angeles (CA)     9  \n",
       "...    ...     ...                  ...   ...  \n",
       "30389   29   99.99   San Francisco (CA)    22  \n",
       "30390   31    8.97          Boston (MA)    16  \n",
       "30391    2    3.84         Seattle (WA)     7  \n",
       "30392    8   11.95   San Francisco (CA)    12  \n",
       "30393   16    3.84     Los Angeles (CA)     8  \n",
       "\n",
       "[30246 rows x 11 columns]"
      ]
     },
     "execution_count": 96,
     "metadata": {},
     "output_type": "execute_result"
    }
   ],
   "source": [
    "#adding the order hour column\n",
    "df['Hour'] = df['Order Date'].dt.hour\n",
    "df"
   ]
  },
  {
   "cell_type": "code",
   "execution_count": 97,
   "id": "8399b395",
   "metadata": {
    "execution": {
     "iopub.execute_input": "2022-11-15T19:13:23.023048Z",
     "iopub.status.busy": "2022-11-15T19:13:23.022577Z",
     "iopub.status.idle": "2022-11-15T19:13:23.114065Z",
     "shell.execute_reply": "2022-11-15T19:13:23.112868Z"
    },
    "papermill": {
     "duration": 0.1228,
     "end_time": "2022-11-15T19:13:23.116760",
     "exception": false,
     "start_time": "2022-11-15T19:13:22.993960",
     "status": "completed"
    },
    "tags": []
   },
   "outputs": [
    {
     "data": {
      "text/html": [
       "<div>\n",
       "<style scoped>\n",
       "    .dataframe tbody tr th:only-of-type {\n",
       "        vertical-align: middle;\n",
       "    }\n",
       "\n",
       "    .dataframe tbody tr th {\n",
       "        vertical-align: top;\n",
       "    }\n",
       "\n",
       "    .dataframe thead th {\n",
       "        text-align: right;\n",
       "    }\n",
       "</style>\n",
       "<table border=\"1\" class=\"dataframe\">\n",
       "  <thead>\n",
       "    <tr style=\"text-align: right;\">\n",
       "      <th></th>\n",
       "      <th>Order ID</th>\n",
       "      <th>Product</th>\n",
       "      <th>Quantity Ordered</th>\n",
       "      <th>Price Each</th>\n",
       "      <th>Order Date</th>\n",
       "      <th>Purchase Address</th>\n",
       "      <th>Month</th>\n",
       "      <th>Day</th>\n",
       "      <th>Sales</th>\n",
       "      <th>City</th>\n",
       "      <th>Hour</th>\n",
       "      <th>Week Day</th>\n",
       "    </tr>\n",
       "  </thead>\n",
       "  <tbody>\n",
       "    <tr>\n",
       "      <th>0</th>\n",
       "      <td>176558</td>\n",
       "      <td>USB-C Charging Cable</td>\n",
       "      <td>2</td>\n",
       "      <td>11.95</td>\n",
       "      <td>2019-04-19 08:46:00</td>\n",
       "      <td>917 1st St, Dallas, TX 75001</td>\n",
       "      <td>4</td>\n",
       "      <td>19</td>\n",
       "      <td>23.90</td>\n",
       "      <td>Dallas (TX)</td>\n",
       "      <td>8</td>\n",
       "      <td>Friday</td>\n",
       "    </tr>\n",
       "    <tr>\n",
       "      <th>2</th>\n",
       "      <td>176559</td>\n",
       "      <td>Bose SoundSport Headphones</td>\n",
       "      <td>1</td>\n",
       "      <td>99.99</td>\n",
       "      <td>2019-04-07 22:30:00</td>\n",
       "      <td>682 Chestnut St, Boston, MA 02215</td>\n",
       "      <td>4</td>\n",
       "      <td>7</td>\n",
       "      <td>99.99</td>\n",
       "      <td>Boston (MA)</td>\n",
       "      <td>22</td>\n",
       "      <td>Sunday</td>\n",
       "    </tr>\n",
       "    <tr>\n",
       "      <th>3</th>\n",
       "      <td>176560</td>\n",
       "      <td>Google Phone</td>\n",
       "      <td>1</td>\n",
       "      <td>600.00</td>\n",
       "      <td>2019-04-12 14:38:00</td>\n",
       "      <td>669 Spruce St, Los Angeles, CA 90001</td>\n",
       "      <td>4</td>\n",
       "      <td>12</td>\n",
       "      <td>600.00</td>\n",
       "      <td>Los Angeles (CA)</td>\n",
       "      <td>14</td>\n",
       "      <td>Friday</td>\n",
       "    </tr>\n",
       "    <tr>\n",
       "      <th>4</th>\n",
       "      <td>176560</td>\n",
       "      <td>Wired Headphones</td>\n",
       "      <td>1</td>\n",
       "      <td>11.99</td>\n",
       "      <td>2019-04-12 14:38:00</td>\n",
       "      <td>669 Spruce St, Los Angeles, CA 90001</td>\n",
       "      <td>4</td>\n",
       "      <td>12</td>\n",
       "      <td>11.99</td>\n",
       "      <td>Los Angeles (CA)</td>\n",
       "      <td>14</td>\n",
       "      <td>Friday</td>\n",
       "    </tr>\n",
       "    <tr>\n",
       "      <th>5</th>\n",
       "      <td>176561</td>\n",
       "      <td>Wired Headphones</td>\n",
       "      <td>1</td>\n",
       "      <td>11.99</td>\n",
       "      <td>2019-04-30 09:27:00</td>\n",
       "      <td>333 8th St, Los Angeles, CA 90001</td>\n",
       "      <td>4</td>\n",
       "      <td>30</td>\n",
       "      <td>11.99</td>\n",
       "      <td>Los Angeles (CA)</td>\n",
       "      <td>9</td>\n",
       "      <td>Tuesday</td>\n",
       "    </tr>\n",
       "    <tr>\n",
       "      <th>...</th>\n",
       "      <td>...</td>\n",
       "      <td>...</td>\n",
       "      <td>...</td>\n",
       "      <td>...</td>\n",
       "      <td>...</td>\n",
       "      <td>...</td>\n",
       "      <td>...</td>\n",
       "      <td>...</td>\n",
       "      <td>...</td>\n",
       "      <td>...</td>\n",
       "      <td>...</td>\n",
       "      <td>...</td>\n",
       "    </tr>\n",
       "    <tr>\n",
       "      <th>30389</th>\n",
       "      <td>248146</td>\n",
       "      <td>Bose SoundSport Headphones</td>\n",
       "      <td>1</td>\n",
       "      <td>99.99</td>\n",
       "      <td>2019-08-29 22:19:00</td>\n",
       "      <td>868 Hickory St, San Francisco, CA 94016</td>\n",
       "      <td>8</td>\n",
       "      <td>29</td>\n",
       "      <td>99.99</td>\n",
       "      <td>San Francisco (CA)</td>\n",
       "      <td>22</td>\n",
       "      <td>Thursday</td>\n",
       "    </tr>\n",
       "    <tr>\n",
       "      <th>30390</th>\n",
       "      <td>248147</td>\n",
       "      <td>AAA Batteries (4-pack)</td>\n",
       "      <td>3</td>\n",
       "      <td>2.99</td>\n",
       "      <td>2019-08-31 16:26:00</td>\n",
       "      <td>206 Lakeview St, Boston, MA 02215</td>\n",
       "      <td>8</td>\n",
       "      <td>31</td>\n",
       "      <td>8.97</td>\n",
       "      <td>Boston (MA)</td>\n",
       "      <td>16</td>\n",
       "      <td>Saturday</td>\n",
       "    </tr>\n",
       "    <tr>\n",
       "      <th>30391</th>\n",
       "      <td>248148</td>\n",
       "      <td>AA Batteries (4-pack)</td>\n",
       "      <td>1</td>\n",
       "      <td>3.84</td>\n",
       "      <td>2019-08-02 07:25:00</td>\n",
       "      <td>568 13th St, Seattle, WA 98101</td>\n",
       "      <td>8</td>\n",
       "      <td>2</td>\n",
       "      <td>3.84</td>\n",
       "      <td>Seattle (WA)</td>\n",
       "      <td>7</td>\n",
       "      <td>Friday</td>\n",
       "    </tr>\n",
       "    <tr>\n",
       "      <th>30392</th>\n",
       "      <td>248149</td>\n",
       "      <td>USB-C Charging Cable</td>\n",
       "      <td>1</td>\n",
       "      <td>11.95</td>\n",
       "      <td>2019-08-08 12:10:00</td>\n",
       "      <td>495 Walnut St, San Francisco, CA 94016</td>\n",
       "      <td>8</td>\n",
       "      <td>8</td>\n",
       "      <td>11.95</td>\n",
       "      <td>San Francisco (CA)</td>\n",
       "      <td>12</td>\n",
       "      <td>Thursday</td>\n",
       "    </tr>\n",
       "    <tr>\n",
       "      <th>30393</th>\n",
       "      <td>248150</td>\n",
       "      <td>AA Batteries (4-pack)</td>\n",
       "      <td>1</td>\n",
       "      <td>3.84</td>\n",
       "      <td>2019-08-16 08:13:00</td>\n",
       "      <td>738 Park St, Los Angeles, CA 90001</td>\n",
       "      <td>8</td>\n",
       "      <td>16</td>\n",
       "      <td>3.84</td>\n",
       "      <td>Los Angeles (CA)</td>\n",
       "      <td>8</td>\n",
       "      <td>Friday</td>\n",
       "    </tr>\n",
       "  </tbody>\n",
       "</table>\n",
       "<p>30246 rows × 12 columns</p>\n",
       "</div>"
      ],
      "text/plain": [
       "      Order ID                     Product  Quantity Ordered  Price Each  \\\n",
       "0       176558        USB-C Charging Cable                 2       11.95   \n",
       "2       176559  Bose SoundSport Headphones                 1       99.99   \n",
       "3       176560                Google Phone                 1      600.00   \n",
       "4       176560            Wired Headphones                 1       11.99   \n",
       "5       176561            Wired Headphones                 1       11.99   \n",
       "...        ...                         ...               ...         ...   \n",
       "30389   248146  Bose SoundSport Headphones                 1       99.99   \n",
       "30390   248147      AAA Batteries (4-pack)                 3        2.99   \n",
       "30391   248148       AA Batteries (4-pack)                 1        3.84   \n",
       "30392   248149        USB-C Charging Cable                 1       11.95   \n",
       "30393   248150       AA Batteries (4-pack)                 1        3.84   \n",
       "\n",
       "               Order Date                         Purchase Address  Month  \\\n",
       "0     2019-04-19 08:46:00             917 1st St, Dallas, TX 75001      4   \n",
       "2     2019-04-07 22:30:00        682 Chestnut St, Boston, MA 02215      4   \n",
       "3     2019-04-12 14:38:00     669 Spruce St, Los Angeles, CA 90001      4   \n",
       "4     2019-04-12 14:38:00     669 Spruce St, Los Angeles, CA 90001      4   \n",
       "5     2019-04-30 09:27:00        333 8th St, Los Angeles, CA 90001      4   \n",
       "...                   ...                                      ...    ...   \n",
       "30389 2019-08-29 22:19:00  868 Hickory St, San Francisco, CA 94016      8   \n",
       "30390 2019-08-31 16:26:00        206 Lakeview St, Boston, MA 02215      8   \n",
       "30391 2019-08-02 07:25:00           568 13th St, Seattle, WA 98101      8   \n",
       "30392 2019-08-08 12:10:00   495 Walnut St, San Francisco, CA 94016      8   \n",
       "30393 2019-08-16 08:13:00       738 Park St, Los Angeles, CA 90001      8   \n",
       "\n",
       "       Day   Sales                 City  Hour  Week Day  \n",
       "0       19   23.90          Dallas (TX)     8    Friday  \n",
       "2        7   99.99          Boston (MA)    22    Sunday  \n",
       "3       12  600.00     Los Angeles (CA)    14    Friday  \n",
       "4       12   11.99     Los Angeles (CA)    14    Friday  \n",
       "5       30   11.99     Los Angeles (CA)     9   Tuesday  \n",
       "...    ...     ...                  ...   ...       ...  \n",
       "30389   29   99.99   San Francisco (CA)    22  Thursday  \n",
       "30390   31    8.97          Boston (MA)    16  Saturday  \n",
       "30391    2    3.84         Seattle (WA)     7    Friday  \n",
       "30392    8   11.95   San Francisco (CA)    12  Thursday  \n",
       "30393   16    3.84     Los Angeles (CA)     8    Friday  \n",
       "\n",
       "[30246 rows x 12 columns]"
      ]
     },
     "execution_count": 97,
     "metadata": {},
     "output_type": "execute_result"
    }
   ],
   "source": [
    "#adding the week day column \n",
    "df['Week Day'] = df['Order Date'].dt.day_name()\n",
    "df"
   ]
  },
  {
   "cell_type": "code",
   "execution_count": 98,
   "id": "9acfda7f",
   "metadata": {
    "execution": {
     "iopub.execute_input": "2022-11-15T19:13:23.169571Z",
     "iopub.status.busy": "2022-11-15T19:13:23.168936Z",
     "iopub.status.idle": "2022-11-15T19:13:23.180509Z",
     "shell.execute_reply": "2022-11-15T19:13:23.178645Z"
    },
    "papermill": {
     "duration": 0.042315,
     "end_time": "2022-11-15T19:13:23.183887",
     "exception": false,
     "start_time": "2022-11-15T19:13:23.141572",
     "status": "completed"
    },
    "tags": []
   },
   "outputs": [
    {
     "data": {
      "text/plain": [
       "Order ID                    object\n",
       "Product                     object\n",
       "Quantity Ordered             int64\n",
       "Price Each                 float64\n",
       "Order Date          datetime64[ns]\n",
       "Purchase Address            object\n",
       "Month                        int32\n",
       "Day                          int32\n",
       "Sales                      float64\n",
       "City                        object\n",
       "Hour                         int32\n",
       "Week Day                    object\n",
       "dtype: object"
      ]
     },
     "execution_count": 98,
     "metadata": {},
     "output_type": "execute_result"
    }
   ],
   "source": [
    "#checking dtypes once again\n",
    "df.dtypes"
   ]
  },
  {
   "cell_type": "markdown",
   "id": "11401a0c",
   "metadata": {
    "papermill": {
     "duration": 0.027387,
     "end_time": "2022-11-15T19:13:23.238683",
     "exception": false,
     "start_time": "2022-11-15T19:13:23.211296",
     "status": "completed"
    },
    "tags": []
   },
   "source": [
    "# Analysis Begins"
   ]
  },
  {
   "cell_type": "markdown",
   "id": "40dacade",
   "metadata": {
    "papermill": {
     "duration": 0.03004,
     "end_time": "2022-11-15T19:13:23.295187",
     "exception": false,
     "start_time": "2022-11-15T19:13:23.265147",
     "status": "completed"
    },
    "tags": []
   },
   "source": [
    "Before going forward, let us understand a few business related concerns. \n",
    "\n",
    "*Orders is not the same thing as Sales.*\n",
    "\n",
    "For example, 100 orders can be placed in a day but their combined sales can vary. It can be 10000 or 50000 depending upon the product ordered. \n",
    "\n",
    "Similarly, sales of 10000 can be achieved via a single order or multiple orders combined. This also depends upon the product ordered.\n",
    "\n",
    "So, best product in terms of order and in terms of sales can be different."
   ]
  },
  {
   "cell_type": "markdown",
   "id": "fae78066",
   "metadata": {
    "papermill": {
     "duration": 0.025184,
     "end_time": "2022-11-15T19:13:23.346361",
     "exception": false,
     "start_time": "2022-11-15T19:13:23.321177",
     "status": "completed"
    },
    "tags": []
   },
   "source": [
    "### Best month in terms of sales"
   ]
  },
  {
   "cell_type": "code",
   "execution_count": 99,
   "id": "1e57d53c",
   "metadata": {},
   "outputs": [],
   "source": [
    "df['Month'] = pd.to_datetime(df['Month'], errors='coerce')  # Ensures proper conversion\n"
   ]
  },
  {
   "cell_type": "code",
   "execution_count": 100,
   "id": "81a0787d",
   "metadata": {},
   "outputs": [],
   "source": [
    "df['Month'] = df['Month'].dt.month\n"
   ]
  },
  {
   "cell_type": "code",
   "execution_count": 101,
   "id": "d5d28aa9",
   "metadata": {
    "execution": {
     "iopub.execute_input": "2022-11-15T19:13:23.399064Z",
     "iopub.status.busy": "2022-11-15T19:13:23.398648Z",
     "iopub.status.idle": "2022-11-15T19:13:23.481203Z",
     "shell.execute_reply": "2022-11-15T19:13:23.479874Z"
    },
    "papermill": {
     "duration": 0.112233,
     "end_time": "2022-11-15T19:13:23.483674",
     "exception": false,
     "start_time": "2022-11-15T19:13:23.371441",
     "status": "completed"
    },
    "tags": []
   },
   "outputs": [
    {
     "name": "stdout",
     "output_type": "stream",
     "text": [
      "int32\n",
      "Month\n",
      "1    5640471.42\n",
      "Name: Sales, dtype: float64\n"
     ]
    }
   ],
   "source": [
    "# Check the current data type\n",
    "print(df['Month'].dtype)\n",
    "\n",
    "# Convert to datetime if necessary\n",
    "if not pd.api.types.is_datetime64_any_dtype(df['Month']):\n",
    "    df['Month'] = pd.to_datetime(df['Month'], errors='coerce')\n",
    "\n",
    "# Extract the month\n",
    "df['Month'] = df['Month'].dt.month\n",
    "\n",
    "# Perform the groupby operation\n",
    "best_month = df.groupby('Month')['Sales'].sum()  # Replace 'Sales' with your numeric column\n",
    "print(best_month)\n"
   ]
  },
  {
   "cell_type": "markdown",
   "id": "bbb48f63",
   "metadata": {
    "papermill": {
     "duration": 0.02438,
     "end_time": "2022-11-15T19:13:23.862084",
     "exception": false,
     "start_time": "2022-11-15T19:13:23.837704",
     "status": "completed"
    },
    "tags": []
   },
   "source": [
    "December was the best month in terms of sales. One of the reasons for this is the Christmas celebrations."
   ]
  },
  {
   "cell_type": "markdown",
   "id": "b9eec8dc",
   "metadata": {
    "papermill": {
     "duration": 0.024315,
     "end_time": "2022-11-15T19:13:23.911081",
     "exception": false,
     "start_time": "2022-11-15T19:13:23.886766",
     "status": "completed"
    },
    "tags": []
   },
   "source": [
    "### Best month in terms of orders"
   ]
  },
  {
   "cell_type": "code",
   "execution_count": 102,
   "id": "359563cc",
   "metadata": {
    "execution": {
     "iopub.execute_input": "2022-11-15T19:13:23.963014Z",
     "iopub.status.busy": "2022-11-15T19:13:23.962592Z",
     "iopub.status.idle": "2022-11-15T19:13:23.981351Z",
     "shell.execute_reply": "2022-11-15T19:13:23.980181Z"
    },
    "papermill": {
     "duration": 0.047941,
     "end_time": "2022-11-15T19:13:23.983671",
     "exception": false,
     "start_time": "2022-11-15T19:13:23.935730",
     "status": "completed"
    },
    "tags": []
   },
   "outputs": [
    {
     "data": {
      "text/html": [
       "<div>\n",
       "<style scoped>\n",
       "    .dataframe tbody tr th:only-of-type {\n",
       "        vertical-align: middle;\n",
       "    }\n",
       "\n",
       "    .dataframe tbody tr th {\n",
       "        vertical-align: top;\n",
       "    }\n",
       "\n",
       "    .dataframe thead th {\n",
       "        text-align: right;\n",
       "    }\n",
       "</style>\n",
       "<table border=\"1\" class=\"dataframe\">\n",
       "  <thead>\n",
       "    <tr style=\"text-align: right;\">\n",
       "      <th></th>\n",
       "      <th>Order ID</th>\n",
       "      <th>Month</th>\n",
       "      <th>Counter</th>\n",
       "    </tr>\n",
       "  </thead>\n",
       "  <tbody>\n",
       "    <tr>\n",
       "      <th>0</th>\n",
       "      <td>176558</td>\n",
       "      <td>1</td>\n",
       "      <td>1</td>\n",
       "    </tr>\n",
       "    <tr>\n",
       "      <th>2</th>\n",
       "      <td>176559</td>\n",
       "      <td>1</td>\n",
       "      <td>1</td>\n",
       "    </tr>\n",
       "    <tr>\n",
       "      <th>3</th>\n",
       "      <td>176560</td>\n",
       "      <td>1</td>\n",
       "      <td>1</td>\n",
       "    </tr>\n",
       "    <tr>\n",
       "      <th>4</th>\n",
       "      <td>176560</td>\n",
       "      <td>1</td>\n",
       "      <td>1</td>\n",
       "    </tr>\n",
       "    <tr>\n",
       "      <th>5</th>\n",
       "      <td>176561</td>\n",
       "      <td>1</td>\n",
       "      <td>1</td>\n",
       "    </tr>\n",
       "    <tr>\n",
       "      <th>...</th>\n",
       "      <td>...</td>\n",
       "      <td>...</td>\n",
       "      <td>...</td>\n",
       "    </tr>\n",
       "    <tr>\n",
       "      <th>30389</th>\n",
       "      <td>248146</td>\n",
       "      <td>1</td>\n",
       "      <td>1</td>\n",
       "    </tr>\n",
       "    <tr>\n",
       "      <th>30390</th>\n",
       "      <td>248147</td>\n",
       "      <td>1</td>\n",
       "      <td>1</td>\n",
       "    </tr>\n",
       "    <tr>\n",
       "      <th>30391</th>\n",
       "      <td>248148</td>\n",
       "      <td>1</td>\n",
       "      <td>1</td>\n",
       "    </tr>\n",
       "    <tr>\n",
       "      <th>30392</th>\n",
       "      <td>248149</td>\n",
       "      <td>1</td>\n",
       "      <td>1</td>\n",
       "    </tr>\n",
       "    <tr>\n",
       "      <th>30393</th>\n",
       "      <td>248150</td>\n",
       "      <td>1</td>\n",
       "      <td>1</td>\n",
       "    </tr>\n",
       "  </tbody>\n",
       "</table>\n",
       "<p>30246 rows × 3 columns</p>\n",
       "</div>"
      ],
      "text/plain": [
       "      Order ID  Month  Counter\n",
       "0       176558      1        1\n",
       "2       176559      1        1\n",
       "3       176560      1        1\n",
       "4       176560      1        1\n",
       "5       176561      1        1\n",
       "...        ...    ...      ...\n",
       "30389   248146      1        1\n",
       "30390   248147      1        1\n",
       "30391   248148      1        1\n",
       "30392   248149      1        1\n",
       "30393   248150      1        1\n",
       "\n",
       "[30246 rows x 3 columns]"
      ]
     },
     "execution_count": 102,
     "metadata": {},
     "output_type": "execute_result"
    }
   ],
   "source": [
    "#creating a subset dataframe and adding counter to it\n",
    "\n",
    "order_count = df[['Order ID', 'Month']]\n",
    "\n",
    "order_count['Counter'] = 1\n",
    "\n",
    "order_count"
   ]
  },
  {
   "cell_type": "code",
   "execution_count": 103,
   "id": "42cc4002",
   "metadata": {
    "execution": {
     "iopub.execute_input": "2022-11-15T19:13:24.036010Z",
     "iopub.status.busy": "2022-11-15T19:13:24.035320Z",
     "iopub.status.idle": "2022-11-15T19:13:24.057171Z",
     "shell.execute_reply": "2022-11-15T19:13:24.056007Z"
    },
    "papermill": {
     "duration": 0.051203,
     "end_time": "2022-11-15T19:13:24.059811",
     "exception": false,
     "start_time": "2022-11-15T19:13:24.008608",
     "status": "completed"
    },
    "tags": []
   },
   "outputs": [
    {
     "data": {
      "text/html": [
       "<div>\n",
       "<style scoped>\n",
       "    .dataframe tbody tr th:only-of-type {\n",
       "        vertical-align: middle;\n",
       "    }\n",
       "\n",
       "    .dataframe tbody tr th {\n",
       "        vertical-align: top;\n",
       "    }\n",
       "\n",
       "    .dataframe thead th {\n",
       "        text-align: right;\n",
       "    }\n",
       "</style>\n",
       "<table border=\"1\" class=\"dataframe\">\n",
       "  <thead>\n",
       "    <tr style=\"text-align: right;\">\n",
       "      <th></th>\n",
       "      <th>Order ID</th>\n",
       "      <th>Counter</th>\n",
       "    </tr>\n",
       "    <tr>\n",
       "      <th>Month</th>\n",
       "      <th></th>\n",
       "      <th></th>\n",
       "    </tr>\n",
       "  </thead>\n",
       "  <tbody>\n",
       "    <tr>\n",
       "      <th>1</th>\n",
       "      <td>1765581765591765601765601765611765621765631765...</td>\n",
       "      <td>30246</td>\n",
       "    </tr>\n",
       "  </tbody>\n",
       "</table>\n",
       "</div>"
      ],
      "text/plain": [
       "                                                Order ID  Counter\n",
       "Month                                                            \n",
       "1      1765581765591765601765601765611765621765631765...    30246"
      ]
     },
     "execution_count": 103,
     "metadata": {},
     "output_type": "execute_result"
    }
   ],
   "source": [
    "max_order_month = order_count.groupby('Month').sum()\n",
    "max_order_month"
   ]
  },
  {
   "cell_type": "code",
   "execution_count": 104,
   "id": "9c5f7040",
   "metadata": {
    "scrolled": false
   },
   "outputs": [
    {
     "data": {
      "image/png": "[encoded data removed]",
      "text/plain": [
       "<Figure size 1200x600 with 1 Axes>"
      ]
     },
     "metadata": {},
     "output_type": "display_data"
    }
   ],
   "source": [
    "# Ensure 'Sales' column exists\n",
    "if 'Sales' not in df.columns:\n",
    "    df['Sales'] = df['Quantity Ordered'] * df['Price Each']\n",
    "\n",
    "# Ensure 'Order Date' is the index\n",
    "if df.index.name != 'Order Date':\n",
    "    df = df.set_index('Order Date')\n",
    "\n",
    "# Resample and plot monthly orders\n",
    "df_monthly = df['Sales'].resample('M').sum()\n",
    "\n",
    "plt.figure(figsize=(12, 6))\n",
    "plt.plot(df_monthly.index, df_monthly, marker='o', linestyle='-', color='b', label='Monthly Orders')\n",
    "plt.title('Monthly Orders Over Time', fontsize=16)\n",
    "plt.xlabel('Month', fontsize=14)\n",
    "plt.ylabel('Total Sales', fontsize=14)\n",
    "plt.grid(alpha=0.3)\n",
    "plt.legend(fontsize=12)\n",
    "plt.tight_layout()\n",
    "plt.show()\n"
   ]
  },
  {
   "cell_type": "markdown",
   "id": "4cf8f12b",
   "metadata": {
    "papermill": {
     "duration": 0.026276,
     "end_time": "2022-11-15T19:13:24.411566",
     "exception": false,
     "start_time": "2022-11-15T19:13:24.385290",
     "status": "completed"
    },
    "tags": []
   },
   "source": [
    "So, maximum orders were also placed in December. This is again due to the festive season. People buy for themselves, their families and for gifting."
   ]
  },
  {
   "cell_type": "markdown",
   "id": "f24414f1",
   "metadata": {
    "papermill": {
     "duration": 0.025098,
     "end_time": "2022-11-15T19:13:24.464129",
     "exception": false,
     "start_time": "2022-11-15T19:13:24.439031",
     "status": "completed"
    },
    "tags": []
   },
   "source": [
    "### Best city in terms of sales"
   ]
  },
  {
   "cell_type": "code",
   "execution_count": 105,
   "id": "454f11ed",
   "metadata": {},
   "outputs": [
    {
     "data": {
      "image/png": "[encoded data removed]",
      "text/plain": [
       "<Figure size 800x800 with 1 Axes>"
      ]
     },
     "metadata": {},
     "output_type": "display_data"
    },
    {
     "name": "stdout",
     "output_type": "stream",
     "text": [
      "                     Quantity Ordered  Price Each  Month     Day       Sales  \\\n",
      "City                                                                           \n",
      " Atlanta (GA)                    2686   451323.17   2413   37799   453722.58   \n",
      " Austin (TX)                     1827   296633.65   1622   25513   298397.20   \n",
      " Boston (MA)                     3599   589675.38   3163   49243   594155.41   \n",
      " Dallas (TX)                     2621   430647.33   2318   36973   432603.93   \n",
      " Los Angeles (CA)                5471   891861.82   4893   77399   896860.73   \n",
      " New York City (NY)              4545   743526.74   4060   63690   749745.59   \n",
      " Portland (ME)                    446    77524.62    408    6482    77933.09   \n",
      " Portland (OR)                   1880   313858.38   1651   26142   315484.71   \n",
      " San Francisco (CA)              8179  1345378.84   7270  114096  1355827.90   \n",
      " Seattle (WA)                    2756   462925.79   2448   37944   465740.28   \n",
      "\n",
      "                       Hour  \n",
      "City                         \n",
      " Atlanta (GA)         34831  \n",
      " Austin (TX)          22925  \n",
      " Boston (MA)          45879  \n",
      " Dallas (TX)          33358  \n",
      " Los Angeles (CA)     69875  \n",
      " New York City (NY)   58107  \n",
      " Portland (ME)         5887  \n",
      " Portland (OR)        23660  \n",
      " San Francisco (CA)  104379  \n",
      " Seattle (WA)         35659  \n"
     ]
    }
   ],
   "source": [
    "import matplotlib.pyplot as plt\n",
    "\n",
    "# Aggregate sales by city\n",
    "city_sales = df.groupby('City')['Sales'].sum()\n",
    "\n",
    "# Create a donut chart\n",
    "plt.figure(figsize=(8, 8))\n",
    "plt.pie(city_sales, labels=city_sales.index, autopct='%1.1f%%', startangle=90, wedgeprops={'width': 0.4})\n",
    "plt.title('City-wise Sales Distribution', fontsize=16)\n",
    "\n",
    "# Display the chart\n",
    "plt.tight_layout()\n",
    "plt.show()\n",
    "\n",
    "\n",
    "\n",
    "# Ensure 'City' column exists and drop rows with NaN in 'City'\n",
    "df = df.dropna(subset=['City'])\n",
    "\n",
    "# Perform grouping and summation on numeric columns only\n",
    "best_city = df.groupby('City').sum(numeric_only=True)\n",
    "\n",
    "print(best_city)\n",
    "\n"
   ]
  },
  {
   "cell_type": "markdown",
   "id": "b8c04444",
   "metadata": {
    "papermill": {
     "duration": 0.025417,
     "end_time": "2022-11-15T19:13:24.628234",
     "exception": false,
     "start_time": "2022-11-15T19:13:24.602817",
     "status": "completed"
    },
    "tags": []
   },
   "source": [
    "Clearly, San Francisco has the highest sales. If you wonder at the reason, one can be the high requirements of electronics (which have high prices) in the Silicon Valley. Also, maybe people have more money in San Francisco."
   ]
  },
  {
   "cell_type": "code",
   "execution_count": 106,
   "id": "6c88e2ab",
   "metadata": {
    "execution": {
     "iopub.execute_input": "2022-11-15T19:13:25.194921Z",
     "iopub.status.busy": "2022-11-15T19:13:25.194232Z",
     "iopub.status.idle": "2022-11-15T19:13:25.230403Z",
     "shell.execute_reply": "2022-11-15T19:13:25.229172Z"
    },
    "papermill": {
     "duration": 0.06802,
     "end_time": "2022-11-15T19:13:25.233260",
     "exception": false,
     "start_time": "2022-11-15T19:13:25.165240",
     "status": "completed"
    },
    "tags": []
   },
   "outputs": [],
   "source": [
    "#max_order_city = city_order_count.groupby('City').sum()\n",
    "#max_order_city"
   ]
  },
  {
   "cell_type": "markdown",
   "id": "69356db0",
   "metadata": {
    "papermill": {
     "duration": 0.026695,
     "end_time": "2022-11-15T19:13:25.593454",
     "exception": false,
     "start_time": "2022-11-15T19:13:25.566759",
     "status": "completed"
    },
    "tags": []
   },
   "source": [
    "Interestingly, San Fransisco has highest number of orders too. This can be credited to the lifestyle and needs of the people living there."
   ]
  },
  {
   "cell_type": "markdown",
   "id": "f8232429",
   "metadata": {
    "papermill": {
     "duration": 0.027374,
     "end_time": "2022-11-15T19:13:25.648047",
     "exception": false,
     "start_time": "2022-11-15T19:13:25.620673",
     "status": "completed"
    },
    "tags": []
   },
   "source": [
    "### Best timings for advertisements to get maximum conversions"
   ]
  },
  {
   "cell_type": "code",
   "execution_count": 107,
   "id": "061766d2",
   "metadata": {},
   "outputs": [
    {
     "name": "stdout",
     "output_type": "stream",
     "text": [
      "Index(['Order ID', 'Product', 'Quantity Ordered', 'Price Each',\n",
      "       'Purchase Address', 'Month', 'Day', 'Sales', 'City', 'Hour',\n",
      "       'Week Day'],\n",
      "      dtype='object')\n"
     ]
    }
   ],
   "source": [
    "print(df.columns)\n"
   ]
  },
  {
   "cell_type": "code",
   "execution_count": 108,
   "id": "a6ed8440",
   "metadata": {
    "scrolled": false
   },
   "outputs": [
    {
     "data": {
      "image/png": "[encoded data removed]",
      "text/plain": [
       "<Figure size 1200x600 with 1 Axes>"
      ]
     },
     "metadata": {},
     "output_type": "display_data"
    }
   ],
   "source": [
    "import pandas as pd\n",
    "import matplotlib.pyplot as plt\n",
    "\n",
    "# Ensure 'Hour' is a numeric type\n",
    "df['Hour'] = pd.to_numeric(df['Hour'], errors='coerce')\n",
    "\n",
    "# Group by hour and sum the sales (assuming 'Sales' represents conversions or total sales value)\n",
    "df_hourly_sales = df.groupby('Hour')['Sales'].sum()\n",
    "\n",
    "# Plot the line chart for sales by hour of the day\n",
    "plt.figure(figsize=(12, 6))\n",
    "plt.plot(df_hourly_sales.index, df_hourly_sales, marker='o', linestyle='-', color='b', label='Hourly Sales')\n",
    "plt.title('Best Timings for Advertisements to Maximize Sales/Conversions', fontsize=16)\n",
    "plt.xlabel('Hour of the Day', fontsize=14)\n",
    "plt.ylabel('Total Sales', fontsize=14)\n",
    "plt.grid(alpha=0.3)\n",
    "plt.xticks(range(0, 24))  # Display all hours (0 to 23)\n",
    "plt.legend(fontsize=12)\n",
    "plt.tight_layout()\n",
    "plt.show()\n"
   ]
  },
  {
   "cell_type": "code",
   "execution_count": 109,
   "id": "f471a8a6",
   "metadata": {
    "execution": {
     "iopub.execute_input": "2022-11-15T19:13:25.871697Z",
     "iopub.status.busy": "2022-11-15T19:13:25.871016Z",
     "iopub.status.idle": "2022-11-15T19:13:26.337926Z",
     "shell.execute_reply": "2022-11-15T19:13:26.336593Z"
    },
    "papermill": {
     "duration": 0.49844,
     "end_time": "2022-11-15T19:13:26.340584",
     "exception": false,
     "start_time": "2022-11-15T19:13:25.842144",
     "status": "completed"
    },
    "tags": []
   },
   "outputs": [
    {
     "data": {
      "image/png": "[encoded data removed]",
      "text/plain": [
       "<Figure size 1000x800 with 1 Axes>"
      ]
     },
     "metadata": {},
     "output_type": "display_data"
    }
   ],
   "source": [
    "import matplotlib.pyplot as plt\n",
    "\n",
    "# Grouping by 'Hour' and aggregating the count of orders\n",
    "best_hour = df.groupby('Hour').size().reset_index(name='Counter')\n",
    "\n",
    "# Extracting hours\n",
    "hours = best_hour['Hour']\n",
    "\n",
    "# Plotting\n",
    "plt.figure(figsize=(10, 8))\n",
    "plt.plot(hours, best_hour['Counter'])\n",
    "plt.xticks(hours)\n",
    "plt.xlabel('Time of the day')\n",
    "plt.ylabel('No of orders')\n",
    "plt.grid()\n",
    "plt.show()\n"
   ]
  },
  {
   "cell_type": "markdown",
   "id": "39f7b1e8",
   "metadata": {
    "papermill": {
     "duration": 0.027572,
     "end_time": "2022-11-15T19:13:26.396012",
     "exception": false,
     "start_time": "2022-11-15T19:13:26.368440",
     "status": "completed"
    },
    "tags": []
   },
   "source": [
    "The best timings for advertisements are between 10 am to 1 pm (when people usually have their lunch and are scrolling their mobile devices) and 6 pm to 8 pm (when people are off work, having dinners or hanging out and using their mobile devices)."
   ]
  },
  {
   "cell_type": "markdown",
   "id": "81148337",
   "metadata": {
    "papermill": {
     "duration": 0.027783,
     "end_time": "2022-11-15T19:13:26.452465",
     "exception": false,
     "start_time": "2022-11-15T19:13:26.424682",
     "status": "completed"
    },
    "tags": []
   },
   "source": [
    "### Best day of the week in terms of sales"
   ]
  },
  {
   "cell_type": "code",
   "execution_count": 110,
   "id": "f28abf21",
   "metadata": {
    "execution": {
     "iopub.execute_input": "2022-11-15T19:13:26.510525Z",
     "iopub.status.busy": "2022-11-15T19:13:26.510126Z",
     "iopub.status.idle": "2022-11-15T19:13:26.564945Z",
     "shell.execute_reply": "2022-11-15T19:13:26.563630Z"
    },
    "papermill": {
     "duration": 0.087179,
     "end_time": "2022-11-15T19:13:26.567729",
     "exception": false,
     "start_time": "2022-11-15T19:13:26.480550",
     "status": "completed"
    },
    "tags": []
   },
   "outputs": [
    {
     "name": "stdout",
     "output_type": "stream",
     "text": [
      "           Quantity Ordered  Price Each  Month    Day      Sales   Hour\n",
      "Week Day                                                               \n",
      "Friday                 4781   776423.85   4285  66281  780438.24  62200\n",
      "Monday                 5039   809637.63   4449  67586  816028.97  63978\n",
      "Saturday               4946   803799.16   4415  74354  810150.12  63546\n",
      "Sunday                 4497   723972.87   3974  65255  729202.43  57494\n",
      "Thursday               4969   841108.78   4436  65865  846715.52  63647\n",
      "Tuesday                5160   859100.87   4589  74334  863966.39  65385\n",
      "Wednesday              4618   789312.56   4098  61606  793969.75  58310\n"
     ]
    }
   ],
   "source": [
    "# Drop rows where 'Week Day' is NaN\n",
    "df = df.dropna(subset=['Week Day'])\n",
    "\n",
    "# Group by 'Week Day' and sum only numeric columns\n",
    "best_weekday = df.groupby('Week Day').sum(numeric_only=True)\n",
    "\n",
    "print(best_weekday)\n"
   ]
  },
  {
   "cell_type": "code",
   "execution_count": 111,
   "id": "5662f471",
   "metadata": {
    "execution": {
     "iopub.execute_input": "2022-11-15T19:13:26.626727Z",
     "iopub.status.busy": "2022-11-15T19:13:26.626306Z",
     "iopub.status.idle": "2022-11-15T19:13:26.642826Z",
     "shell.execute_reply": "2022-11-15T19:13:26.641575Z"
    },
    "papermill": {
     "duration": 0.049166,
     "end_time": "2022-11-15T19:13:26.645361",
     "exception": false,
     "start_time": "2022-11-15T19:13:26.596195",
     "status": "completed"
    },
    "tags": []
   },
   "outputs": [
    {
     "data": {
      "text/html": [
       "<div>\n",
       "<style scoped>\n",
       "    .dataframe tbody tr th:only-of-type {\n",
       "        vertical-align: middle;\n",
       "    }\n",
       "\n",
       "    .dataframe tbody tr th {\n",
       "        vertical-align: top;\n",
       "    }\n",
       "\n",
       "    .dataframe thead th {\n",
       "        text-align: right;\n",
       "    }\n",
       "</style>\n",
       "<table border=\"1\" class=\"dataframe\">\n",
       "  <thead>\n",
       "    <tr style=\"text-align: right;\">\n",
       "      <th></th>\n",
       "      <th>Quantity Ordered</th>\n",
       "      <th>Price Each</th>\n",
       "      <th>Month</th>\n",
       "      <th>Day</th>\n",
       "      <th>Sales</th>\n",
       "      <th>Hour</th>\n",
       "    </tr>\n",
       "    <tr>\n",
       "      <th>Week Day</th>\n",
       "      <th></th>\n",
       "      <th></th>\n",
       "      <th></th>\n",
       "      <th></th>\n",
       "      <th></th>\n",
       "      <th></th>\n",
       "    </tr>\n",
       "  </thead>\n",
       "  <tbody>\n",
       "    <tr>\n",
       "      <th>Monday</th>\n",
       "      <td>5039</td>\n",
       "      <td>809637.63</td>\n",
       "      <td>4449</td>\n",
       "      <td>67586</td>\n",
       "      <td>816028.97</td>\n",
       "      <td>63978</td>\n",
       "    </tr>\n",
       "    <tr>\n",
       "      <th>Tuesday</th>\n",
       "      <td>5160</td>\n",
       "      <td>859100.87</td>\n",
       "      <td>4589</td>\n",
       "      <td>74334</td>\n",
       "      <td>863966.39</td>\n",
       "      <td>65385</td>\n",
       "    </tr>\n",
       "    <tr>\n",
       "      <th>Wednesday</th>\n",
       "      <td>4618</td>\n",
       "      <td>789312.56</td>\n",
       "      <td>4098</td>\n",
       "      <td>61606</td>\n",
       "      <td>793969.75</td>\n",
       "      <td>58310</td>\n",
       "    </tr>\n",
       "    <tr>\n",
       "      <th>Thursday</th>\n",
       "      <td>4969</td>\n",
       "      <td>841108.78</td>\n",
       "      <td>4436</td>\n",
       "      <td>65865</td>\n",
       "      <td>846715.52</td>\n",
       "      <td>63647</td>\n",
       "    </tr>\n",
       "    <tr>\n",
       "      <th>Friday</th>\n",
       "      <td>4781</td>\n",
       "      <td>776423.85</td>\n",
       "      <td>4285</td>\n",
       "      <td>66281</td>\n",
       "      <td>780438.24</td>\n",
       "      <td>62200</td>\n",
       "    </tr>\n",
       "    <tr>\n",
       "      <th>Saturday</th>\n",
       "      <td>4946</td>\n",
       "      <td>803799.16</td>\n",
       "      <td>4415</td>\n",
       "      <td>74354</td>\n",
       "      <td>810150.12</td>\n",
       "      <td>63546</td>\n",
       "    </tr>\n",
       "    <tr>\n",
       "      <th>Sunday</th>\n",
       "      <td>4497</td>\n",
       "      <td>723972.87</td>\n",
       "      <td>3974</td>\n",
       "      <td>65255</td>\n",
       "      <td>729202.43</td>\n",
       "      <td>57494</td>\n",
       "    </tr>\n",
       "  </tbody>\n",
       "</table>\n",
       "</div>"
      ],
      "text/plain": [
       "           Quantity Ordered  Price Each  Month    Day      Sales   Hour\n",
       "Week Day                                                               \n",
       "Monday                 5039   809637.63   4449  67586  816028.97  63978\n",
       "Tuesday                5160   859100.87   4589  74334  863966.39  65385\n",
       "Wednesday              4618   789312.56   4098  61606  793969.75  58310\n",
       "Thursday               4969   841108.78   4436  65865  846715.52  63647\n",
       "Friday                 4781   776423.85   4285  66281  780438.24  62200\n",
       "Saturday               4946   803799.16   4415  74354  810150.12  63546\n",
       "Sunday                 4497   723972.87   3974  65255  729202.43  57494"
      ]
     },
     "execution_count": 111,
     "metadata": {},
     "output_type": "execute_result"
    }
   ],
   "source": [
    "#arranging days in weekday order\n",
    "days = [ 'Monday', 'Tuesday', 'Wednesday', 'Thursday', 'Friday', 'Saturday', 'Sunday']\n",
    "\n",
    "best_weekday = best_weekday.reindex(days) \n",
    "best_weekday"
   ]
  },
  {
   "cell_type": "code",
   "execution_count": 112,
   "id": "d36ec324",
   "metadata": {},
   "outputs": [
    {
     "data": {
      "image/png": "[encoded data removed]",
      "text/plain": [
       "<Figure size 1000x600 with 1 Axes>"
      ]
     },
     "metadata": {},
     "output_type": "display_data"
    }
   ],
   "source": [
    "# Ensure 'Sales' column exists\n",
    "if 'Sales' not in df.columns:\n",
    "    df['Sales'] = df['Quantity Ordered'] * df['Price Each']\n",
    "\n",
    "# Ensure 'Order Date' is the index\n",
    "if df.index.name != 'Order Date':\n",
    "    df = df.set_index('Order Date')\n",
    "\n",
    "# Extract day of the week (Monday, Tuesday, etc.)\n",
    "df['Day of Week'] = df.index.day_name()\n",
    "\n",
    "# Group by day of the week and sum the sales\n",
    "df_daywise = df.groupby('Day of Week')['Sales'].sum()\n",
    "\n",
    "# Reorder the days of the week in proper order (Monday, Tuesday, etc.)\n",
    "ordered_days = ['Monday', 'Tuesday', 'Wednesday', 'Thursday', 'Friday', 'Saturday', 'Sunday']\n",
    "df_daywise = df_daywise[ordered_days]\n",
    "\n",
    "# Plot the day-wise sales using a bar chart with purple color\n",
    "plt.figure(figsize=(10, 6))\n",
    "df_daywise.plot(kind='bar', color='purple', width=0.8)\n",
    "plt.title('Day-wise Sales', fontsize=16)\n",
    "plt.xlabel('Day of the Week', fontsize=14)\n",
    "plt.ylabel('Total Sales', fontsize=14)\n",
    "plt.xticks(rotation=45, ha='right')  # Rotate x-axis labels for better readability\n",
    "plt.grid(axis='y', alpha=0.3)\n",
    "plt.tight_layout()\n",
    "plt.show()\n"
   ]
  },
  {
   "cell_type": "markdown",
   "id": "25a77e18",
   "metadata": {
    "papermill": {
     "duration": 0.030093,
     "end_time": "2022-11-15T19:13:26.978368",
     "exception": false,
     "start_time": "2022-11-15T19:13:26.948275",
     "status": "completed"
    },
    "tags": []
   },
   "source": [
    "Maximum sales happens on Tuesdays. Let's correlate this with the pattern of orders placed during the week."
   ]
  },
  {
   "cell_type": "markdown",
   "id": "2c3ce796",
   "metadata": {
    "papermill": {
     "duration": 0.03001,
     "end_time": "2022-11-15T19:13:27.256544",
     "exception": false,
     "start_time": "2022-11-15T19:13:27.226534",
     "status": "completed"
    },
    "tags": []
   },
   "source": [
    "Since the dataframe displays 'Week Day' in alphabetical order, let us sort and display it in proper weekday order."
   ]
  },
  {
   "cell_type": "markdown",
   "id": "663d5630",
   "metadata": {
    "papermill": {
     "duration": 0.029887,
     "end_time": "2022-11-15T19:13:27.670023",
     "exception": false,
     "start_time": "2022-11-15T19:13:27.640136",
     "status": "completed"
    },
    "tags": []
   },
   "source": [
    "Most orders are placed by people on Tuesday (which is strange). One of the reason can be the weekend! Yes, the weekend is certainly the quietest time for orders, as people have more leisure time. So when they are back, they attend to their professional needs and place orders. "
   ]
  },
  {
   "cell_type": "markdown",
   "id": "4d9866f5",
   "metadata": {
    "papermill": {
     "duration": 0.029553,
     "end_time": "2022-11-15T19:13:27.729612",
     "exception": false,
     "start_time": "2022-11-15T19:13:27.700059",
     "status": "completed"
    },
    "tags": []
   },
   "source": [
    "### Hot dates to sell every month"
   ]
  },
  {
   "cell_type": "code",
   "execution_count": 113,
   "id": "891e3ca4",
   "metadata": {},
   "outputs": [
    {
     "data": {
      "image/png": "[encoded data removed]",
      "text/plain": [
       "<Figure size 1200x600 with 1 Axes>"
      ]
     },
     "metadata": {},
     "output_type": "display_data"
    }
   ],
   "source": [
    "# Ensure 'Sales' column exists\n",
    "if 'Sales' not in df.columns:\n",
    "    df['Sales'] = df['Quantity Ordered'] * df['Price Each']\n",
    "\n",
    "# Ensure 'Order Date' is the index\n",
    "if df.index.name != 'Order Date':\n",
    "    df = df.set_index('Order Date')\n",
    "\n",
    "# Group by month and find the top-selling day in each month\n",
    "df['Month'] = df.index.month\n",
    "df['Day'] = df.index.day\n",
    "\n",
    "# Get the daily sales\n",
    "df_daily_sales = df.groupby(['Month', 'Day'])['Sales'].sum()\n",
    "\n",
    "# Find the top-selling day for each month\n",
    "top_days = df_daily_sales.groupby('Month').idxmax()\n",
    "\n",
    "# Create a DataFrame to store top days' sales\n",
    "top_sales = df_daily_sales[top_days].reset_index(name='Top Sales')\n",
    "\n",
    "# Plot the \"hot dates\" (top days in each month)\n",
    "plt.figure(figsize=(12, 6))\n",
    "plt.plot(top_sales['Month'], top_sales['Top Sales'], marker='o', linestyle='-', color='y', label='Hot Dates (Top Sales)')\n",
    "plt.title('Hot Dates to Sell Every Month', fontsize=16)\n",
    "plt.xlabel('Month', fontsize=14)\n",
    "plt.ylabel('Top Sales', fontsize=14)\n",
    "plt.grid(alpha=0.3)\n",
    "plt.xticks(range(1, 13))  # Label months from 1 to 12\n",
    "plt.legend(fontsize=12)\n",
    "plt.tight_layout()\n",
    "plt.show()\n"
   ]
  },
  {
   "cell_type": "code",
   "execution_count": 114,
   "id": "87c7ee9a",
   "metadata": {
    "execution": {
     "iopub.execute_input": "2022-11-15T19:13:27.963812Z",
     "iopub.status.busy": "2022-11-15T19:13:27.963343Z",
     "iopub.status.idle": "2022-11-15T19:13:28.341283Z",
     "shell.execute_reply": "2022-11-15T19:13:28.339854Z"
    },
    "papermill": {
     "duration": 0.413024,
     "end_time": "2022-11-15T19:13:28.344079",
     "exception": false,
     "start_time": "2022-11-15T19:13:27.931055",
     "status": "completed"
    },
    "tags": []
   },
   "outputs": [
    {
     "data": {
      "image/png": "[encoded data removed]",
      "text/plain": [
       "<Figure size 1000x800 with 1 Axes>"
      ]
     },
     "metadata": {},
     "output_type": "display_data"
    }
   ],
   "source": [
    "import matplotlib.pyplot as plt\n",
    "\n",
    "# Grouping by 'Day' and counting orders\n",
    "hot_dates_sales = df.groupby('Day').size().reset_index(name='Counter')\n",
    "\n",
    "# Extracting dates\n",
    "dates = hot_dates_sales['Day']\n",
    "\n",
    "# Plotting\n",
    "plt.figure(figsize=(10, 8))\n",
    "plt.plot(dates, hot_dates_sales['Counter'])\n",
    "plt.xticks(dates, rotation=45)  # Rotate for better readability if needed\n",
    "plt.xlabel('Day of the Month')\n",
    "plt.ylabel('No of orders')\n",
    "plt.grid()\n",
    "plt.show()\n"
   ]
  },
  {
   "cell_type": "markdown",
   "id": "df439fe0",
   "metadata": {
    "papermill": {
     "duration": 0.031708,
     "end_time": "2022-11-15T19:13:28.407214",
     "exception": false,
     "start_time": "2022-11-15T19:13:28.375506",
     "status": "completed"
    },
    "tags": []
   },
   "source": [
    "We have peaks on the 2nd, 10th and 13th of a particular month. These can be hot dates to promote products and get orders. Also, end of the month sees a sharp decine in the number of orders (maybe people are waiting for their salaries)."
   ]
  },
  {
   "cell_type": "markdown",
   "id": "b2d957e9",
   "metadata": {
    "papermill": {
     "duration": 0.031201,
     "end_time": "2022-11-15T19:13:28.469630",
     "exception": false,
     "start_time": "2022-11-15T19:13:28.438429",
     "status": "completed"
    },
    "tags": []
   },
   "source": [
    "### Most Ordered Product"
   ]
  },
  {
   "cell_type": "code",
   "execution_count": 115,
   "id": "a42147e9",
   "metadata": {},
   "outputs": [
    {
     "data": {
      "image/png": "[encoded data removed]",
      "text/plain": [
       "<Figure size 1000x600 with 1 Axes>"
      ]
     },
     "metadata": {},
     "output_type": "display_data"
    }
   ],
   "source": [
    "import matplotlib.pyplot as plt\n",
    "\n",
    "# Group by 'Product' and sum the 'Sales'\n",
    "product_sales = df.groupby('Product')['Sales'].sum()\n",
    "\n",
    "# Sort the products by the total sales in descending order\n",
    "product_sales = product_sales.sort_values(ascending=False)\n",
    "\n",
    "# Plot the bar chart\n",
    "plt.figure(figsize=(10, 6))\n",
    "product_sales.plot(kind='bar', color='orange')\n",
    "\n",
    "# Add titles and labels\n",
    "plt.title('Most Ordered Products', fontsize=16)\n",
    "plt.xlabel('Product', fontsize=12)\n",
    "plt.ylabel('Total Sales', fontsize=12)\n",
    "\n",
    "# Rotate the x-axis labels for better readability\n",
    "plt.xticks(rotation=45, ha='right')\n",
    "\n",
    "# Display the chart\n",
    "plt.tight_layout()\n",
    "plt.show()\n"
   ]
  },
  {
   "cell_type": "code",
   "execution_count": 116,
   "id": "bbfc72f7",
   "metadata": {
    "execution": {
     "iopub.execute_input": "2022-11-15T19:13:29.168068Z",
     "iopub.status.busy": "2022-11-15T19:13:29.167639Z",
     "iopub.status.idle": "2022-11-15T19:13:29.240905Z",
     "shell.execute_reply": "2022-11-15T19:13:29.239853Z"
    },
    "papermill": {
     "duration": 0.109026,
     "end_time": "2022-11-15T19:13:29.243450",
     "exception": false,
     "start_time": "2022-11-15T19:13:29.134424",
     "status": "completed"
    },
    "tags": []
   },
   "outputs": [
    {
     "name": "stdout",
     "output_type": "stream",
     "text": [
      "Product\n",
      "20in Monitor                   109.99\n",
      "27in 4K Gaming Monitor         389.99\n",
      "27in FHD Monitor               149.99\n",
      "34in Ultrawide Monitor         379.99\n",
      "AA Batteries (4-pack)            3.84\n",
      "AAA Batteries (4-pack)           2.99\n",
      "Apple Airpods Headphones       150.00\n",
      "Bose SoundSport Headphones      99.99\n",
      "Flatscreen TV                  300.00\n",
      "Google Phone                   600.00\n",
      "LG Dryer                       600.00\n",
      "LG Washing Machine             600.00\n",
      "Lightning Charging Cable        14.95\n",
      "Macbook Pro Laptop            1700.00\n",
      "ThinkPad Laptop                999.99\n",
      "USB-C Charging Cable            11.95\n",
      "Vareebadd Phone                400.00\n",
      "Wired Headphones                11.99\n",
      "iPhone                         700.00\n",
      "Name: Price Each, dtype: float64\n"
     ]
    }
   ],
   "source": [
    "# Convert the 'Price Each' column to numeric, coercing errors to NaN\n",
    "df['Price Each'] = pd.to_numeric(df['Price Each'], errors='coerce')\n",
    "\n",
    "# Now group by 'Product' and calculate the mean price for each product\n",
    "prices = df.groupby('Product')['Price Each'].mean()\n",
    "print(prices)\n"
   ]
  },
  {
   "cell_type": "code",
   "execution_count": 117,
   "id": "98550ab0",
   "metadata": {
    "execution": {
     "iopub.execute_input": "2022-11-15T19:13:29.309945Z",
     "iopub.status.busy": "2022-11-15T19:13:29.309144Z",
     "iopub.status.idle": "2022-11-15T19:13:29.724077Z",
     "shell.execute_reply": "2022-11-15T19:13:29.722714Z"
    },
    "papermill": {
     "duration": 0.451069,
     "end_time": "2022-11-15T19:13:29.726717",
     "exception": false,
     "start_time": "2022-11-15T19:13:29.275648",
     "status": "completed"
    },
    "scrolled": false,
    "tags": []
   },
   "outputs": [
    {
     "data": {
      "image/png": "[encoded data removed]",
      "text/plain": [
       "<Figure size 1200x800 with 2 Axes>"
      ]
     },
     "metadata": {},
     "output_type": "display_data"
    }
   ],
   "source": [
    "import matplotlib.pyplot as plt\n",
    "import pandas as pd\n",
    "\n",
    "# Ensure column names have no extra spaces\n",
    "df.columns = df.columns.str.strip()\n",
    "\n",
    "# Convert numeric columns to proper format\n",
    "df['Quantity Ordered'] = pd.to_numeric(df['Quantity Ordered'], errors='coerce')\n",
    "df['Price Each'] = pd.to_numeric(df['Price Each'], errors='coerce')\n",
    "\n",
    "# Assign values correctly\n",
    "product = df['Product']\n",
    "most_orders = df['Quantity Ordered']\n",
    "prices = df['Price Each']\n",
    "\n",
    "# Drop NaN values if any\n",
    "df = df.dropna(subset=['Product', 'Quantity Ordered', 'Price Each'])\n",
    "\n",
    "# Creating the figure and axes\n",
    "fig, ax1 = plt.subplots(figsize=(12, 8))\n",
    "\n",
    "ax2 = ax1.twinx()\n",
    "ax1.plot(product, most_orders, color='g', marker='o', linestyle='dashed', label=\"Quantity Ordered\")\n",
    "ax2.plot(product, prices, color='b', marker='s', linestyle='dashed', label=\"Price Each\")\n",
    "\n",
    "ax1.set_xlabel('Product Name')\n",
    "ax1.set_ylabel('Quantity Ordered', color='g', size=10)\n",
    "ax2.set_ylabel('Price Each', color='b', size=10)\n",
    "\n",
    "ax1.set_xticks(range(len(product)))\n",
    "ax1.set_xticklabels(product, rotation='vertical', size=10)\n",
    "\n",
    "plt.title(\"Product vs Quantity Ordered & Price\")\n",
    "plt.legend()\n",
    "plt.show()\n"
   ]
  },
  {
   "cell_type": "markdown",
   "id": "a224d467",
   "metadata": {
    "papermill": {
     "duration": 0.033008,
     "end_time": "2022-11-15T19:13:29.793377",
     "exception": false,
     "start_time": "2022-11-15T19:13:29.760369",
     "status": "completed"
    },
    "tags": []
   },
   "source": [
    "### Product Combinations Frequently Bought Together"
   ]
  },
  {
   "cell_type": "code",
   "execution_count": 118,
   "id": "91b0c65c",
   "metadata": {
    "execution": {
     "iopub.execute_input": "2022-11-15T19:13:29.862080Z",
     "iopub.status.busy": "2022-11-15T19:13:29.861639Z",
     "iopub.status.idle": "2022-11-15T19:13:29.935095Z",
     "shell.execute_reply": "2022-11-15T19:13:29.933831Z"
    },
    "papermill": {
     "duration": 0.111042,
     "end_time": "2022-11-15T19:13:29.937744",
     "exception": false,
     "start_time": "2022-11-15T19:13:29.826702",
     "status": "completed"
    },
    "tags": []
   },
   "outputs": [
    {
     "data": {
      "text/html": [
       "<div>\n",
       "<style scoped>\n",
       "    .dataframe tbody tr th:only-of-type {\n",
       "        vertical-align: middle;\n",
       "    }\n",
       "\n",
       "    .dataframe tbody tr th {\n",
       "        vertical-align: top;\n",
       "    }\n",
       "\n",
       "    .dataframe thead th {\n",
       "        text-align: right;\n",
       "    }\n",
       "</style>\n",
       "<table border=\"1\" class=\"dataframe\">\n",
       "  <thead>\n",
       "    <tr style=\"text-align: right;\">\n",
       "      <th></th>\n",
       "      <th>Order ID</th>\n",
       "      <th>Product</th>\n",
       "      <th>Quantity Ordered</th>\n",
       "      <th>Price Each</th>\n",
       "      <th>Purchase Address</th>\n",
       "      <th>Month</th>\n",
       "      <th>Day</th>\n",
       "      <th>Sales</th>\n",
       "      <th>City</th>\n",
       "      <th>Hour</th>\n",
       "      <th>Week Day</th>\n",
       "      <th>Day of Week</th>\n",
       "    </tr>\n",
       "    <tr>\n",
       "      <th>Order Date</th>\n",
       "      <th></th>\n",
       "      <th></th>\n",
       "      <th></th>\n",
       "      <th></th>\n",
       "      <th></th>\n",
       "      <th></th>\n",
       "      <th></th>\n",
       "      <th></th>\n",
       "      <th></th>\n",
       "      <th></th>\n",
       "      <th></th>\n",
       "      <th></th>\n",
       "    </tr>\n",
       "  </thead>\n",
       "  <tbody>\n",
       "    <tr>\n",
       "      <th>2019-04-12 14:38:00</th>\n",
       "      <td>176560</td>\n",
       "      <td>Google Phone</td>\n",
       "      <td>1</td>\n",
       "      <td>600.00</td>\n",
       "      <td>669 Spruce St, Los Angeles, CA 90001</td>\n",
       "      <td>4</td>\n",
       "      <td>12</td>\n",
       "      <td>600.00</td>\n",
       "      <td>Los Angeles (CA)</td>\n",
       "      <td>14</td>\n",
       "      <td>Friday</td>\n",
       "      <td>Friday</td>\n",
       "    </tr>\n",
       "    <tr>\n",
       "      <th>2019-04-12 14:38:00</th>\n",
       "      <td>176560</td>\n",
       "      <td>Wired Headphones</td>\n",
       "      <td>1</td>\n",
       "      <td>11.99</td>\n",
       "      <td>669 Spruce St, Los Angeles, CA 90001</td>\n",
       "      <td>4</td>\n",
       "      <td>12</td>\n",
       "      <td>11.99</td>\n",
       "      <td>Los Angeles (CA)</td>\n",
       "      <td>14</td>\n",
       "      <td>Friday</td>\n",
       "      <td>Friday</td>\n",
       "    </tr>\n",
       "    <tr>\n",
       "      <th>2019-04-03 19:42:00</th>\n",
       "      <td>176574</td>\n",
       "      <td>Google Phone</td>\n",
       "      <td>1</td>\n",
       "      <td>600.00</td>\n",
       "      <td>20 Hill St, Los Angeles, CA 90001</td>\n",
       "      <td>4</td>\n",
       "      <td>3</td>\n",
       "      <td>600.00</td>\n",
       "      <td>Los Angeles (CA)</td>\n",
       "      <td>19</td>\n",
       "      <td>Wednesday</td>\n",
       "      <td>Wednesday</td>\n",
       "    </tr>\n",
       "    <tr>\n",
       "      <th>2019-04-03 19:42:00</th>\n",
       "      <td>176574</td>\n",
       "      <td>USB-C Charging Cable</td>\n",
       "      <td>1</td>\n",
       "      <td>11.95</td>\n",
       "      <td>20 Hill St, Los Angeles, CA 90001</td>\n",
       "      <td>4</td>\n",
       "      <td>3</td>\n",
       "      <td>11.95</td>\n",
       "      <td>Los Angeles (CA)</td>\n",
       "      <td>19</td>\n",
       "      <td>Wednesday</td>\n",
       "      <td>Wednesday</td>\n",
       "    </tr>\n",
       "    <tr>\n",
       "      <th>2019-04-07 11:31:00</th>\n",
       "      <td>176585</td>\n",
       "      <td>Bose SoundSport Headphones</td>\n",
       "      <td>1</td>\n",
       "      <td>99.99</td>\n",
       "      <td>823 Highland St, Boston, MA 02215</td>\n",
       "      <td>4</td>\n",
       "      <td>7</td>\n",
       "      <td>99.99</td>\n",
       "      <td>Boston (MA)</td>\n",
       "      <td>11</td>\n",
       "      <td>Sunday</td>\n",
       "      <td>Sunday</td>\n",
       "    </tr>\n",
       "    <tr>\n",
       "      <th>...</th>\n",
       "      <td>...</td>\n",
       "      <td>...</td>\n",
       "      <td>...</td>\n",
       "      <td>...</td>\n",
       "      <td>...</td>\n",
       "      <td>...</td>\n",
       "      <td>...</td>\n",
       "      <td>...</td>\n",
       "      <td>...</td>\n",
       "      <td>...</td>\n",
       "      <td>...</td>\n",
       "      <td>...</td>\n",
       "    </tr>\n",
       "    <tr>\n",
       "      <th>2019-08-13 19:26:00</th>\n",
       "      <td>248088</td>\n",
       "      <td>Bose SoundSport Headphones</td>\n",
       "      <td>1</td>\n",
       "      <td>99.99</td>\n",
       "      <td>614 11th St, San Francisco, CA 94016</td>\n",
       "      <td>8</td>\n",
       "      <td>13</td>\n",
       "      <td>99.99</td>\n",
       "      <td>San Francisco (CA)</td>\n",
       "      <td>19</td>\n",
       "      <td>Tuesday</td>\n",
       "      <td>Tuesday</td>\n",
       "    </tr>\n",
       "    <tr>\n",
       "      <th>2019-08-28 19:27:00</th>\n",
       "      <td>248105</td>\n",
       "      <td>Google Phone</td>\n",
       "      <td>1</td>\n",
       "      <td>600.00</td>\n",
       "      <td>21 Center St, New York City, NY 10001</td>\n",
       "      <td>8</td>\n",
       "      <td>28</td>\n",
       "      <td>600.00</td>\n",
       "      <td>New York City (NY)</td>\n",
       "      <td>19</td>\n",
       "      <td>Wednesday</td>\n",
       "      <td>Wednesday</td>\n",
       "    </tr>\n",
       "    <tr>\n",
       "      <th>2019-08-28 19:27:00</th>\n",
       "      <td>248105</td>\n",
       "      <td>Wired Headphones</td>\n",
       "      <td>1</td>\n",
       "      <td>11.99</td>\n",
       "      <td>21 Center St, New York City, NY 10001</td>\n",
       "      <td>8</td>\n",
       "      <td>28</td>\n",
       "      <td>11.99</td>\n",
       "      <td>New York City (NY)</td>\n",
       "      <td>19</td>\n",
       "      <td>Wednesday</td>\n",
       "      <td>Wednesday</td>\n",
       "    </tr>\n",
       "    <tr>\n",
       "      <th>2019-08-02 20:42:00</th>\n",
       "      <td>248120</td>\n",
       "      <td>Google Phone</td>\n",
       "      <td>1</td>\n",
       "      <td>600.00</td>\n",
       "      <td>619 5th St, New York City, NY 10001</td>\n",
       "      <td>8</td>\n",
       "      <td>2</td>\n",
       "      <td>600.00</td>\n",
       "      <td>New York City (NY)</td>\n",
       "      <td>20</td>\n",
       "      <td>Friday</td>\n",
       "      <td>Friday</td>\n",
       "    </tr>\n",
       "    <tr>\n",
       "      <th>2019-08-02 20:42:00</th>\n",
       "      <td>248120</td>\n",
       "      <td>USB-C Charging Cable</td>\n",
       "      <td>1</td>\n",
       "      <td>11.95</td>\n",
       "      <td>619 5th St, New York City, NY 10001</td>\n",
       "      <td>8</td>\n",
       "      <td>2</td>\n",
       "      <td>11.95</td>\n",
       "      <td>New York City (NY)</td>\n",
       "      <td>20</td>\n",
       "      <td>Friday</td>\n",
       "      <td>Friday</td>\n",
       "    </tr>\n",
       "  </tbody>\n",
       "</table>\n",
       "<p>2406 rows × 12 columns</p>\n",
       "</div>"
      ],
      "text/plain": [
       "                    Order ID                     Product  Quantity Ordered  \\\n",
       "Order Date                                                                   \n",
       "2019-04-12 14:38:00   176560                Google Phone                 1   \n",
       "2019-04-12 14:38:00   176560            Wired Headphones                 1   \n",
       "2019-04-03 19:42:00   176574                Google Phone                 1   \n",
       "2019-04-03 19:42:00   176574        USB-C Charging Cable                 1   \n",
       "2019-04-07 11:31:00   176585  Bose SoundSport Headphones                 1   \n",
       "...                      ...                         ...               ...   \n",
       "2019-08-13 19:26:00   248088  Bose SoundSport Headphones                 1   \n",
       "2019-08-28 19:27:00   248105                Google Phone                 1   \n",
       "2019-08-28 19:27:00   248105            Wired Headphones                 1   \n",
       "2019-08-02 20:42:00   248120                Google Phone                 1   \n",
       "2019-08-02 20:42:00   248120        USB-C Charging Cable                 1   \n",
       "\n",
       "                     Price Each                       Purchase Address  Month  \\\n",
       "Order Date                                                                      \n",
       "2019-04-12 14:38:00      600.00   669 Spruce St, Los Angeles, CA 90001      4   \n",
       "2019-04-12 14:38:00       11.99   669 Spruce St, Los Angeles, CA 90001      4   \n",
       "2019-04-03 19:42:00      600.00      20 Hill St, Los Angeles, CA 90001      4   \n",
       "2019-04-03 19:42:00       11.95      20 Hill St, Los Angeles, CA 90001      4   \n",
       "2019-04-07 11:31:00       99.99      823 Highland St, Boston, MA 02215      4   \n",
       "...                         ...                                    ...    ...   \n",
       "2019-08-13 19:26:00       99.99   614 11th St, San Francisco, CA 94016      8   \n",
       "2019-08-28 19:27:00      600.00  21 Center St, New York City, NY 10001      8   \n",
       "2019-08-28 19:27:00       11.99  21 Center St, New York City, NY 10001      8   \n",
       "2019-08-02 20:42:00      600.00    619 5th St, New York City, NY 10001      8   \n",
       "2019-08-02 20:42:00       11.95    619 5th St, New York City, NY 10001      8   \n",
       "\n",
       "                     Day   Sales                 City  Hour   Week Day  \\\n",
       "Order Date                                                               \n",
       "2019-04-12 14:38:00   12  600.00     Los Angeles (CA)    14     Friday   \n",
       "2019-04-12 14:38:00   12   11.99     Los Angeles (CA)    14     Friday   \n",
       "2019-04-03 19:42:00    3  600.00     Los Angeles (CA)    19  Wednesday   \n",
       "2019-04-03 19:42:00    3   11.95     Los Angeles (CA)    19  Wednesday   \n",
       "2019-04-07 11:31:00    7   99.99          Boston (MA)    11     Sunday   \n",
       "...                  ...     ...                  ...   ...        ...   \n",
       "2019-08-13 19:26:00   13   99.99   San Francisco (CA)    19    Tuesday   \n",
       "2019-08-28 19:27:00   28  600.00   New York City (NY)    19  Wednesday   \n",
       "2019-08-28 19:27:00   28   11.99   New York City (NY)    19  Wednesday   \n",
       "2019-08-02 20:42:00    2  600.00   New York City (NY)    20     Friday   \n",
       "2019-08-02 20:42:00    2   11.95   New York City (NY)    20     Friday   \n",
       "\n",
       "                    Day of Week  \n",
       "Order Date                       \n",
       "2019-04-12 14:38:00      Friday  \n",
       "2019-04-12 14:38:00      Friday  \n",
       "2019-04-03 19:42:00   Wednesday  \n",
       "2019-04-03 19:42:00   Wednesday  \n",
       "2019-04-07 11:31:00      Sunday  \n",
       "...                         ...  \n",
       "2019-08-13 19:26:00     Tuesday  \n",
       "2019-08-28 19:27:00   Wednesday  \n",
       "2019-08-28 19:27:00   Wednesday  \n",
       "2019-08-02 20:42:00      Friday  \n",
       "2019-08-02 20:42:00      Friday  \n",
       "\n",
       "[2406 rows x 12 columns]"
      ]
     },
     "execution_count": 118,
     "metadata": {},
     "output_type": "execute_result"
    }
   ],
   "source": [
    "#creating a separate dataframe for order Ids with multiple orders\n",
    "prod_combos = df[df['Order ID'].duplicated(keep=False)]\n",
    "prod_combos"
   ]
  },
  {
   "cell_type": "code",
   "execution_count": 119,
   "id": "94cafae5",
   "metadata": {
    "execution": {
     "iopub.execute_input": "2022-11-15T19:13:30.007707Z",
     "iopub.status.busy": "2022-11-15T19:13:30.006994Z",
     "iopub.status.idle": "2022-11-15T19:13:30.835687Z",
     "shell.execute_reply": "2022-11-15T19:13:30.834574Z"
    },
    "papermill": {
     "duration": 0.866654,
     "end_time": "2022-11-15T19:13:30.838286",
     "exception": false,
     "start_time": "2022-11-15T19:13:29.971632",
     "status": "completed"
    },
    "tags": []
   },
   "outputs": [
    {
     "data": {
      "text/html": [
       "<div>\n",
       "<style scoped>\n",
       "    .dataframe tbody tr th:only-of-type {\n",
       "        vertical-align: middle;\n",
       "    }\n",
       "\n",
       "    .dataframe tbody tr th {\n",
       "        vertical-align: top;\n",
       "    }\n",
       "\n",
       "    .dataframe thead th {\n",
       "        text-align: right;\n",
       "    }\n",
       "</style>\n",
       "<table border=\"1\" class=\"dataframe\">\n",
       "  <thead>\n",
       "    <tr style=\"text-align: right;\">\n",
       "      <th></th>\n",
       "      <th>Order ID</th>\n",
       "      <th>Combined</th>\n",
       "    </tr>\n",
       "    <tr>\n",
       "      <th>Order Date</th>\n",
       "      <th></th>\n",
       "      <th></th>\n",
       "    </tr>\n",
       "  </thead>\n",
       "  <tbody>\n",
       "    <tr>\n",
       "      <th>2019-04-12 14:38:00</th>\n",
       "      <td>176560</td>\n",
       "      <td>Google Phone, Wired Headphones</td>\n",
       "    </tr>\n",
       "    <tr>\n",
       "      <th>2019-04-03 19:42:00</th>\n",
       "      <td>176574</td>\n",
       "      <td>Google Phone, USB-C Charging Cable</td>\n",
       "    </tr>\n",
       "    <tr>\n",
       "      <th>2019-04-07 11:31:00</th>\n",
       "      <td>176585</td>\n",
       "      <td>Bose SoundSport Headphones, Bose SoundSport He...</td>\n",
       "    </tr>\n",
       "    <tr>\n",
       "      <th>2019-04-10 17:00:00</th>\n",
       "      <td>176586</td>\n",
       "      <td>AAA Batteries (4-pack), Google Phone</td>\n",
       "    </tr>\n",
       "    <tr>\n",
       "      <th>2019-04-12 11:07:00</th>\n",
       "      <td>176672</td>\n",
       "      <td>Lightning Charging Cable, USB-C Charging Cable</td>\n",
       "    </tr>\n",
       "    <tr>\n",
       "      <th>...</th>\n",
       "      <td>...</td>\n",
       "      <td>...</td>\n",
       "    </tr>\n",
       "    <tr>\n",
       "      <th>2019-08-05 09:03:00</th>\n",
       "      <td>248053</td>\n",
       "      <td>AA Batteries (4-pack), 20in Monitor</td>\n",
       "    </tr>\n",
       "    <tr>\n",
       "      <th>2019-08-13 11:42:00</th>\n",
       "      <td>248068</td>\n",
       "      <td>Bose SoundSport Headphones, AA Batteries (4-pack)</td>\n",
       "    </tr>\n",
       "    <tr>\n",
       "      <th>2019-08-13 19:26:00</th>\n",
       "      <td>248088</td>\n",
       "      <td>ThinkPad Laptop, Bose SoundSport Headphones</td>\n",
       "    </tr>\n",
       "    <tr>\n",
       "      <th>2019-08-28 19:27:00</th>\n",
       "      <td>248105</td>\n",
       "      <td>Google Phone, Wired Headphones</td>\n",
       "    </tr>\n",
       "    <tr>\n",
       "      <th>2019-08-02 20:42:00</th>\n",
       "      <td>248120</td>\n",
       "      <td>Google Phone, USB-C Charging Cable</td>\n",
       "    </tr>\n",
       "  </tbody>\n",
       "</table>\n",
       "<p>1178 rows × 2 columns</p>\n",
       "</div>"
      ],
      "text/plain": [
       "                    Order ID  \\\n",
       "Order Date                     \n",
       "2019-04-12 14:38:00   176560   \n",
       "2019-04-03 19:42:00   176574   \n",
       "2019-04-07 11:31:00   176585   \n",
       "2019-04-10 17:00:00   176586   \n",
       "2019-04-12 11:07:00   176672   \n",
       "...                      ...   \n",
       "2019-08-05 09:03:00   248053   \n",
       "2019-08-13 11:42:00   248068   \n",
       "2019-08-13 19:26:00   248088   \n",
       "2019-08-28 19:27:00   248105   \n",
       "2019-08-02 20:42:00   248120   \n",
       "\n",
       "                                                              Combined  \n",
       "Order Date                                                              \n",
       "2019-04-12 14:38:00                     Google Phone, Wired Headphones  \n",
       "2019-04-03 19:42:00                 Google Phone, USB-C Charging Cable  \n",
       "2019-04-07 11:31:00  Bose SoundSport Headphones, Bose SoundSport He...  \n",
       "2019-04-10 17:00:00               AAA Batteries (4-pack), Google Phone  \n",
       "2019-04-12 11:07:00     Lightning Charging Cable, USB-C Charging Cable  \n",
       "...                                                                ...  \n",
       "2019-08-05 09:03:00                AA Batteries (4-pack), 20in Monitor  \n",
       "2019-08-13 11:42:00  Bose SoundSport Headphones, AA Batteries (4-pack)  \n",
       "2019-08-13 19:26:00        ThinkPad Laptop, Bose SoundSport Headphones  \n",
       "2019-08-28 19:27:00                     Google Phone, Wired Headphones  \n",
       "2019-08-02 20:42:00                 Google Phone, USB-C Charging Cable  \n",
       "\n",
       "[1178 rows x 2 columns]"
      ]
     },
     "execution_count": 119,
     "metadata": {},
     "output_type": "execute_result"
    }
   ],
   "source": [
    "#grouping entries by order IDs\n",
    "prod_combos['Combined'] = prod_combos.groupby('Order ID')['Product'].transform(lambda x: ', '.join(x))\n",
    "\n",
    "#dropping duplicates\n",
    "prod_combos = prod_combos[['Order ID', 'Combined']].drop_duplicates()\n",
    "\n",
    "prod_combos"
   ]
  },
  {
   "cell_type": "code",
   "execution_count": 120,
   "id": "87f89fc5",
   "metadata": {
    "execution": {
     "iopub.execute_input": "2022-11-15T19:13:30.908309Z",
     "iopub.status.busy": "2022-11-15T19:13:30.907241Z",
     "iopub.status.idle": "2022-11-15T19:13:30.958570Z",
     "shell.execute_reply": "2022-11-15T19:13:30.957223Z"
    },
    "papermill": {
     "duration": 0.088981,
     "end_time": "2022-11-15T19:13:30.961183",
     "exception": false,
     "start_time": "2022-11-15T19:13:30.872202",
     "status": "completed"
    },
    "tags": []
   },
   "outputs": [
    {
     "data": {
      "text/plain": [
       "[(('iPhone', 'Lightning Charging Cable'), 172),\n",
       " (('Google Phone', 'USB-C Charging Cable'), 167),\n",
       " (('iPhone', 'Wired Headphones'), 65),\n",
       " (('Google Phone', 'Wired Headphones'), 64),\n",
       " (('iPhone', 'Apple Airpods Headphones'), 63),\n",
       " (('Vareebadd Phone', 'USB-C Charging Cable'), 58),\n",
       " (('Google Phone', 'Bose SoundSport Headphones'), 36),\n",
       " (('USB-C Charging Cable', 'Wired Headphones'), 23),\n",
       " (('Vareebadd Phone', 'Wired Headphones'), 22),\n",
       " (('Vareebadd Phone', 'Bose SoundSport Headphones'), 17)]"
      ]
     },
     "execution_count": 120,
     "metadata": {},
     "output_type": "execute_result"
    }
   ],
   "source": [
    "#counting unique pairs of products\n",
    "\n",
    "count = Counter()\n",
    "\n",
    "for row in prod_combos['Combined']:\n",
    "    row_list = row.split(', ')\n",
    "    count.update(Counter(combinations(row_list,2)))\n",
    "\n",
    "count.most_common(10)"
   ]
  },
  {
   "cell_type": "code",
   "execution_count": 121,
   "id": "8c8a7d1c",
   "metadata": {
    "execution": {
     "iopub.execute_input": "2022-11-15T19:13:31.031788Z",
     "iopub.status.busy": "2022-11-15T19:13:31.031360Z",
     "iopub.status.idle": "2022-11-15T19:13:31.078385Z",
     "shell.execute_reply": "2022-11-15T19:13:31.077168Z"
    },
    "papermill": {
     "duration": 0.085419,
     "end_time": "2022-11-15T19:13:31.081146",
     "exception": false,
     "start_time": "2022-11-15T19:13:30.995727",
     "status": "completed"
    },
    "tags": []
   },
   "outputs": [
    {
     "data": {
      "text/plain": [
       "[(('Google Phone', 'USB-C Charging Cable', 'Wired Headphones'), 15),\n",
       " (('iPhone', 'Lightning Charging Cable', 'Apple Airpods Headphones'), 9),\n",
       " (('iPhone', 'Lightning Charging Cable', 'Wired Headphones'), 6),\n",
       " (('Google Phone', 'USB-C Charging Cable', 'Bose SoundSport Headphones'), 5),\n",
       " (('Google Phone', 'Bose SoundSport Headphones', 'Wired Headphones'), 4),\n",
       " (('Vareebadd Phone', 'USB-C Charging Cable', 'Bose SoundSport Headphones'),\n",
       "  3),\n",
       " (('iPhone', 'Apple Airpods Headphones', 'Wired Headphones'), 3),\n",
       " (('iPhone', 'Apple Airpods Headphones', 'AAA Batteries (4-pack)'), 1),\n",
       " (('Google Phone', 'USB-C Charging Cable', 'USB-C Charging Cable'), 1),\n",
       " (('Google Phone', 'Wired Headphones', 'USB-C Charging Cable'), 1)]"
      ]
     },
     "execution_count": 121,
     "metadata": {},
     "output_type": "execute_result"
    }
   ],
   "source": [
    "#counting unique triplets of products\n",
    "\n",
    "count1 = Counter()\n",
    "\n",
    "for row in prod_combos['Combined']:\n",
    "    row_list1 = row.split(', ')\n",
    "    count1.update(Counter(combinations(row_list1,3)))\n",
    "\n",
    "count1.most_common(10)"
   ]
  },
  {
   "cell_type": "markdown",
   "id": "1632ac43",
   "metadata": {
    "papermill": {
     "duration": 0.033898,
     "end_time": "2022-11-15T19:13:31.150028",
     "exception": false,
     "start_time": "2022-11-15T19:13:31.116130",
     "status": "completed"
    },
    "tags": []
   },
   "source": [
    "This gives you insights into what products can be sold together at a certain discount or if a user is viewing a product/has purchased a product, which other products can be shown in recommendations. You can also target people based on this for your advertisements."
   ]
  },
  {
   "cell_type": "markdown",
   "id": "2af08892",
   "metadata": {
    "papermill": {
     "duration": 0.034706,
     "end_time": "2022-11-15T19:13:31.219037",
     "exception": false,
     "start_time": "2022-11-15T19:13:31.184331",
     "status": "completed"
    },
    "tags": []
   },
   "source": [
    "# THE END"
   ]
  },
  {
   "cell_type": "markdown",
   "id": "c92040a8",
   "metadata": {},
   "source": [
    "\n",
    "## Adding ARIMA and SARIMA for Time Series Forecasting\n",
    "\n",
    "This section introduces ARIMA (Auto-Regressive Integrated Moving Average) and SARIMA (Seasonal ARIMA) models for forecasting.\n",
    "We will:\n",
    "1. Check the stationarity of the time series.\n",
    "2. Visualize ACF and PACF plots to determine model parameters.\n",
    "3. Fit ARIMA and optionally SARIMA models to the data.\n",
    "4. Evaluate model performance and forecast future values.\n"
   ]
  },
  {
   "cell_type": "code",
   "execution_count": 122,
   "id": "19020ce2",
   "metadata": {},
   "outputs": [],
   "source": [
    "from statsmodels.tsa.arima.model import ARIMA\n",
    "from statsmodels.tsa.statespace.sarimax import SARIMAX\n",
    "from sklearn.metrics import mean_squared_error\n",
    "from statsmodels.graphics.tsaplots import plot_acf, plot_pacf\n",
    "from math import sqrt\n",
    "import matplotlib.pyplot as plt"
   ]
  },
  {
   "cell_type": "code",
   "execution_count": 123,
   "id": "513e0a3b",
   "metadata": {},
   "outputs": [
    {
     "name": "stdout",
     "output_type": "stream",
     "text": [
      "Index(['Order ID', 'Product', 'Quantity Ordered', 'Price Each',\n",
      "       'Purchase Address', 'Month', 'Day', 'Sales', 'City', 'Hour', 'Week Day',\n",
      "       'Day of Week'],\n",
      "      dtype='object')\n"
     ]
    }
   ],
   "source": [
    "print(df.columns)"
   ]
  },
  {
   "cell_type": "code",
   "execution_count": 124,
   "id": "996d8b31",
   "metadata": {},
   "outputs": [
    {
     "name": "stdout",
     "output_type": "stream",
     "text": [
      "Unique values in Month: [4 5 8 9]\n",
      "Unique values in Day: [19  7 12 30 29  2 24  8 18 15 16 22  4 27  3 28  9 11  5 20 10 21 17  1\n",
      " 26 25 13 14 23  6 31]\n"
     ]
    }
   ],
   "source": [
    "# Display unique values in 'Month' and 'Day'\n",
    "print(\"Unique values in Month:\", df['Month'].unique())\n",
    "print(\"Unique values in Day:\", df['Day'].unique())\n"
   ]
  },
  {
   "cell_type": "code",
   "execution_count": 125,
   "id": "ec0246e6",
   "metadata": {},
   "outputs": [],
   "source": [
    "# Convert 'Month' and 'Day' to numeric, coercing errors to NaN\n",
    "df['Month'] = pd.to_numeric(df['Month'], errors='coerce')\n",
    "df['Day'] = pd.to_numeric(df['Day'], errors='coerce')"
   ]
  },
  {
   "cell_type": "code",
   "execution_count": 126,
   "id": "943fc4f2",
   "metadata": {},
   "outputs": [],
   "source": [
    "# Drop rows where 'Month' or 'Day' are invalid\n",
    "df = df.dropna(subset=['Month', 'Day'])\n",
    "\n",
    "# Ensure 'Month' is within valid range (1-12)\n",
    "df = df[(df['Month'] >= 1) & (df['Month'] <= 12)]\n",
    "\n",
    "# Ensure 'Day' is within valid range (1-31)\n",
    "df = df[(df['Day'] >= 1) & (df['Day'] <= 31)]\n"
   ]
  },
  {
   "cell_type": "code",
   "execution_count": 127,
   "id": "9a89c439",
   "metadata": {},
   "outputs": [],
   "source": [
    "# Create 'Order Date' column using valid 'Month' and 'Day'\n",
    "df['Order Date'] = pd.to_datetime({\n",
    "    'year': 2024,  # Replace with the correct year if necessary\n",
    "    'month': df['Month'].astype(int),\n",
    "    'day': df['Day'].astype(int)\n",
    "})\n"
   ]
  },
  {
   "cell_type": "code",
   "execution_count": 128,
   "id": "7d34fb09",
   "metadata": {},
   "outputs": [],
   "source": [
    "# Set 'Order Date' as the index\n",
    "df = df.set_index('Order Date')\n"
   ]
  },
  {
   "cell_type": "code",
   "execution_count": 129,
   "id": "ff18cea5",
   "metadata": {},
   "outputs": [
    {
     "name": "stdout",
     "output_type": "stream",
     "text": [
      "           Order ID                     Product  Quantity Ordered  Price Each  \\\n",
      "Order Date                                                                      \n",
      "2024-04-19   176558        USB-C Charging Cable                 2       11.95   \n",
      "2024-04-07   176559  Bose SoundSport Headphones                 1       99.99   \n",
      "2024-04-12   176560                Google Phone                 1      600.00   \n",
      "2024-04-12   176560            Wired Headphones                 1       11.99   \n",
      "2024-04-30   176561            Wired Headphones                 1       11.99   \n",
      "\n",
      "                                Purchase Address  Month  Day   Sales  \\\n",
      "Order Date                                                             \n",
      "2024-04-19          917 1st St, Dallas, TX 75001      4   19   23.90   \n",
      "2024-04-07     682 Chestnut St, Boston, MA 02215      4    7   99.99   \n",
      "2024-04-12  669 Spruce St, Los Angeles, CA 90001      4   12  600.00   \n",
      "2024-04-12  669 Spruce St, Los Angeles, CA 90001      4   12   11.99   \n",
      "2024-04-30     333 8th St, Los Angeles, CA 90001      4   30   11.99   \n",
      "\n",
      "                         City  Hour Week Day Day of Week  \n",
      "Order Date                                                \n",
      "2024-04-19        Dallas (TX)     8   Friday      Friday  \n",
      "2024-04-07        Boston (MA)    22   Sunday      Sunday  \n",
      "2024-04-12   Los Angeles (CA)    14   Friday      Friday  \n",
      "2024-04-12   Los Angeles (CA)    14   Friday      Friday  \n",
      "2024-04-30   Los Angeles (CA)     9  Tuesday     Tuesday  \n"
     ]
    }
   ],
   "source": [
    "\n",
    "# Example: DataFrame structure\n",
    "# df = pd.read_csv('your_file.csv')  # Load your dataset\n",
    "\n",
    "# Clean 'Month' and 'Day' columns\n",
    "df['Month'] = pd.to_numeric(df['Month'], errors='coerce')\n",
    "df['Day'] = pd.to_numeric(df['Day'], errors='coerce')\n",
    "\n",
    "# Drop rows with invalid or missing data\n",
    "df = df.dropna(subset=['Month', 'Day'])\n",
    "\n",
    "# Filter for valid month and day ranges\n",
    "df = df[(df['Month'] >= 1) & (df['Month'] <= 12)]\n",
    "df = df[(df['Day'] >= 1) & (df['Day'] <= 31)]\n",
    "\n",
    "# Create 'Order Date' column\n",
    "df['Order Date'] = pd.to_datetime({\n",
    "    'year': 2024,  # Adjust the year as necessary\n",
    "    'month': df['Month'].astype(int),\n",
    "    'day': df['Day'].astype(int)\n",
    "})\n",
    "\n",
    "# Set 'Order Date' as index\n",
    "df = df.set_index('Order Date')\n",
    "\n",
    "# Confirm the changes\n",
    "print(df.head())\n"
   ]
  },
  {
   "cell_type": "code",
   "execution_count": 130,
   "id": "1733fd72",
   "metadata": {},
   "outputs": [
    {
     "name": "stdout",
     "output_type": "stream",
     "text": [
      "Order Date\n",
      "2024-04-01    107527.34\n",
      "2024-04-02    104496.71\n",
      "2024-04-03    113611.75\n",
      "2024-04-04    116214.99\n",
      "2024-04-05    114012.88\n",
      "Freq: D, Name: Sales, dtype: float64\n"
     ]
    }
   ],
   "source": [
    "# Aggregate sales data by date if not already aggregated\n",
    "df_daily = df['Sales'].resample('D').sum()\n",
    "\n",
    "# Inspect the time series\n",
    "print(df_daily.head())\n",
    "\n",
    "# Check for missing dates and fill if necessary\n",
    "df_daily = df_daily.asfreq('D').fillna(0)"
   ]
  },
  {
   "cell_type": "code",
   "execution_count": 131,
   "id": "1d4970d5",
   "metadata": {},
   "outputs": [
    {
     "name": "stdout",
     "output_type": "stream",
     "text": [
      "ADF Statistic: -2.0715330270289365\n",
      "p-value: 0.25611427002135867\n",
      "Data is non-stationary. Differencing might be required.\n"
     ]
    }
   ],
   "source": [
    "from statsmodels.tsa.stattools import adfuller\n",
    "\n",
    "result = adfuller(df_daily)\n",
    "print('ADF Statistic:', result[0])\n",
    "print('p-value:', result[1])\n",
    "if result[1] > 0.05:\n",
    "    print(\"Data is non-stationary. Differencing might be required.\")\n",
    "else:\n",
    "    print(\"Data is stationary.\")"
   ]
  },
  {
   "cell_type": "code",
   "execution_count": 132,
   "id": "b804300d",
   "metadata": {},
   "outputs": [],
   "source": [
    "# Differencing to make the series stationary\n",
    "df_stationary = df_daily.diff().dropna()"
   ]
  },
  {
   "cell_type": "code",
   "execution_count": 133,
   "id": "0d25a765",
   "metadata": {},
   "outputs": [],
   "source": [
    "# Split data\n",
    "train_size = int(len(df_daily) * 0.8)\n",
    "train, test = df_daily[:train_size], df_daily[train_size:]"
   ]
  },
  {
   "cell_type": "code",
   "execution_count": 134,
   "id": "1460b2ef",
   "metadata": {},
   "outputs": [
    {
     "name": "stdout",
     "output_type": "stream",
     "text": [
      "                               SARIMAX Results                                \n",
      "==============================================================================\n",
      "Dep. Variable:                  Sales   No. Observations:                  123\n",
      "Model:                 ARIMA(1, 1, 1)   Log Likelihood               -1329.357\n",
      "Date:                Mon, 03 Mar 2025   AIC                           2664.713\n",
      "Time:                        22:05:25   BIC                           2673.125\n",
      "Sample:                    04-01-2024   HQIC                          2668.130\n",
      "                         - 08-01-2024                                         \n",
      "Covariance Type:                  opg                                         \n",
      "==============================================================================\n",
      "                 coef    std err          z      P>|z|      [0.025      0.975]\n",
      "------------------------------------------------------------------------------\n",
      "ar.L1         -0.8899      0.057    -15.688      0.000      -1.001      -0.779\n",
      "ma.L1          0.9980      0.066     15.014      0.000       0.868       1.128\n",
      "sigma2      1.748e+08    4.6e-10    3.8e+17      0.000    1.75e+08    1.75e+08\n",
      "===================================================================================\n",
      "Ljung-Box (L1) (Q):                   0.13   Jarque-Bera (JB):              5236.03\n",
      "Prob(Q):                              0.72   Prob(JB):                         0.00\n",
      "Heteroskedasticity (H):               0.31   Skew:                            -2.27\n",
      "Prob(H) (two-sided):                  0.00   Kurtosis:                        34.77\n",
      "===================================================================================\n",
      "\n",
      "Warnings:\n",
      "[1] Covariance matrix calculated using the outer product of gradients (complex-step).\n",
      "[2] Covariance matrix is singular or near-singular, with condition number 2.84e+32. Standard errors may be unstable.\n"
     ]
    }
   ],
   "source": [
    "from statsmodels.tsa.arima.model import ARIMA\n",
    "\n",
    "# Define ARIMA model (example p=1, d=1, q=1)\n",
    "arima_model = ARIMA(train, order=(1, 1, 1))\n",
    "\n",
    "# Fit the model\n",
    "arima_fitted = arima_model.fit()\n",
    "\n",
    "# Print summary\n",
    "print(arima_fitted.summary())\n"
   ]
  },
  {
   "cell_type": "code",
   "execution_count": 135,
   "id": "6693d1b2",
   "metadata": {},
   "outputs": [
    {
     "data": {
      "image/png": "[encoded data removed]",
      "text/plain": [
       "<Figure size 1000x600 with 1 Axes>"
      ]
     },
     "metadata": {},
     "output_type": "display_data"
    }
   ],
   "source": [
    "# Forecast on test set\n",
    "forecast = arima_fitted.forecast(steps=len(test))\n",
    "\n",
    "# Plot actual vs forecast\n",
    "import matplotlib.pyplot as plt\n",
    "\n",
    "plt.figure(figsize=(10, 6))\n",
    "plt.plot(test.index, test, label='Actual')\n",
    "plt.plot(test.index, forecast, label='Forecast', color='red')\n",
    "plt.legend()\n",
    "plt.title(\"ARIMA Forecast\")\n",
    "plt.show()\n"
   ]
  },
  {
   "cell_type": "code",
   "execution_count": 136,
   "id": "03f24b26",
   "metadata": {},
   "outputs": [
    {
     "name": "stdout",
     "output_type": "stream",
     "text": [
      "RUNNING THE L-BFGS-B CODE\n",
      "\n",
      "           * * *\n",
      "\n",
      "Machine precision = 2.220D-16\n",
      " N =            5     M =           10\n",
      "\n",
      "At X0         0 variables are exactly at the bounds\n",
      "\n",
      "At iterate    0    f=  1.04046D+01    |proj g|=  7.01731D-02\n",
      "\n",
      "At iterate    5    f=  1.03744D+01    |proj g|=  1.42638D-02\n",
      "\n",
      "At iterate   10    f=  1.03729D+01    |proj g|=  1.66381D-03\n",
      "\n",
      "At iterate   15    f=  1.03728D+01    |proj g|=  1.82956D-05\n",
      "\n",
      "           * * *\n",
      "\n",
      "Tit   = total number of iterations\n",
      "Tnf   = total number of function evaluations\n",
      "Tnint = total number of segments explored during Cauchy searches\n",
      "Skip  = number of BFGS updates skipped\n",
      "Nact  = number of active bounds at final generalized Cauchy point\n",
      "Projg = norm of the final projected gradient\n",
      "F     = final function value\n",
      "\n",
      "           * * *\n",
      "\n",
      "   N    Tit     Tnf  Tnint  Skip  Nact     Projg        F\n",
      "    5     15     17      1     0     0   1.830D-05   1.037D+01\n",
      "  F =   10.372782796855940     \n",
      "\n",
      "CONVERGENCE: REL_REDUCTION_OF_F_<=_FACTR*EPSMCH             \n",
      "                                     SARIMAX Results                                     \n",
      "=========================================================================================\n",
      "Dep. Variable:                             Sales   No. Observations:                  123\n",
      "Model:             SARIMAX(1, 1, 1)x(1, 1, 1, 7)   Log Likelihood               -1275.852\n",
      "Date:                           Mon, 03 Mar 2025   AIC                           2561.705\n",
      "Time:                                   22:05:25   BIC                           2575.429\n",
      "Sample:                               04-01-2024   HQIC                          2567.275\n",
      "                                    - 08-01-2024                                         \n",
      "Covariance Type:                             opg                                         \n",
      "==============================================================================\n",
      "                 coef    std err          z      P>|z|      [0.025      0.975]\n",
      "------------------------------------------------------------------------------\n",
      "ar.L1          0.3012      4.491      0.067      0.947      -8.501       9.103\n",
      "ma.L1         -0.3519      4.464     -0.079      0.937      -9.101       8.398\n",
      "ar.S.L7        0.0289      0.158      0.183      0.855      -0.281       0.339\n",
      "ma.S.L7       -0.8217      0.144     -5.696      0.000      -1.105      -0.539\n",
      "sigma2      3.541e+08   1.81e-07   1.96e+15      0.000    3.54e+08    3.54e+08\n",
      "===================================================================================\n",
      "Ljung-Box (L1) (Q):                   0.26   Jarque-Bera (JB):              5496.75\n",
      "Prob(Q):                              0.61   Prob(JB):                         0.00\n",
      "Heteroskedasticity (H):               0.25   Skew:                            -3.35\n",
      "Prob(H) (two-sided):                  0.00   Kurtosis:                        36.20\n",
      "===================================================================================\n",
      "\n",
      "Warnings:\n",
      "[1] Covariance matrix calculated using the outer product of gradients (complex-step).\n",
      "[2] Covariance matrix is singular or near-singular, with condition number 7.84e+30. Standard errors may be unstable.\n"
     ]
    },
    {
     "name": "stderr",
     "output_type": "stream",
     "text": [
      " This problem is unconstrained.\n"
     ]
    }
   ],
   "source": [
    "from statsmodels.tsa.statespace.sarimax import SARIMAX\n",
    "\n",
    "# Define SARIMA model (example p=1, d=1, q=1, seasonal (1,1,1,7))\n",
    "sarima_model = SARIMAX(train, order=(1, 1, 1), seasonal_order=(1, 1, 1, 7))\n",
    "\n",
    "# Fit the model\n",
    "sarima_fitted = sarima_model.fit()\n",
    "\n",
    "# Print summary\n",
    "print(sarima_fitted.summary())\n"
   ]
  },
  {
   "cell_type": "code",
   "execution_count": 137,
   "id": "2d5d6bd1",
   "metadata": {},
   "outputs": [
    {
     "data": {
      "image/png": "[encoded data removed]",
      "text/plain": [
       "<Figure size 1000x600 with 1 Axes>"
      ]
     },
     "metadata": {},
     "output_type": "display_data"
    }
   ],
   "source": [
    "# Forecast on test set\n",
    "sarima_forecast = sarima_fitted.forecast(steps=len(test))\n",
    "\n",
    "# Plot actual vs forecast\n",
    "plt.figure(figsize=(10, 6))\n",
    "plt.plot(test.index, test, label='Actual')\n",
    "plt.plot(test.index, sarima_forecast, label='SARIMA Forecast', color='green')\n",
    "plt.legend()\n",
    "plt.title(\"SARIMA Forecast\")\n",
    "plt.show()\n"
   ]
  },
  {
   "cell_type": "code",
   "execution_count": 139,
   "id": "0de9c3db",
   "metadata": {},
   "outputs": [
    {
     "name": "stdout",
     "output_type": "stream",
     "text": [
      "ARIMA MAE: 8741.125865546379 RMSE: 15278.54353373948\n",
      "SARIMA MAE: 22585.3678998584 RMSE: 30111.54772371819\n"
     ]
    }
   ],
   "source": [
    "from sklearn.metrics import mean_absolute_error, mean_squared_error\n",
    "import numpy as np\n",
    "\n",
    "# Calculate MAE and RMSE for ARIMA\n",
    "mae_arima = mean_absolute_error(test, forecast)\n",
    "rmse_arima = np.sqrt(mean_squared_error(test, forecast))\n",
    "\n",
    "# Calculate MAE and RMSE for SARIMA\n",
    "mae_sarima = mean_absolute_error(test, sarima_forecast)\n",
    "rmse_sarima = np.sqrt(mean_squared_error(test, sarima_forecast))\n",
    "\n",
    "print(\"ARIMA MAE:\", mae_arima, \"RMSE:\", rmse_arima)\n",
    "print(\"SARIMA MAE:\", mae_sarima, \"RMSE:\", rmse_sarima)\n"
   ]
  }
 ],
 "metadata": {
  "kernelspec": {
   "display_name": "Python 3 (ipykernel)",
   "language": "python",
   "name": "python3"
  },
  "language_info": {
   "codemirror_mode": {
    "name": "ipython",
    "version": 3
   },
   "file_extension": ".py",
   "mimetype": "text/x-python",
   "name": "python",
   "nbconvert_exporter": "python",
   "pygments_lexer": "ipython3",
   "version": "3.11.5"
  },
  "papermill": {
   "default_parameters": {},
   "duration": 53.396675,
   "end_time": "2022-11-15T19:13:31.976345",
   "environment_variables": {},
   "exception": null,
   "input_path": "__notebook__.ipynb",
   "output_path": "__notebook__.ipynb",
   "parameters": {},
   "start_time": "2022-11-15T19:12:38.579670",
   "version": "2.3.4"
  }
 },
 "nbformat": 4,
 "nbformat_minor": 5
}
